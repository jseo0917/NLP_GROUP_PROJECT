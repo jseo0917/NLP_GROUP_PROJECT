{
  "cells": [
    {
      "cell_type": "code",
      "source": [
        "from typing import List\n",
        "import os\n",
        "import json\n",
        "import ast\n",
        "import pandas as pd\n",
        "import csv\n",
        "import argparse\n",
        "import pickle\n",
        "from transformers import pipeline\n",
        "import seaborn as sns\n",
        "import matplotlib.pyplot as plt\n",
        "import nltk\n",
        "import numpy as np\n",
        "!pip install -q gwpy\n",
        "!pip install rouge\n",
        "nltk.download('punkt')\n",
        "nltk.download('stopwords')\n",
        "from rouge import Rouge\n",
        "from nltk.corpus import stopwords\n",
        "from nltk.tokenize import word_tokenize"
      ],
      "metadata": {
        "colab": {
          "base_uri": "https://localhost:8080/"
        },
        "id": "47vCQKqxjVE3",
        "outputId": "5c20211d-7155-48d0-cdf6-8fa4bb01e07a"
      },
      "execution_count": 100,
      "outputs": [
        {
          "output_type": "stream",
          "name": "stdout",
          "text": [
            "Looking in indexes: https://pypi.org/simple, https://us-python.pkg.dev/colab-wheels/public/simple/\n",
            "Requirement already satisfied: rouge in /usr/local/lib/python3.7/dist-packages (1.0.1)\n",
            "Requirement already satisfied: six in /usr/local/lib/python3.7/dist-packages (from rouge) (1.15.0)\n"
          ]
        },
        {
          "output_type": "stream",
          "name": "stderr",
          "text": [
            "[nltk_data] Downloading package punkt to /root/nltk_data...\n",
            "[nltk_data]   Package punkt is already up-to-date!\n",
            "[nltk_data] Downloading package stopwords to /root/nltk_data...\n",
            "[nltk_data]   Package stopwords is already up-to-date!\n"
          ]
        }
      ]
    },
    {
      "cell_type": "code",
      "source": [
        "from google.colab import drive\n",
        "drive.mount('/content/drive')"
      ],
      "metadata": {
        "colab": {
          "base_uri": "https://localhost:8080/"
        },
        "id": "4xIH7sOluxvg",
        "outputId": "8e5dee81-9cbd-419b-f70a-4d9173829a90"
      },
      "execution_count": 2,
      "outputs": [
        {
          "output_type": "stream",
          "name": "stdout",
          "text": [
            "Drive already mounted at /content/drive; to attempt to forcibly remount, call drive.mount(\"/content/drive\", force_remount=True).\n"
          ]
        }
      ]
    },
    {
      "cell_type": "markdown",
      "source": [
        "### Read csv files"
      ],
      "metadata": {
        "id": "2QzLfjCRkBet"
      }
    },
    {
      "cell_type": "code",
      "source": [
        "curr_path = os.getcwd()\n",
        "\n",
        "# Path to twcs.csv File\n",
        "twcs = pd.read_csv(curr_path + '/drive/MyDrive/twcs.csv')"
      ],
      "metadata": {
        "id": "RJ6fkVCHkEBt"
      },
      "execution_count": 3,
      "outputs": []
    },
    {
      "cell_type": "code",
      "source": [
        "twcs.head(5)"
      ],
      "metadata": {
        "colab": {
          "base_uri": "https://localhost:8080/",
          "height": 206
        },
        "id": "1F8tMtwnCkan",
        "outputId": "ddf7844f-f81b-4146-b285-3b26f9c5459f"
      },
      "execution_count": 37,
      "outputs": [
        {
          "output_type": "execute_result",
          "data": {
            "text/plain": [
              "   tweet_id   author_id  inbound                      created_at  \\\n",
              "0         1  sprintcare    False  Tue Oct 31 22:10:47 +0000 2017   \n",
              "1         2      115712     True  Tue Oct 31 22:11:45 +0000 2017   \n",
              "2         3      115712     True  Tue Oct 31 22:08:27 +0000 2017   \n",
              "3         4  sprintcare    False  Tue Oct 31 21:54:49 +0000 2017   \n",
              "4         5      115712     True  Tue Oct 31 21:49:35 +0000 2017   \n",
              "\n",
              "                                                text response_tweet_id  \\\n",
              "0  @115712 I understand. I would like to assist y...                 2   \n",
              "1      @sprintcare and how do you propose we do that               NaN   \n",
              "2  @sprintcare I have sent several private messag...                 1   \n",
              "3  @115712 Please send us a Private Message so th...                 3   \n",
              "4                                 @sprintcare I did.                 4   \n",
              "\n",
              "   in_response_to_tweet_id  \n",
              "0                      3.0  \n",
              "1                      1.0  \n",
              "2                      4.0  \n",
              "3                      5.0  \n",
              "4                      6.0  "
            ],
            "text/html": [
              "\n",
              "  <div id=\"df-4c465de3-cb8b-4cdd-ac0f-6b1e5b14c27b\">\n",
              "    <div class=\"colab-df-container\">\n",
              "      <div>\n",
              "<style scoped>\n",
              "    .dataframe tbody tr th:only-of-type {\n",
              "        vertical-align: middle;\n",
              "    }\n",
              "\n",
              "    .dataframe tbody tr th {\n",
              "        vertical-align: top;\n",
              "    }\n",
              "\n",
              "    .dataframe thead th {\n",
              "        text-align: right;\n",
              "    }\n",
              "</style>\n",
              "<table border=\"1\" class=\"dataframe\">\n",
              "  <thead>\n",
              "    <tr style=\"text-align: right;\">\n",
              "      <th></th>\n",
              "      <th>tweet_id</th>\n",
              "      <th>author_id</th>\n",
              "      <th>inbound</th>\n",
              "      <th>created_at</th>\n",
              "      <th>text</th>\n",
              "      <th>response_tweet_id</th>\n",
              "      <th>in_response_to_tweet_id</th>\n",
              "    </tr>\n",
              "  </thead>\n",
              "  <tbody>\n",
              "    <tr>\n",
              "      <th>0</th>\n",
              "      <td>1</td>\n",
              "      <td>sprintcare</td>\n",
              "      <td>False</td>\n",
              "      <td>Tue Oct 31 22:10:47 +0000 2017</td>\n",
              "      <td>@115712 I understand. I would like to assist y...</td>\n",
              "      <td>2</td>\n",
              "      <td>3.0</td>\n",
              "    </tr>\n",
              "    <tr>\n",
              "      <th>1</th>\n",
              "      <td>2</td>\n",
              "      <td>115712</td>\n",
              "      <td>True</td>\n",
              "      <td>Tue Oct 31 22:11:45 +0000 2017</td>\n",
              "      <td>@sprintcare and how do you propose we do that</td>\n",
              "      <td>NaN</td>\n",
              "      <td>1.0</td>\n",
              "    </tr>\n",
              "    <tr>\n",
              "      <th>2</th>\n",
              "      <td>3</td>\n",
              "      <td>115712</td>\n",
              "      <td>True</td>\n",
              "      <td>Tue Oct 31 22:08:27 +0000 2017</td>\n",
              "      <td>@sprintcare I have sent several private messag...</td>\n",
              "      <td>1</td>\n",
              "      <td>4.0</td>\n",
              "    </tr>\n",
              "    <tr>\n",
              "      <th>3</th>\n",
              "      <td>4</td>\n",
              "      <td>sprintcare</td>\n",
              "      <td>False</td>\n",
              "      <td>Tue Oct 31 21:54:49 +0000 2017</td>\n",
              "      <td>@115712 Please send us a Private Message so th...</td>\n",
              "      <td>3</td>\n",
              "      <td>5.0</td>\n",
              "    </tr>\n",
              "    <tr>\n",
              "      <th>4</th>\n",
              "      <td>5</td>\n",
              "      <td>115712</td>\n",
              "      <td>True</td>\n",
              "      <td>Tue Oct 31 21:49:35 +0000 2017</td>\n",
              "      <td>@sprintcare I did.</td>\n",
              "      <td>4</td>\n",
              "      <td>6.0</td>\n",
              "    </tr>\n",
              "  </tbody>\n",
              "</table>\n",
              "</div>\n",
              "      <button class=\"colab-df-convert\" onclick=\"convertToInteractive('df-4c465de3-cb8b-4cdd-ac0f-6b1e5b14c27b')\"\n",
              "              title=\"Convert this dataframe to an interactive table.\"\n",
              "              style=\"display:none;\">\n",
              "        \n",
              "  <svg xmlns=\"http://www.w3.org/2000/svg\" height=\"24px\"viewBox=\"0 0 24 24\"\n",
              "       width=\"24px\">\n",
              "    <path d=\"M0 0h24v24H0V0z\" fill=\"none\"/>\n",
              "    <path d=\"M18.56 5.44l.94 2.06.94-2.06 2.06-.94-2.06-.94-.94-2.06-.94 2.06-2.06.94zm-11 1L8.5 8.5l.94-2.06 2.06-.94-2.06-.94L8.5 2.5l-.94 2.06-2.06.94zm10 10l.94 2.06.94-2.06 2.06-.94-2.06-.94-.94-2.06-.94 2.06-2.06.94z\"/><path d=\"M17.41 7.96l-1.37-1.37c-.4-.4-.92-.59-1.43-.59-.52 0-1.04.2-1.43.59L10.3 9.45l-7.72 7.72c-.78.78-.78 2.05 0 2.83L4 21.41c.39.39.9.59 1.41.59.51 0 1.02-.2 1.41-.59l7.78-7.78 2.81-2.81c.8-.78.8-2.07 0-2.86zM5.41 20L4 18.59l7.72-7.72 1.47 1.35L5.41 20z\"/>\n",
              "  </svg>\n",
              "      </button>\n",
              "      \n",
              "  <style>\n",
              "    .colab-df-container {\n",
              "      display:flex;\n",
              "      flex-wrap:wrap;\n",
              "      gap: 12px;\n",
              "    }\n",
              "\n",
              "    .colab-df-convert {\n",
              "      background-color: #E8F0FE;\n",
              "      border: none;\n",
              "      border-radius: 50%;\n",
              "      cursor: pointer;\n",
              "      display: none;\n",
              "      fill: #1967D2;\n",
              "      height: 32px;\n",
              "      padding: 0 0 0 0;\n",
              "      width: 32px;\n",
              "    }\n",
              "\n",
              "    .colab-df-convert:hover {\n",
              "      background-color: #E2EBFA;\n",
              "      box-shadow: 0px 1px 2px rgba(60, 64, 67, 0.3), 0px 1px 3px 1px rgba(60, 64, 67, 0.15);\n",
              "      fill: #174EA6;\n",
              "    }\n",
              "\n",
              "    [theme=dark] .colab-df-convert {\n",
              "      background-color: #3B4455;\n",
              "      fill: #D2E3FC;\n",
              "    }\n",
              "\n",
              "    [theme=dark] .colab-df-convert:hover {\n",
              "      background-color: #434B5C;\n",
              "      box-shadow: 0px 1px 3px 1px rgba(0, 0, 0, 0.15);\n",
              "      filter: drop-shadow(0px 1px 2px rgba(0, 0, 0, 0.3));\n",
              "      fill: #FFFFFF;\n",
              "    }\n",
              "  </style>\n",
              "\n",
              "      <script>\n",
              "        const buttonEl =\n",
              "          document.querySelector('#df-4c465de3-cb8b-4cdd-ac0f-6b1e5b14c27b button.colab-df-convert');\n",
              "        buttonEl.style.display =\n",
              "          google.colab.kernel.accessAllowed ? 'block' : 'none';\n",
              "\n",
              "        async function convertToInteractive(key) {\n",
              "          const element = document.querySelector('#df-4c465de3-cb8b-4cdd-ac0f-6b1e5b14c27b');\n",
              "          const dataTable =\n",
              "            await google.colab.kernel.invokeFunction('convertToInteractive',\n",
              "                                                     [key], {});\n",
              "          if (!dataTable) return;\n",
              "\n",
              "          const docLinkHtml = 'Like what you see? Visit the ' +\n",
              "            '<a target=\"_blank\" href=https://colab.research.google.com/notebooks/data_table.ipynb>data table notebook</a>'\n",
              "            + ' to learn more about interactive tables.';\n",
              "          element.innerHTML = '';\n",
              "          dataTable['output_type'] = 'display_data';\n",
              "          await google.colab.output.renderOutput(dataTable, element);\n",
              "          const docLink = document.createElement('div');\n",
              "          docLink.innerHTML = docLinkHtml;\n",
              "          element.appendChild(docLink);\n",
              "        }\n",
              "      </script>\n",
              "    </div>\n",
              "  </div>\n",
              "  "
            ]
          },
          "metadata": {},
          "execution_count": 37
        }
      ]
    },
    {
      "cell_type": "markdown",
      "source": [
        "### Creating a dictionary for tweet Data\n"
      ],
      "metadata": {
        "id": "XnJgtUaN7PJ2"
      }
    },
    {
      "cell_type": "code",
      "source": [
        "twcs_dict = {}\n",
        "for i in range(len(twcs)):\n",
        "    twcs_dict[twcs.iloc[i]['tweet_id']] = [twcs.iloc[i]['author_id'], twcs.iloc[i]['text']]    "
      ],
      "metadata": {
        "id": "-GkT3CGkpK7H"
      },
      "execution_count": 67,
      "outputs": []
    },
    {
      "cell_type": "markdown",
      "source": [
        "### Store the twcs dictionary variable (Optional)\n",
        "Store twcs_dict variable if you need since it takes a long time to rerun the code."
      ],
      "metadata": {
        "id": "-amp9jho7tuz"
      }
    },
    {
      "cell_type": "code",
      "source": [
        "# Store the dictionary variable \n",
        "f_twcs_dict = open('twcs_dict.pckl', 'wb')\n",
        "pickle.dump(twcs_dict, f_twcs_dict)\n",
        "f_twcs_dict.close()"
      ],
      "metadata": {
        "id": "k_30HbIhwz4h"
      },
      "execution_count": 5,
      "outputs": []
    },
    {
      "cell_type": "code",
      "source": [
        "# Get twcs_dict data from the following link if you need it \n",
        "# https://drive.google.com/file/d/1uX5vS3n5eICIZjvJLSusue8Euw7JuXSM/view?usp=share_link\n",
        "# f_twcs_dict = open(curr_path + '/drive/MyDrive/twcs_dict.pckl', 'rb')\n",
        "# twcs_dict = pickle.load(f_twcs_dict)"
      ],
      "metadata": {
        "id": "-XhqJEmnyVFC"
      },
      "execution_count": 21,
      "outputs": []
    },
    {
      "cell_type": "markdown",
      "source": [
        "## Get dialogs with summaries"
      ],
      "metadata": {
        "id": "KLXTyG6uzPQx"
      }
    },
    {
      "cell_type": "code",
      "source": [
        "def get_dialog_with_summaries(TWEETSUM_JSON_FILE_PATH):\n",
        "  with open(TWEETSUM_JSON_FILE_PATH, 'r') as json_file:\n",
        "    test_data = [json.loads(line) for line in json_file]\n",
        "\n",
        "  parsed = []\n",
        "\n",
        "  for t in test_data:    \n",
        "      anno = t['annotations']    \n",
        "      for a in anno:      \n",
        "          abst = a['abstractive']\n",
        "          tweets = a['extractive']\n",
        "          if tweets is not None:\n",
        "              dialog = []\n",
        "              for t in tweets:                    \n",
        "                  dialog.append(twcs_dict[t['tweet_id']][0] + \": \" + twcs_dict[t['tweet_id']][1] + \"\\n\")        \n",
        "              parsed.append([\"\".join(dialog), \" \".join(abst)])\n",
        "\n",
        "  return parsed\n",
        "\n",
        "# TWEETSUM_JSON_FILE_PATH = curr_path + \"/final_train_tweetsum.jsonl\"\n",
        "# TWEETSUM_JSON_FILE_PATH = curr_path + \"/final_valid_tweetsum.jsonl\"\n",
        "TWEETSUM_JSON_FILE_PATH = curr_path + \"/final_test_tweetsum.jsonl\"\n",
        "\n",
        "TEST_DATA_parsed = get_dialog_with_summaries(TWEETSUM_JSON_FILE_PATH)"
      ],
      "metadata": {
        "id": "y0PEsLvEorJn"
      },
      "execution_count": 30,
      "outputs": []
    },
    {
      "cell_type": "code",
      "source": [
        "test_parsed = pd.DataFrame(TEST_DATA_parsed, columns=['dialog', 'summary'])"
      ],
      "metadata": {
        "id": "QtF6q38P0GlR"
      },
      "execution_count": 31,
      "outputs": []
    },
    {
      "cell_type": "code",
      "source": [
        "test_parsed.head(1)"
      ],
      "metadata": {
        "colab": {
          "base_uri": "https://localhost:8080/",
          "height": 81
        },
        "id": "qsxlwCrS0JQ3",
        "outputId": "77ec25a1-9a1d-49da-86e8-f816dab82e75"
      },
      "execution_count": 32,
      "outputs": [
        {
          "output_type": "execute_result",
          "data": {
            "text/plain": [
              "                                              dialog  \\\n",
              "0  658975: @hulu_support My watchlist is not upda...   \n",
              "\n",
              "                                             summary  \n",
              "0  Customer is complaining that the watchlist is ...  "
            ],
            "text/html": [
              "\n",
              "  <div id=\"df-3ac62a7b-1503-4dcc-92b6-ae9d96d61c0c\">\n",
              "    <div class=\"colab-df-container\">\n",
              "      <div>\n",
              "<style scoped>\n",
              "    .dataframe tbody tr th:only-of-type {\n",
              "        vertical-align: middle;\n",
              "    }\n",
              "\n",
              "    .dataframe tbody tr th {\n",
              "        vertical-align: top;\n",
              "    }\n",
              "\n",
              "    .dataframe thead th {\n",
              "        text-align: right;\n",
              "    }\n",
              "</style>\n",
              "<table border=\"1\" class=\"dataframe\">\n",
              "  <thead>\n",
              "    <tr style=\"text-align: right;\">\n",
              "      <th></th>\n",
              "      <th>dialog</th>\n",
              "      <th>summary</th>\n",
              "    </tr>\n",
              "  </thead>\n",
              "  <tbody>\n",
              "    <tr>\n",
              "      <th>0</th>\n",
              "      <td>658975: @hulu_support My watchlist is not upda...</td>\n",
              "      <td>Customer is complaining that the watchlist is ...</td>\n",
              "    </tr>\n",
              "  </tbody>\n",
              "</table>\n",
              "</div>\n",
              "      <button class=\"colab-df-convert\" onclick=\"convertToInteractive('df-3ac62a7b-1503-4dcc-92b6-ae9d96d61c0c')\"\n",
              "              title=\"Convert this dataframe to an interactive table.\"\n",
              "              style=\"display:none;\">\n",
              "        \n",
              "  <svg xmlns=\"http://www.w3.org/2000/svg\" height=\"24px\"viewBox=\"0 0 24 24\"\n",
              "       width=\"24px\">\n",
              "    <path d=\"M0 0h24v24H0V0z\" fill=\"none\"/>\n",
              "    <path d=\"M18.56 5.44l.94 2.06.94-2.06 2.06-.94-2.06-.94-.94-2.06-.94 2.06-2.06.94zm-11 1L8.5 8.5l.94-2.06 2.06-.94-2.06-.94L8.5 2.5l-.94 2.06-2.06.94zm10 10l.94 2.06.94-2.06 2.06-.94-2.06-.94-.94-2.06-.94 2.06-2.06.94z\"/><path d=\"M17.41 7.96l-1.37-1.37c-.4-.4-.92-.59-1.43-.59-.52 0-1.04.2-1.43.59L10.3 9.45l-7.72 7.72c-.78.78-.78 2.05 0 2.83L4 21.41c.39.39.9.59 1.41.59.51 0 1.02-.2 1.41-.59l7.78-7.78 2.81-2.81c.8-.78.8-2.07 0-2.86zM5.41 20L4 18.59l7.72-7.72 1.47 1.35L5.41 20z\"/>\n",
              "  </svg>\n",
              "      </button>\n",
              "      \n",
              "  <style>\n",
              "    .colab-df-container {\n",
              "      display:flex;\n",
              "      flex-wrap:wrap;\n",
              "      gap: 12px;\n",
              "    }\n",
              "\n",
              "    .colab-df-convert {\n",
              "      background-color: #E8F0FE;\n",
              "      border: none;\n",
              "      border-radius: 50%;\n",
              "      cursor: pointer;\n",
              "      display: none;\n",
              "      fill: #1967D2;\n",
              "      height: 32px;\n",
              "      padding: 0 0 0 0;\n",
              "      width: 32px;\n",
              "    }\n",
              "\n",
              "    .colab-df-convert:hover {\n",
              "      background-color: #E2EBFA;\n",
              "      box-shadow: 0px 1px 2px rgba(60, 64, 67, 0.3), 0px 1px 3px 1px rgba(60, 64, 67, 0.15);\n",
              "      fill: #174EA6;\n",
              "    }\n",
              "\n",
              "    [theme=dark] .colab-df-convert {\n",
              "      background-color: #3B4455;\n",
              "      fill: #D2E3FC;\n",
              "    }\n",
              "\n",
              "    [theme=dark] .colab-df-convert:hover {\n",
              "      background-color: #434B5C;\n",
              "      box-shadow: 0px 1px 3px 1px rgba(0, 0, 0, 0.15);\n",
              "      filter: drop-shadow(0px 1px 2px rgba(0, 0, 0, 0.3));\n",
              "      fill: #FFFFFF;\n",
              "    }\n",
              "  </style>\n",
              "\n",
              "      <script>\n",
              "        const buttonEl =\n",
              "          document.querySelector('#df-3ac62a7b-1503-4dcc-92b6-ae9d96d61c0c button.colab-df-convert');\n",
              "        buttonEl.style.display =\n",
              "          google.colab.kernel.accessAllowed ? 'block' : 'none';\n",
              "\n",
              "        async function convertToInteractive(key) {\n",
              "          const element = document.querySelector('#df-3ac62a7b-1503-4dcc-92b6-ae9d96d61c0c');\n",
              "          const dataTable =\n",
              "            await google.colab.kernel.invokeFunction('convertToInteractive',\n",
              "                                                     [key], {});\n",
              "          if (!dataTable) return;\n",
              "\n",
              "          const docLinkHtml = 'Like what you see? Visit the ' +\n",
              "            '<a target=\"_blank\" href=https://colab.research.google.com/notebooks/data_table.ipynb>data table notebook</a>'\n",
              "            + ' to learn more about interactive tables.';\n",
              "          element.innerHTML = '';\n",
              "          dataTable['output_type'] = 'display_data';\n",
              "          await google.colab.output.renderOutput(dataTable, element);\n",
              "          const docLink = document.createElement('div');\n",
              "          docLink.innerHTML = docLinkHtml;\n",
              "          element.appendChild(docLink);\n",
              "        }\n",
              "      </script>\n",
              "    </div>\n",
              "  </div>\n",
              "  "
            ]
          },
          "metadata": {},
          "execution_count": 32
        }
      ]
    },
    {
      "cell_type": "code",
      "source": [
        "test_parsed.to_csv('./twcs_test.csv')"
      ],
      "metadata": {
        "id": "vGmT3JdB0MTs"
      },
      "execution_count": 33,
      "outputs": []
    },
    {
      "cell_type": "markdown",
      "source": [
        "### Creating a summarization"
      ],
      "metadata": {
        "id": "v7UVj0CQ-b3E"
      }
    },
    {
      "cell_type": "code",
      "source": [
        "def run_summarizer(input):\n",
        "    output_list = []\n",
        "\n",
        "    from transformers import pipeline\n",
        "    summarizer = pipeline(\"summarization\", model=\"linydub/bart-large-samsum\")\n",
        "\n",
        "    for i in range(len(input)):\n",
        "        output_list.append(summarizer(input[i]))\n",
        "    \n",
        "    return output_list"
      ],
      "metadata": {
        "id": "J0jTNLqZ0SGP"
      },
      "execution_count": 34,
      "outputs": []
    },
    {
      "cell_type": "code",
      "source": [
        "test_result = run_summarizer(test_parsed['dialog'].tolist())\n",
        "\n",
        "test_parsed['predicted'] = test_result\n",
        "\n",
        "test_parsed.to_csv('./twcs_test_predicted.csv')"
      ],
      "metadata": {
        "colab": {
          "base_uri": "https://localhost:8080/"
        },
        "id": "b0bvfZ2Y0V5A",
        "outputId": "74a7d1b2-e14e-49a4-b318-ae549d7c22e1"
      },
      "execution_count": 35,
      "outputs": [
        {
          "output_type": "stream",
          "name": "stderr",
          "text": [
            "Your max_length is set to 62, but you input_length is only 60. You might consider decreasing max_length manually, e.g. summarizer('...', max_length=30)\n",
            "Your max_length is set to 62, but you input_length is only 40. You might consider decreasing max_length manually, e.g. summarizer('...', max_length=20)\n",
            "Your max_length is set to 62, but you input_length is only 49. You might consider decreasing max_length manually, e.g. summarizer('...', max_length=24)\n",
            "Your max_length is set to 62, but you input_length is only 56. You might consider decreasing max_length manually, e.g. summarizer('...', max_length=28)\n",
            "Your max_length is set to 62, but you input_length is only 60. You might consider decreasing max_length manually, e.g. summarizer('...', max_length=30)\n"
          ]
        }
      ]
    },
    {
      "cell_type": "code",
      "source": [
        "# Store the test_result variable\n",
        "test_result_obj = open('test_parsed.pckl', 'wb')\n",
        "pickle.dump(test_result, test_result_obj)\n",
        "f_twcs_dict.close()"
      ],
      "metadata": {
        "id": "CqCDo44-9L6_"
      },
      "execution_count": 36,
      "outputs": []
    },
    {
      "cell_type": "markdown",
      "source": [
        "### Showing the Predicted result"
      ],
      "metadata": {
        "id": "RltHABUVNgpS"
      }
    },
    {
      "cell_type": "code",
      "source": [
        "test_parsed.head(5)"
      ],
      "metadata": {
        "colab": {
          "base_uri": "https://localhost:8080/",
          "height": 206
        },
        "id": "E2x08oNSB9-p",
        "outputId": "43333ecb-d3a9-4b99-abc0-1269eeaa475a"
      },
      "execution_count": 38,
      "outputs": [
        {
          "output_type": "execute_result",
          "data": {
            "text/plain": [
              "                                              dialog  \\\n",
              "0  658975: @hulu_support My watchlist is not upda...   \n",
              "1  658975: @hulu_support My watchlist is not upda...   \n",
              "2  658975: @hulu_support My watchlist is not upda...   \n",
              "3  637109: @AirbnbHelp hi , my Acc was linked to ...   \n",
              "4  637109: @AirbnbHelp hi , my Acc was linked to ...   \n",
              "\n",
              "                                             summary  \\\n",
              "0  Customer is complaining that the watchlist is ...   \n",
              "1  Customer is complaining that my watch list is ...   \n",
              "2  Customer is complaining that he is not getting...   \n",
              "3  Customer is asking about the ACC to link to th...   \n",
              "4  Customer is enquiring that whether they can ch...   \n",
              "\n",
              "                                           predicted  \n",
              "0  [{'summary_text': 'Norlene's watchlist is not ...  \n",
              "1  [{'summary_text': 'Hulu's watchlist is not upd...  \n",
              "2  [{'summary_text': 'Norlene's Hulu watchlist is...  \n",
              "3  [{'summary_text': '637109's Acc was linked to ...  \n",
              "4  [{'summary_text': 'Airbnb help asks 637109 to ...  "
            ],
            "text/html": [
              "\n",
              "  <div id=\"df-3b59c7c8-41e0-40cb-81c4-3f11dd5d1ccb\">\n",
              "    <div class=\"colab-df-container\">\n",
              "      <div>\n",
              "<style scoped>\n",
              "    .dataframe tbody tr th:only-of-type {\n",
              "        vertical-align: middle;\n",
              "    }\n",
              "\n",
              "    .dataframe tbody tr th {\n",
              "        vertical-align: top;\n",
              "    }\n",
              "\n",
              "    .dataframe thead th {\n",
              "        text-align: right;\n",
              "    }\n",
              "</style>\n",
              "<table border=\"1\" class=\"dataframe\">\n",
              "  <thead>\n",
              "    <tr style=\"text-align: right;\">\n",
              "      <th></th>\n",
              "      <th>dialog</th>\n",
              "      <th>summary</th>\n",
              "      <th>predicted</th>\n",
              "    </tr>\n",
              "  </thead>\n",
              "  <tbody>\n",
              "    <tr>\n",
              "      <th>0</th>\n",
              "      <td>658975: @hulu_support My watchlist is not upda...</td>\n",
              "      <td>Customer is complaining that the watchlist is ...</td>\n",
              "      <td>[{'summary_text': 'Norlene's watchlist is not ...</td>\n",
              "    </tr>\n",
              "    <tr>\n",
              "      <th>1</th>\n",
              "      <td>658975: @hulu_support My watchlist is not upda...</td>\n",
              "      <td>Customer is complaining that my watch list is ...</td>\n",
              "      <td>[{'summary_text': 'Hulu's watchlist is not upd...</td>\n",
              "    </tr>\n",
              "    <tr>\n",
              "      <th>2</th>\n",
              "      <td>658975: @hulu_support My watchlist is not upda...</td>\n",
              "      <td>Customer is complaining that he is not getting...</td>\n",
              "      <td>[{'summary_text': 'Norlene's Hulu watchlist is...</td>\n",
              "    </tr>\n",
              "    <tr>\n",
              "      <th>3</th>\n",
              "      <td>637109: @AirbnbHelp hi , my Acc was linked to ...</td>\n",
              "      <td>Customer is asking about the ACC to link to th...</td>\n",
              "      <td>[{'summary_text': '637109's Acc was linked to ...</td>\n",
              "    </tr>\n",
              "    <tr>\n",
              "      <th>4</th>\n",
              "      <td>637109: @AirbnbHelp hi , my Acc was linked to ...</td>\n",
              "      <td>Customer is enquiring that whether they can ch...</td>\n",
              "      <td>[{'summary_text': 'Airbnb help asks 637109 to ...</td>\n",
              "    </tr>\n",
              "  </tbody>\n",
              "</table>\n",
              "</div>\n",
              "      <button class=\"colab-df-convert\" onclick=\"convertToInteractive('df-3b59c7c8-41e0-40cb-81c4-3f11dd5d1ccb')\"\n",
              "              title=\"Convert this dataframe to an interactive table.\"\n",
              "              style=\"display:none;\">\n",
              "        \n",
              "  <svg xmlns=\"http://www.w3.org/2000/svg\" height=\"24px\"viewBox=\"0 0 24 24\"\n",
              "       width=\"24px\">\n",
              "    <path d=\"M0 0h24v24H0V0z\" fill=\"none\"/>\n",
              "    <path d=\"M18.56 5.44l.94 2.06.94-2.06 2.06-.94-2.06-.94-.94-2.06-.94 2.06-2.06.94zm-11 1L8.5 8.5l.94-2.06 2.06-.94-2.06-.94L8.5 2.5l-.94 2.06-2.06.94zm10 10l.94 2.06.94-2.06 2.06-.94-2.06-.94-.94-2.06-.94 2.06-2.06.94z\"/><path d=\"M17.41 7.96l-1.37-1.37c-.4-.4-.92-.59-1.43-.59-.52 0-1.04.2-1.43.59L10.3 9.45l-7.72 7.72c-.78.78-.78 2.05 0 2.83L4 21.41c.39.39.9.59 1.41.59.51 0 1.02-.2 1.41-.59l7.78-7.78 2.81-2.81c.8-.78.8-2.07 0-2.86zM5.41 20L4 18.59l7.72-7.72 1.47 1.35L5.41 20z\"/>\n",
              "  </svg>\n",
              "      </button>\n",
              "      \n",
              "  <style>\n",
              "    .colab-df-container {\n",
              "      display:flex;\n",
              "      flex-wrap:wrap;\n",
              "      gap: 12px;\n",
              "    }\n",
              "\n",
              "    .colab-df-convert {\n",
              "      background-color: #E8F0FE;\n",
              "      border: none;\n",
              "      border-radius: 50%;\n",
              "      cursor: pointer;\n",
              "      display: none;\n",
              "      fill: #1967D2;\n",
              "      height: 32px;\n",
              "      padding: 0 0 0 0;\n",
              "      width: 32px;\n",
              "    }\n",
              "\n",
              "    .colab-df-convert:hover {\n",
              "      background-color: #E2EBFA;\n",
              "      box-shadow: 0px 1px 2px rgba(60, 64, 67, 0.3), 0px 1px 3px 1px rgba(60, 64, 67, 0.15);\n",
              "      fill: #174EA6;\n",
              "    }\n",
              "\n",
              "    [theme=dark] .colab-df-convert {\n",
              "      background-color: #3B4455;\n",
              "      fill: #D2E3FC;\n",
              "    }\n",
              "\n",
              "    [theme=dark] .colab-df-convert:hover {\n",
              "      background-color: #434B5C;\n",
              "      box-shadow: 0px 1px 3px 1px rgba(0, 0, 0, 0.15);\n",
              "      filter: drop-shadow(0px 1px 2px rgba(0, 0, 0, 0.3));\n",
              "      fill: #FFFFFF;\n",
              "    }\n",
              "  </style>\n",
              "\n",
              "      <script>\n",
              "        const buttonEl =\n",
              "          document.querySelector('#df-3b59c7c8-41e0-40cb-81c4-3f11dd5d1ccb button.colab-df-convert');\n",
              "        buttonEl.style.display =\n",
              "          google.colab.kernel.accessAllowed ? 'block' : 'none';\n",
              "\n",
              "        async function convertToInteractive(key) {\n",
              "          const element = document.querySelector('#df-3b59c7c8-41e0-40cb-81c4-3f11dd5d1ccb');\n",
              "          const dataTable =\n",
              "            await google.colab.kernel.invokeFunction('convertToInteractive',\n",
              "                                                     [key], {});\n",
              "          if (!dataTable) return;\n",
              "\n",
              "          const docLinkHtml = 'Like what you see? Visit the ' +\n",
              "            '<a target=\"_blank\" href=https://colab.research.google.com/notebooks/data_table.ipynb>data table notebook</a>'\n",
              "            + ' to learn more about interactive tables.';\n",
              "          element.innerHTML = '';\n",
              "          dataTable['output_type'] = 'display_data';\n",
              "          await google.colab.output.renderOutput(dataTable, element);\n",
              "          const docLink = document.createElement('div');\n",
              "          docLink.innerHTML = docLinkHtml;\n",
              "          element.appendChild(docLink);\n",
              "        }\n",
              "      </script>\n",
              "    </div>\n",
              "  </div>\n",
              "  "
            ]
          },
          "metadata": {},
          "execution_count": 38
        }
      ]
    },
    {
      "cell_type": "markdown",
      "source": [
        "### Compare Two Summarizations with Cosine Similarity\n"
      ],
      "metadata": {
        "id": "Y0vD3eGyPwdU"
      }
    },
    {
      "cell_type": "code",
      "source": [
        "# Reference https://www.geeksforgeeks.org/python-measure-similarity-between-two-sentences-using-cosine-similarity/\n",
        "def generation_cosine_similarity(X, Y):  \n",
        "  # tokenization\n",
        "  X_list = word_tokenize(X) \n",
        "  Y_list = word_tokenize(Y)\n",
        "    \n",
        "  # sw contains the list of stopwords\n",
        "  sw = stopwords.words('english') \n",
        "  l1 =[];l2 =[]\n",
        "    \n",
        "  # remove stop words from the string\n",
        "  X_set = {w for w in X_list if not w in sw} \n",
        "  Y_set = {w for w in Y_list if not w in sw}\n",
        "    \n",
        "  # form a set containing keywords of both strings \n",
        "  rvector = X_set.union(Y_set) \n",
        "  for w in rvector:\n",
        "      if w in X_set: l1.append(1) # create a vector\n",
        "      else: l1.append(0)\n",
        "      if w in Y_set: l2.append(1)\n",
        "      else: l2.append(0)\n",
        "  c = 0\n",
        "    \n",
        "  # cosine formula \n",
        "  for i in range(len(rvector)):\n",
        "          c+= l1[i]*l2[i]\n",
        "  cosine = c / float((sum(l1)*sum(l2))**0.5)\n",
        "  return cosine\n",
        "consine_similarity_scores = []\n",
        "\n",
        "for i in range(len(test_parsed)):\n",
        "  X = test_parsed['summary'][i]\n",
        "  Y = test_parsed['predicted'][i][0]['summary_text']\n",
        "  cosine_sim = generation_cosine_similarity(X,Y)\n",
        "  consine_similarity_scores.append(cosine_sim)\n"
      ],
      "metadata": {
        "id": "8nFtvxSWQh4K"
      },
      "execution_count": 73,
      "outputs": []
    },
    {
      "cell_type": "code",
      "source": [
        "test_parsed['cosine_similarities'] = consine_similarity_scores"
      ],
      "metadata": {
        "id": "AhnZsWGOQMq_"
      },
      "execution_count": 77,
      "outputs": []
    },
    {
      "cell_type": "code",
      "source": [
        "test_parsed.head(5)"
      ],
      "metadata": {
        "colab": {
          "base_uri": "https://localhost:8080/",
          "height": 206
        },
        "id": "vZtWJ-7aRMvW",
        "outputId": "fae461ac-c8df-46ca-af04-0b7b23d7b320"
      },
      "execution_count": 82,
      "outputs": [
        {
          "output_type": "execute_result",
          "data": {
            "text/plain": [
              "                                              dialog  \\\n",
              "0  658975: @hulu_support My watchlist is not upda...   \n",
              "1  658975: @hulu_support My watchlist is not upda...   \n",
              "2  658975: @hulu_support My watchlist is not upda...   \n",
              "3  637109: @AirbnbHelp hi , my Acc was linked to ...   \n",
              "4  637109: @AirbnbHelp hi , my Acc was linked to ...   \n",
              "\n",
              "                                             summary  \\\n",
              "0  Customer is complaining that the watchlist is ...   \n",
              "1  Customer is complaining that my watch list is ...   \n",
              "2  Customer is complaining that he is not getting...   \n",
              "3  Customer is asking about the ACC to link to th...   \n",
              "4  Customer is enquiring that whether they can ch...   \n",
              "\n",
              "                                           predicted  cosine_similarities  \n",
              "0  [{'summary_text': 'Norlene's watchlist is not ...             0.372678  \n",
              "1  [{'summary_text': 'Hulu's watchlist is not upd...             0.416025  \n",
              "2  [{'summary_text': 'Norlene's Hulu watchlist is...             0.282843  \n",
              "3  [{'summary_text': '637109's Acc was linked to ...             0.246183  \n",
              "4  [{'summary_text': 'Airbnb help asks 637109 to ...             0.072739  "
            ],
            "text/html": [
              "\n",
              "  <div id=\"df-ab305537-03d9-4b67-8da8-13bcb48ad4e3\">\n",
              "    <div class=\"colab-df-container\">\n",
              "      <div>\n",
              "<style scoped>\n",
              "    .dataframe tbody tr th:only-of-type {\n",
              "        vertical-align: middle;\n",
              "    }\n",
              "\n",
              "    .dataframe tbody tr th {\n",
              "        vertical-align: top;\n",
              "    }\n",
              "\n",
              "    .dataframe thead th {\n",
              "        text-align: right;\n",
              "    }\n",
              "</style>\n",
              "<table border=\"1\" class=\"dataframe\">\n",
              "  <thead>\n",
              "    <tr style=\"text-align: right;\">\n",
              "      <th></th>\n",
              "      <th>dialog</th>\n",
              "      <th>summary</th>\n",
              "      <th>predicted</th>\n",
              "      <th>cosine_similarities</th>\n",
              "    </tr>\n",
              "  </thead>\n",
              "  <tbody>\n",
              "    <tr>\n",
              "      <th>0</th>\n",
              "      <td>658975: @hulu_support My watchlist is not upda...</td>\n",
              "      <td>Customer is complaining that the watchlist is ...</td>\n",
              "      <td>[{'summary_text': 'Norlene's watchlist is not ...</td>\n",
              "      <td>0.372678</td>\n",
              "    </tr>\n",
              "    <tr>\n",
              "      <th>1</th>\n",
              "      <td>658975: @hulu_support My watchlist is not upda...</td>\n",
              "      <td>Customer is complaining that my watch list is ...</td>\n",
              "      <td>[{'summary_text': 'Hulu's watchlist is not upd...</td>\n",
              "      <td>0.416025</td>\n",
              "    </tr>\n",
              "    <tr>\n",
              "      <th>2</th>\n",
              "      <td>658975: @hulu_support My watchlist is not upda...</td>\n",
              "      <td>Customer is complaining that he is not getting...</td>\n",
              "      <td>[{'summary_text': 'Norlene's Hulu watchlist is...</td>\n",
              "      <td>0.282843</td>\n",
              "    </tr>\n",
              "    <tr>\n",
              "      <th>3</th>\n",
              "      <td>637109: @AirbnbHelp hi , my Acc was linked to ...</td>\n",
              "      <td>Customer is asking about the ACC to link to th...</td>\n",
              "      <td>[{'summary_text': '637109's Acc was linked to ...</td>\n",
              "      <td>0.246183</td>\n",
              "    </tr>\n",
              "    <tr>\n",
              "      <th>4</th>\n",
              "      <td>637109: @AirbnbHelp hi , my Acc was linked to ...</td>\n",
              "      <td>Customer is enquiring that whether they can ch...</td>\n",
              "      <td>[{'summary_text': 'Airbnb help asks 637109 to ...</td>\n",
              "      <td>0.072739</td>\n",
              "    </tr>\n",
              "  </tbody>\n",
              "</table>\n",
              "</div>\n",
              "      <button class=\"colab-df-convert\" onclick=\"convertToInteractive('df-ab305537-03d9-4b67-8da8-13bcb48ad4e3')\"\n",
              "              title=\"Convert this dataframe to an interactive table.\"\n",
              "              style=\"display:none;\">\n",
              "        \n",
              "  <svg xmlns=\"http://www.w3.org/2000/svg\" height=\"24px\"viewBox=\"0 0 24 24\"\n",
              "       width=\"24px\">\n",
              "    <path d=\"M0 0h24v24H0V0z\" fill=\"none\"/>\n",
              "    <path d=\"M18.56 5.44l.94 2.06.94-2.06 2.06-.94-2.06-.94-.94-2.06-.94 2.06-2.06.94zm-11 1L8.5 8.5l.94-2.06 2.06-.94-2.06-.94L8.5 2.5l-.94 2.06-2.06.94zm10 10l.94 2.06.94-2.06 2.06-.94-2.06-.94-.94-2.06-.94 2.06-2.06.94z\"/><path d=\"M17.41 7.96l-1.37-1.37c-.4-.4-.92-.59-1.43-.59-.52 0-1.04.2-1.43.59L10.3 9.45l-7.72 7.72c-.78.78-.78 2.05 0 2.83L4 21.41c.39.39.9.59 1.41.59.51 0 1.02-.2 1.41-.59l7.78-7.78 2.81-2.81c.8-.78.8-2.07 0-2.86zM5.41 20L4 18.59l7.72-7.72 1.47 1.35L5.41 20z\"/>\n",
              "  </svg>\n",
              "      </button>\n",
              "      \n",
              "  <style>\n",
              "    .colab-df-container {\n",
              "      display:flex;\n",
              "      flex-wrap:wrap;\n",
              "      gap: 12px;\n",
              "    }\n",
              "\n",
              "    .colab-df-convert {\n",
              "      background-color: #E8F0FE;\n",
              "      border: none;\n",
              "      border-radius: 50%;\n",
              "      cursor: pointer;\n",
              "      display: none;\n",
              "      fill: #1967D2;\n",
              "      height: 32px;\n",
              "      padding: 0 0 0 0;\n",
              "      width: 32px;\n",
              "    }\n",
              "\n",
              "    .colab-df-convert:hover {\n",
              "      background-color: #E2EBFA;\n",
              "      box-shadow: 0px 1px 2px rgba(60, 64, 67, 0.3), 0px 1px 3px 1px rgba(60, 64, 67, 0.15);\n",
              "      fill: #174EA6;\n",
              "    }\n",
              "\n",
              "    [theme=dark] .colab-df-convert {\n",
              "      background-color: #3B4455;\n",
              "      fill: #D2E3FC;\n",
              "    }\n",
              "\n",
              "    [theme=dark] .colab-df-convert:hover {\n",
              "      background-color: #434B5C;\n",
              "      box-shadow: 0px 1px 3px 1px rgba(0, 0, 0, 0.15);\n",
              "      filter: drop-shadow(0px 1px 2px rgba(0, 0, 0, 0.3));\n",
              "      fill: #FFFFFF;\n",
              "    }\n",
              "  </style>\n",
              "\n",
              "      <script>\n",
              "        const buttonEl =\n",
              "          document.querySelector('#df-ab305537-03d9-4b67-8da8-13bcb48ad4e3 button.colab-df-convert');\n",
              "        buttonEl.style.display =\n",
              "          google.colab.kernel.accessAllowed ? 'block' : 'none';\n",
              "\n",
              "        async function convertToInteractive(key) {\n",
              "          const element = document.querySelector('#df-ab305537-03d9-4b67-8da8-13bcb48ad4e3');\n",
              "          const dataTable =\n",
              "            await google.colab.kernel.invokeFunction('convertToInteractive',\n",
              "                                                     [key], {});\n",
              "          if (!dataTable) return;\n",
              "\n",
              "          const docLinkHtml = 'Like what you see? Visit the ' +\n",
              "            '<a target=\"_blank\" href=https://colab.research.google.com/notebooks/data_table.ipynb>data table notebook</a>'\n",
              "            + ' to learn more about interactive tables.';\n",
              "          element.innerHTML = '';\n",
              "          dataTable['output_type'] = 'display_data';\n",
              "          await google.colab.output.renderOutput(dataTable, element);\n",
              "          const docLink = document.createElement('div');\n",
              "          docLink.innerHTML = docLinkHtml;\n",
              "          element.appendChild(docLink);\n",
              "        }\n",
              "      </script>\n",
              "    </div>\n",
              "  </div>\n",
              "  "
            ]
          },
          "metadata": {},
          "execution_count": 82
        }
      ]
    },
    {
      "cell_type": "code",
      "source": [
        "print(\"Max for cosine_similarities    : \", np.max(test_parsed['cosine_similarities']))\n",
        "print(\"Min for cosine_similarities    : \", np.min(test_parsed['cosine_similarities']))\n",
        "print(\"Mean for cosine_similarities   : \", np.mean(test_parsed['cosine_similarities']))\n",
        "print(\"Median for cosine_similarities : \", np.median(test_parsed['cosine_similarities']))"
      ],
      "metadata": {
        "colab": {
          "base_uri": "https://localhost:8080/"
        },
        "id": "q3cgL-oqTO1R",
        "outputId": "d2173265-5811-4116-96fc-a4ce1faeda11"
      },
      "execution_count": 90,
      "outputs": [
        {
          "output_type": "stream",
          "name": "stdout",
          "text": [
            "Max for cosine_similarities    :  0.7735267838285931\n",
            "Min for cosine_similarities    :  0.051639777949432225\n",
            "Mean for cosine_similarities   :  0.29148590319586826\n",
            "Median for cosine_similarities :  0.27386127875258304\n"
          ]
        }
      ]
    },
    {
      "cell_type": "code",
      "source": [
        "sns.set(style=\"darkgrid\")\n",
        "plt.title(\"Cosine Similarities for two summarizations\")\n",
        "sns.boxplot(x=test_parsed[\"cosine_similarities\"])"
      ],
      "metadata": {
        "colab": {
          "base_uri": "https://localhost:8080/",
          "height": 319
        },
        "id": "55kNSL2gTbkv",
        "outputId": "611afb61-fb8e-47c3-df85-f368f02a7047"
      },
      "execution_count": 96,
      "outputs": [
        {
          "output_type": "execute_result",
          "data": {
            "text/plain": [
              "<AxesSubplot:title={'center':'Cosine Similarities for two summarizations'}, xlabel='cosine_similarities'>"
            ]
          },
          "metadata": {},
          "execution_count": 96
        },
        {
          "output_type": "display_data",
          "data": {
            "text/plain": [
              "<Figure size 432x288 with 1 Axes>"
            ],
            "image/png": "[encoded data removed]"
          },
          "metadata": {}
        }
      ]
    },
    {
      "cell_type": "markdown",
      "source": [
        "## Compare Two summarizations with Rouge 1, 2"
      ],
      "metadata": {
        "id": "Uy1LkKU_ZS6v"
      }
    },
    {
      "cell_type": "code",
      "source": [
        "def generation_Rouge_Scores(X, Y):  \n",
        "  rouge = Rouge()\n",
        "  return rouge.get_scores(X, Y)"
      ],
      "metadata": {
        "id": "X4LCwjvDWR8H"
      },
      "execution_count": 123,
      "outputs": []
    },
    {
      "cell_type": "code",
      "source": [
        "Rouge_1_scores_list = []\n",
        "Rouge_2_scores_list = []\n",
        "for i in range(len(test_parsed)):\n",
        "  X = test_parsed['summary'][i]\n",
        "  Y = test_parsed['predicted'][i][0]['summary_text']  \n",
        "  get_rouge_scores = generation_Rouge_Scores(X,Y)\n",
        "  Rouge_1_scores = get_rouge_scores[0]['rouge-1']['r']\n",
        "  Rouge_2_scores = get_rouge_scores[0]['rouge-2']['r']\n",
        "\n",
        "  Rouge_1_scores_list.append(Rouge_1_scores)\n",
        "  Rouge_2_scores_list.append(Rouge_2_scores)"
      ],
      "metadata": {
        "id": "UbGHr2z4Tys2"
      },
      "execution_count": 139,
      "outputs": []
    },
    {
      "cell_type": "code",
      "source": [
        "test_parsed['Rouge_1_scores'] = Rouge_1_scores_list\n",
        "test_parsed['Rouge_2_scores'] = Rouge_2_scores_list"
      ],
      "metadata": {
        "id": "JC4TXtQxZEP5"
      },
      "execution_count": 140,
      "outputs": []
    },
    {
      "cell_type": "code",
      "source": [
        "print(\"Max for Rouge_1 scores    : \", np.max(test_parsed['Rouge_1_scores']))\n",
        "print(\"Min for Rouge_1 scores    : \", np.min(test_parsed['Rouge_1_scores']))\n",
        "print(\"Mean for Rouge_1 scores   : \", np.mean(test_parsed['Rouge_1_scores']))\n",
        "print(\"Median for Rouge_1 scores : \", np.median(test_parsed['Rouge_1_scores']))"
      ],
      "metadata": {
        "colab": {
          "base_uri": "https://localhost:8080/"
        },
        "id": "Oh2TBPZ8Zefe",
        "outputId": "8852a12f-4c9c-43b3-a935-7b319aa89f36"
      },
      "execution_count": 143,
      "outputs": [
        {
          "output_type": "stream",
          "name": "stdout",
          "text": [
            "Max for Rouge_1 scores    :  0.8571428571428571\n",
            "Min for Rouge_1 scores    :  0.0\n",
            "Mean for Rouge_1 scores   :  0.35079820042920057\n",
            "Median for Rouge_1 scores :  0.3333333333333333\n"
          ]
        }
      ]
    },
    {
      "cell_type": "code",
      "source": [
        "plt.title(\"Rouge 1 scores for two summarizations\")\n",
        "sns.boxplot(x=test_parsed[\"Rouge_1_scores\"])"
      ],
      "metadata": {
        "colab": {
          "base_uri": "https://localhost:8080/",
          "height": 319
        },
        "id": "3KWhg0vrZrBr",
        "outputId": "99176a49-d840-4733-8092-7ce912ac4f46"
      },
      "execution_count": 144,
      "outputs": [
        {
          "output_type": "execute_result",
          "data": {
            "text/plain": [
              "<AxesSubplot:title={'center':'Rouge 1 scores for two summarizations'}, xlabel='Rouge_1_scores'>"
            ]
          },
          "metadata": {},
          "execution_count": 144
        },
        {
          "output_type": "display_data",
          "data": {
            "text/plain": [
              "<Figure size 432x288 with 1 Axes>"
            ],
            "image/png": "[encoded data removed]"
          },
          "metadata": {}
        }
      ]
    },
    {
      "cell_type": "code",
      "source": [
        "print(\"Max for Rouge_2 scores    : \", np.max(test_parsed['Rouge_2_scores']))\n",
        "print(\"Min for Rouge_2 scores    : \", np.min(test_parsed['Rouge_2_scores']))\n",
        "print(\"Mean for Rouge_2 scores   : \", np.mean(test_parsed['Rouge_2_scores']))\n",
        "print(\"Median for Rouge_2 scores : \", np.median(test_parsed['Rouge_2_scores']))"
      ],
      "metadata": {
        "colab": {
          "base_uri": "https://localhost:8080/"
        },
        "id": "-HubxV4eZzyE",
        "outputId": "5c41e98a-5815-43d2-cbd5-8aa38da4f9ef"
      },
      "execution_count": 145,
      "outputs": [
        {
          "output_type": "stream",
          "name": "stdout",
          "text": [
            "Max for Rouge_2 scores    :  0.6842105263157895\n",
            "Min for Rouge_2 scores    :  0.0\n",
            "Mean for Rouge_2 scores   :  0.14546800689778763\n",
            "Median for Rouge_2 scores :  0.0967741935483871\n"
          ]
        }
      ]
    },
    {
      "cell_type": "code",
      "source": [
        "plt.title(\"Rouge_2 scores for two summarizations\")\n",
        "sns.boxplot(x=test_parsed[\"Rouge_2_scores\"])"
      ],
      "metadata": {
        "colab": {
          "base_uri": "https://localhost:8080/",
          "height": 319
        },
        "id": "In_gUS9sZ4sh",
        "outputId": "a8393804-4867-4568-d96f-834fe0716126"
      },
      "execution_count": 146,
      "outputs": [
        {
          "output_type": "execute_result",
          "data": {
            "text/plain": [
              "<AxesSubplot:title={'center':'Rouge_2 scores for two summarizations'}, xlabel='Rouge_2_scores'>"
            ]
          },
          "metadata": {},
          "execution_count": 146
        },
        {
          "output_type": "display_data",
          "data": {
            "text/plain": [
              "<Figure size 432x288 with 1 Axes>"
            ],
            "image/png": "[encoded data removed]"
          },
          "metadata": {}
        }
      ]
    }
  ],
  "metadata": {
    "kernelspec": {
      "display_name": "Python 3.10.4 ('torch')",
      "language": "python",
      "name": "python3"
    },
    "language_info": {
      "codemirror_mode": {
        "name": "ipython",
        "version": 3
      },
      "file_extension": ".py",
      "mimetype": "text/x-python",
      "name": "python",
      "nbconvert_exporter": "python",
      "pygments_lexer": "ipython3",
      "version": "3.10.4"
    },
    "orig_nbformat": 4,
    "vscode": {
      "interpreter": {
        "hash": "0806569fb08f6281673bd527a613de0eff307c0935f5ba0f859440fd02939511"
      }
    },
    "colab": {
      "provenance": [],
      "collapsed_sections": []
    }
  },
  "nbformat": 4,
  "nbformat_minor": 0
}