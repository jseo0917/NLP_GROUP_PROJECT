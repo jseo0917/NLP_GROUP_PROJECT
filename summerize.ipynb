{
  "cells": [
    {
      "cell_type": "code",
      "source": [
        "!pip install -q gwpy\n",
        "import nltk\n",
        "nltk.download('punkt')\n",
        "nltk.download('stopwords')\n",
        "!pip install wandb\n",
        "!pip install rouge_score\n",
        "!pip install py7zr\n",
        "!pip install transformers\n",
        "!pip install datasets\n",
        "!pip install rouge\n",
        "!pip install accelerate\n",
        "import wandb\n",
        "import re\n",
        "from typing import List\n",
        "import os\n",
        "import json\n",
        "import ast\n",
        "import pandas as pd\n",
        "import csv\n",
        "import argparse\n",
        "import pickle\n",
        "import transformers\n",
        "from transformers import AutoTokenizer, AutoModelForSeq2SeqLM, Seq2SeqTrainingArguments, Seq2SeqTrainer\n",
        "from datasets import load_dataset, load_from_disk\n",
        "import numpy as np\n",
        "from datasets import load_dataset, load_metric, load_from_disk\n",
        "from transformers import pipeline\n",
        "import seaborn as sns\n",
        "import matplotlib.pyplot as plt\n",
        "import numpy as np\n",
        "from rouge import Rouge\n",
        "from nltk.corpus import stopwords\n",
        "from nltk.tokenize import word_tokenize\n"
      ],
      "metadata": {
        "id": "47vCQKqxjVE3"
      },
      "execution_count": 92,
      "outputs": []
    },
    {
      "cell_type": "code",
      "source": [
        "from google.colab import drive\n",
        "drive.mount('/content/drive')"
      ],
      "metadata": {
        "colab": {
          "base_uri": "https://localhost:8080/"
        },
        "id": "4xIH7sOluxvg",
        "outputId": "6446951f-9f12-4c29-fe2f-8451ef764e2d"
      },
      "execution_count": 3,
      "outputs": [
        {
          "output_type": "stream",
          "name": "stdout",
          "text": [
            "Mounted at /content/drive\n"
          ]
        }
      ]
    },
    {
      "cell_type": "markdown",
      "source": [
        "### Read csv files"
      ],
      "metadata": {
        "id": "2QzLfjCRkBet"
      }
    },
    {
      "cell_type": "code",
      "source": [
        "curr_path = os.getcwd()\n",
        "\n",
        "# Path to twcs.csv File\n",
        "twcs = pd.read_csv(curr_path + '/drive/MyDrive/twcs.csv')"
      ],
      "metadata": {
        "id": "RJ6fkVCHkEBt"
      },
      "execution_count": 4,
      "outputs": []
    },
    {
      "cell_type": "code",
      "source": [
        "twcs.head(5)"
      ],
      "metadata": {
        "colab": {
          "base_uri": "https://localhost:8080/",
          "height": 337
        },
        "id": "1F8tMtwnCkan",
        "outputId": "fada61d2-c375-4b86-a2d6-c2f9613bb607"
      },
      "execution_count": null,
      "outputs": [
        {
          "output_type": "execute_result",
          "data": {
            "text/plain": [
              "   tweet_id   author_id  inbound                      created_at  \\\n",
              "0         1  sprintcare    False  Tue Oct 31 22:10:47 +0000 2017   \n",
              "1         2      115712     True  Tue Oct 31 22:11:45 +0000 2017   \n",
              "2         3      115712     True  Tue Oct 31 22:08:27 +0000 2017   \n",
              "3         4  sprintcare    False  Tue Oct 31 21:54:49 +0000 2017   \n",
              "4         5      115712     True  Tue Oct 31 21:49:35 +0000 2017   \n",
              "\n",
              "                                                text response_tweet_id  \\\n",
              "0  @115712 I understand. I would like to assist y...                 2   \n",
              "1      @sprintcare and how do you propose we do that               NaN   \n",
              "2  @sprintcare I have sent several private messag...                 1   \n",
              "3  @115712 Please send us a Private Message so th...                 3   \n",
              "4                                 @sprintcare I did.                 4   \n",
              "\n",
              "   in_response_to_tweet_id  \n",
              "0                      3.0  \n",
              "1                      1.0  \n",
              "2                      4.0  \n",
              "3                      5.0  \n",
              "4                      6.0  "
            ],
            "text/html": [
              "\n",
              "  <div id=\"df-43419005-6325-4a6c-847b-d86db86f9ff0\">\n",
              "    <div class=\"colab-df-container\">\n",
              "      <div>\n",
              "<style scoped>\n",
              "    .dataframe tbody tr th:only-of-type {\n",
              "        vertical-align: middle;\n",
              "    }\n",
              "\n",
              "    .dataframe tbody tr th {\n",
              "        vertical-align: top;\n",
              "    }\n",
              "\n",
              "    .dataframe thead th {\n",
              "        text-align: right;\n",
              "    }\n",
              "</style>\n",
              "<table border=\"1\" class=\"dataframe\">\n",
              "  <thead>\n",
              "    <tr style=\"text-align: right;\">\n",
              "      <th></th>\n",
              "      <th>tweet_id</th>\n",
              "      <th>author_id</th>\n",
              "      <th>inbound</th>\n",
              "      <th>created_at</th>\n",
              "      <th>text</th>\n",
              "      <th>response_tweet_id</th>\n",
              "      <th>in_response_to_tweet_id</th>\n",
              "    </tr>\n",
              "  </thead>\n",
              "  <tbody>\n",
              "    <tr>\n",
              "      <th>0</th>\n",
              "      <td>1</td>\n",
              "      <td>sprintcare</td>\n",
              "      <td>False</td>\n",
              "      <td>Tue Oct 31 22:10:47 +0000 2017</td>\n",
              "      <td>@115712 I understand. I would like to assist y...</td>\n",
              "      <td>2</td>\n",
              "      <td>3.0</td>\n",
              "    </tr>\n",
              "    <tr>\n",
              "      <th>1</th>\n",
              "      <td>2</td>\n",
              "      <td>115712</td>\n",
              "      <td>True</td>\n",
              "      <td>Tue Oct 31 22:11:45 +0000 2017</td>\n",
              "      <td>@sprintcare and how do you propose we do that</td>\n",
              "      <td>NaN</td>\n",
              "      <td>1.0</td>\n",
              "    </tr>\n",
              "    <tr>\n",
              "      <th>2</th>\n",
              "      <td>3</td>\n",
              "      <td>115712</td>\n",
              "      <td>True</td>\n",
              "      <td>Tue Oct 31 22:08:27 +0000 2017</td>\n",
              "      <td>@sprintcare I have sent several private messag...</td>\n",
              "      <td>1</td>\n",
              "      <td>4.0</td>\n",
              "    </tr>\n",
              "    <tr>\n",
              "      <th>3</th>\n",
              "      <td>4</td>\n",
              "      <td>sprintcare</td>\n",
              "      <td>False</td>\n",
              "      <td>Tue Oct 31 21:54:49 +0000 2017</td>\n",
              "      <td>@115712 Please send us a Private Message so th...</td>\n",
              "      <td>3</td>\n",
              "      <td>5.0</td>\n",
              "    </tr>\n",
              "    <tr>\n",
              "      <th>4</th>\n",
              "      <td>5</td>\n",
              "      <td>115712</td>\n",
              "      <td>True</td>\n",
              "      <td>Tue Oct 31 21:49:35 +0000 2017</td>\n",
              "      <td>@sprintcare I did.</td>\n",
              "      <td>4</td>\n",
              "      <td>6.0</td>\n",
              "    </tr>\n",
              "  </tbody>\n",
              "</table>\n",
              "</div>\n",
              "      <button class=\"colab-df-convert\" onclick=\"convertToInteractive('df-43419005-6325-4a6c-847b-d86db86f9ff0')\"\n",
              "              title=\"Convert this dataframe to an interactive table.\"\n",
              "              style=\"display:none;\">\n",
              "        \n",
              "  <svg xmlns=\"http://www.w3.org/2000/svg\" height=\"24px\"viewBox=\"0 0 24 24\"\n",
              "       width=\"24px\">\n",
              "    <path d=\"M0 0h24v24H0V0z\" fill=\"none\"/>\n",
              "    <path d=\"M18.56 5.44l.94 2.06.94-2.06 2.06-.94-2.06-.94-.94-2.06-.94 2.06-2.06.94zm-11 1L8.5 8.5l.94-2.06 2.06-.94-2.06-.94L8.5 2.5l-.94 2.06-2.06.94zm10 10l.94 2.06.94-2.06 2.06-.94-2.06-.94-.94-2.06-.94 2.06-2.06.94z\"/><path d=\"M17.41 7.96l-1.37-1.37c-.4-.4-.92-.59-1.43-.59-.52 0-1.04.2-1.43.59L10.3 9.45l-7.72 7.72c-.78.78-.78 2.05 0 2.83L4 21.41c.39.39.9.59 1.41.59.51 0 1.02-.2 1.41-.59l7.78-7.78 2.81-2.81c.8-.78.8-2.07 0-2.86zM5.41 20L4 18.59l7.72-7.72 1.47 1.35L5.41 20z\"/>\n",
              "  </svg>\n",
              "      </button>\n",
              "      \n",
              "  <style>\n",
              "    .colab-df-container {\n",
              "      display:flex;\n",
              "      flex-wrap:wrap;\n",
              "      gap: 12px;\n",
              "    }\n",
              "\n",
              "    .colab-df-convert {\n",
              "      background-color: #E8F0FE;\n",
              "      border: none;\n",
              "      border-radius: 50%;\n",
              "      cursor: pointer;\n",
              "      display: none;\n",
              "      fill: #1967D2;\n",
              "      height: 32px;\n",
              "      padding: 0 0 0 0;\n",
              "      width: 32px;\n",
              "    }\n",
              "\n",
              "    .colab-df-convert:hover {\n",
              "      background-color: #E2EBFA;\n",
              "      box-shadow: 0px 1px 2px rgba(60, 64, 67, 0.3), 0px 1px 3px 1px rgba(60, 64, 67, 0.15);\n",
              "      fill: #174EA6;\n",
              "    }\n",
              "\n",
              "    [theme=dark] .colab-df-convert {\n",
              "      background-color: #3B4455;\n",
              "      fill: #D2E3FC;\n",
              "    }\n",
              "\n",
              "    [theme=dark] .colab-df-convert:hover {\n",
              "      background-color: #434B5C;\n",
              "      box-shadow: 0px 1px 3px 1px rgba(0, 0, 0, 0.15);\n",
              "      filter: drop-shadow(0px 1px 2px rgba(0, 0, 0, 0.3));\n",
              "      fill: #FFFFFF;\n",
              "    }\n",
              "  </style>\n",
              "\n",
              "      <script>\n",
              "        const buttonEl =\n",
              "          document.querySelector('#df-43419005-6325-4a6c-847b-d86db86f9ff0 button.colab-df-convert');\n",
              "        buttonEl.style.display =\n",
              "          google.colab.kernel.accessAllowed ? 'block' : 'none';\n",
              "\n",
              "        async function convertToInteractive(key) {\n",
              "          const element = document.querySelector('#df-43419005-6325-4a6c-847b-d86db86f9ff0');\n",
              "          const dataTable =\n",
              "            await google.colab.kernel.invokeFunction('convertToInteractive',\n",
              "                                                     [key], {});\n",
              "          if (!dataTable) return;\n",
              "\n",
              "          const docLinkHtml = 'Like what you see? Visit the ' +\n",
              "            '<a target=\"_blank\" href=https://colab.research.google.com/notebooks/data_table.ipynb>data table notebook</a>'\n",
              "            + ' to learn more about interactive tables.';\n",
              "          element.innerHTML = '';\n",
              "          dataTable['output_type'] = 'display_data';\n",
              "          await google.colab.output.renderOutput(dataTable, element);\n",
              "          const docLink = document.createElement('div');\n",
              "          docLink.innerHTML = docLinkHtml;\n",
              "          element.appendChild(docLink);\n",
              "        }\n",
              "      </script>\n",
              "    </div>\n",
              "  </div>\n",
              "  "
            ]
          },
          "metadata": {},
          "execution_count": 6
        }
      ]
    },
    {
      "cell_type": "markdown",
      "source": [
        "### Creating a dictionary for tweet Data\n"
      ],
      "metadata": {
        "id": "XnJgtUaN7PJ2"
      }
    },
    {
      "cell_type": "code",
      "source": [
        "twcs_dict = {}\n",
        "for i in range(len(twcs)):\n",
        "    twcs_dict[twcs.iloc[i]['tweet_id']] = [twcs.iloc[i]['author_id'], twcs.iloc[i]['text']]    "
      ],
      "metadata": {
        "id": "-GkT3CGkpK7H"
      },
      "execution_count": null,
      "outputs": []
    },
    {
      "cell_type": "markdown",
      "source": [
        "### Store the twcs dictionary variable (Optional)\n",
        "Store twcs_dict variable if you need since it takes a long time to rerun the code."
      ],
      "metadata": {
        "id": "-amp9jho7tuz"
      }
    },
    {
      "cell_type": "code",
      "source": [
        "# Store the dictionary variable \n",
        "f_twcs_dict = open('twcs_dict.pckl', 'wb')\n",
        "pickle.dump(twcs_dict, f_twcs_dict)\n",
        "f_twcs_dict.close()"
      ],
      "metadata": {
        "id": "k_30HbIhwz4h"
      },
      "execution_count": null,
      "outputs": []
    },
    {
      "cell_type": "code",
      "source": [
        "# Get twcs_dict data from the following link if you need it \n",
        "# https://drive.google.com/file/d/1uX5vS3n5eICIZjvJLSusue8Euw7JuXSM/view?usp=share_link\n",
        "f_twcs_dict = open(curr_path + '/drive/MyDrive/twcs_dict.pckl', 'rb')\n",
        "twcs_dict = pickle.load(f_twcs_dict)"
      ],
      "metadata": {
        "id": "-XhqJEmnyVFC"
      },
      "execution_count": 5,
      "outputs": []
    },
    {
      "cell_type": "markdown",
      "source": [
        "## Get dialogs with summaries"
      ],
      "metadata": {
        "id": "KLXTyG6uzPQx"
      }
    },
    {
      "cell_type": "code",
      "source": [
        "def get_dialog_with_summaries(TWEETSUM_JSON_FILE_PATH):\n",
        "  with open(TWEETSUM_JSON_FILE_PATH, 'r') as json_file:\n",
        "    test_data = [json.loads(line) for line in json_file]\n",
        "\n",
        "  parsed = []\n",
        "  for t in test_data:    \n",
        "      anno = t['annotations']    \n",
        "      for a in anno:      \n",
        "          abst = a['abstractive']\n",
        "          tweets = a['extractive']\n",
        "          if tweets is not None:\n",
        "              dialog = []\n",
        "              for t in tweets:                    \n",
        "                  dialog.append(twcs_dict[t['tweet_id']][0] + \": \" + twcs_dict[t['tweet_id']][1] + \"\\n\")    \n",
        "              if (abst is not None):\n",
        "                parsed.append([\"\".join(dialog), \" \".join(abst)])              \n",
        "\n",
        "  return parsed\n",
        "\n",
        "TWEETSUM_JSON_FILE_TRAIN_PATH = curr_path + \"/final_train_tweetsum.jsonl\"\n",
        "TWEETSUM_JSON_FILE_VALID_PATH = curr_path + \"/final_valid_tweetsum.jsonl\"\n",
        "TWEETSUM_JSON_FILE_TEST_PATH = curr_path + \"/final_test_tweetsum.jsonl\"\n",
        "\n",
        "TRAIN_DATA_parsed = get_dialog_with_summaries(TWEETSUM_JSON_FILE_TRAIN_PATH)\n",
        "VALID_DATA_parsed = get_dialog_with_summaries(TWEETSUM_JSON_FILE_VALID_PATH)\n",
        "TEST_DATA_parsed = get_dialog_with_summaries(TWEETSUM_JSON_FILE_TEST_PATH)"
      ],
      "metadata": {
        "id": "y0PEsLvEorJn"
      },
      "execution_count": 72,
      "outputs": []
    },
    {
      "cell_type": "code",
      "source": [
        "def replace_customer_agent(DATA_parsed):\n",
        "  j = 0\n",
        "  for key in DATA_parsed:\n",
        "    dialog = key[0]\n",
        "    indexes = [x.start() for x in re.finditer('@', dialog)]\n",
        "    temp = []\n",
        "    for i in indexes:\n",
        "      if dialog.find(' ', i) != -1:\n",
        "        extract_id = dialog[i+1:dialog.find(' ',i)]\n",
        "      else:\n",
        "        extract_id = dialog[i+1:len(dialog)]\n",
        "      temp.append(extract_id)\n",
        "      \n",
        "    for i in temp:\n",
        "      if i.isdigit():    \n",
        "        dialog = dialog.replace(i, 'customer')\n",
        "      else:\n",
        "        dialog = dialog.replace(i, 'agent') \n",
        "    \n",
        "    DATA_parsed[j][0] = dialog\n",
        "    j += 1\n",
        "\n",
        "replace_customer_agent(TRAIN_DATA_parsed)\n",
        "replace_customer_agent(VALID_DATA_parsed)\n",
        "replace_customer_agent(TEST_DATA_parsed)\n"
      ],
      "metadata": {
        "id": "U1tjyvmnphYd"
      },
      "execution_count": 73,
      "outputs": []
    },
    {
      "cell_type": "code",
      "source": [
        "train_parsed = pd.DataFrame(TRAIN_DATA_parsed, columns=['dialog', 'summary'])\n",
        "valid_parsed =  pd.DataFrame(VALID_DATA_parsed, columns=['dialog', 'summary'])\n",
        "test_parsed = pd.DataFrame(TEST_DATA_parsed, columns=['dialog', 'summary'])\n",
        "\n",
        "train_parsed['dialog'] = train_parsed['dialog'].str.lower()\n",
        "train_parsed['summary'] = train_parsed['summary'].str.lower()\n",
        "\n",
        "valid_parsed['dialog'] = valid_parsed['dialog'].str.lower()\n",
        "valid_parsed['summary'] = valid_parsed['summary'].str.lower()\n",
        "\n",
        "test_parsed['dialog'] = test_parsed['dialog'].str.lower()\n",
        "test_parsed['summary'] = test_parsed['summary'].str.lower()"
      ],
      "metadata": {
        "id": "QtF6q38P0GlR"
      },
      "execution_count": 74,
      "outputs": []
    },
    {
      "cell_type": "code",
      "source": [
        "print(\"Total Training data: \", len(train_parsed))\n",
        "print(\"Total Valid data   : \", len(valid_parsed))\n",
        "print(\"Total Testing data : \", len(test_parsed))"
      ],
      "metadata": {
        "colab": {
          "base_uri": "https://localhost:8080/"
        },
        "id": "Cp_2AdPniO9_",
        "outputId": "74b4a83f-617f-4e97-d580-fe671629581a"
      },
      "execution_count": 75,
      "outputs": [
        {
          "output_type": "stream",
          "name": "stdout",
          "text": [
            "Total Training data:  2406\n",
            "Total Valid data   :  327\n",
            "Total Testing data :  311\n"
          ]
        }
      ]
    },
    {
      "cell_type": "code",
      "source": [
        "train_parsed.head(5)"
      ],
      "metadata": {
        "colab": {
          "base_uri": "https://localhost:8080/",
          "height": 206
        },
        "id": "CDIllMEth_xC",
        "outputId": "380a0a4a-e36d-4be5-a57a-0ac539f9ab1e"
      },
      "execution_count": 76,
      "outputs": [
        {
          "output_type": "execute_result",
          "data": {
            "text/plain": [
              "                                              dialog  \\\n",
              "0  customer: so neither my iphone nor my apple wa...   \n",
              "1  customer: so neither my iphone nor my apple wa...   \n",
              "2  customer: so neither my iphone nor my apple wa...   \n",
              "3  customer: @customer hi team! i m planning to g...   \n",
              "4  customer: @customer hi team! i m planning to g...   \n",
              "\n",
              "                                             summary  \n",
              "0  customer enquired about his iphone and apple w...  \n",
              "1  the customer has a problem. the agent in a ver...  \n",
              "2  health and activity functions are not working ...  \n",
              "3  customer is eager to know about the replacemen...  \n",
              "4  wants to know about the 10 day return policy f...  "
            ],
            "text/html": [
              "\n",
              "  <div id=\"df-192efb84-dd1a-43b4-ab66-49b83069ad3c\">\n",
              "    <div class=\"colab-df-container\">\n",
              "      <div>\n",
              "<style scoped>\n",
              "    .dataframe tbody tr th:only-of-type {\n",
              "        vertical-align: middle;\n",
              "    }\n",
              "\n",
              "    .dataframe tbody tr th {\n",
              "        vertical-align: top;\n",
              "    }\n",
              "\n",
              "    .dataframe thead th {\n",
              "        text-align: right;\n",
              "    }\n",
              "</style>\n",
              "<table border=\"1\" class=\"dataframe\">\n",
              "  <thead>\n",
              "    <tr style=\"text-align: right;\">\n",
              "      <th></th>\n",
              "      <th>dialog</th>\n",
              "      <th>summary</th>\n",
              "    </tr>\n",
              "  </thead>\n",
              "  <tbody>\n",
              "    <tr>\n",
              "      <th>0</th>\n",
              "      <td>customer: so neither my iphone nor my apple wa...</td>\n",
              "      <td>customer enquired about his iphone and apple w...</td>\n",
              "    </tr>\n",
              "    <tr>\n",
              "      <th>1</th>\n",
              "      <td>customer: so neither my iphone nor my apple wa...</td>\n",
              "      <td>the customer has a problem. the agent in a ver...</td>\n",
              "    </tr>\n",
              "    <tr>\n",
              "      <th>2</th>\n",
              "      <td>customer: so neither my iphone nor my apple wa...</td>\n",
              "      <td>health and activity functions are not working ...</td>\n",
              "    </tr>\n",
              "    <tr>\n",
              "      <th>3</th>\n",
              "      <td>customer: @customer hi team! i m planning to g...</td>\n",
              "      <td>customer is eager to know about the replacemen...</td>\n",
              "    </tr>\n",
              "    <tr>\n",
              "      <th>4</th>\n",
              "      <td>customer: @customer hi team! i m planning to g...</td>\n",
              "      <td>wants to know about the 10 day return policy f...</td>\n",
              "    </tr>\n",
              "  </tbody>\n",
              "</table>\n",
              "</div>\n",
              "      <button class=\"colab-df-convert\" onclick=\"convertToInteractive('df-192efb84-dd1a-43b4-ab66-49b83069ad3c')\"\n",
              "              title=\"Convert this dataframe to an interactive table.\"\n",
              "              style=\"display:none;\">\n",
              "        \n",
              "  <svg xmlns=\"http://www.w3.org/2000/svg\" height=\"24px\"viewBox=\"0 0 24 24\"\n",
              "       width=\"24px\">\n",
              "    <path d=\"M0 0h24v24H0V0z\" fill=\"none\"/>\n",
              "    <path d=\"M18.56 5.44l.94 2.06.94-2.06 2.06-.94-2.06-.94-.94-2.06-.94 2.06-2.06.94zm-11 1L8.5 8.5l.94-2.06 2.06-.94-2.06-.94L8.5 2.5l-.94 2.06-2.06.94zm10 10l.94 2.06.94-2.06 2.06-.94-2.06-.94-.94-2.06-.94 2.06-2.06.94z\"/><path d=\"M17.41 7.96l-1.37-1.37c-.4-.4-.92-.59-1.43-.59-.52 0-1.04.2-1.43.59L10.3 9.45l-7.72 7.72c-.78.78-.78 2.05 0 2.83L4 21.41c.39.39.9.59 1.41.59.51 0 1.02-.2 1.41-.59l7.78-7.78 2.81-2.81c.8-.78.8-2.07 0-2.86zM5.41 20L4 18.59l7.72-7.72 1.47 1.35L5.41 20z\"/>\n",
              "  </svg>\n",
              "      </button>\n",
              "      \n",
              "  <style>\n",
              "    .colab-df-container {\n",
              "      display:flex;\n",
              "      flex-wrap:wrap;\n",
              "      gap: 12px;\n",
              "    }\n",
              "\n",
              "    .colab-df-convert {\n",
              "      background-color: #E8F0FE;\n",
              "      border: none;\n",
              "      border-radius: 50%;\n",
              "      cursor: pointer;\n",
              "      display: none;\n",
              "      fill: #1967D2;\n",
              "      height: 32px;\n",
              "      padding: 0 0 0 0;\n",
              "      width: 32px;\n",
              "    }\n",
              "\n",
              "    .colab-df-convert:hover {\n",
              "      background-color: #E2EBFA;\n",
              "      box-shadow: 0px 1px 2px rgba(60, 64, 67, 0.3), 0px 1px 3px 1px rgba(60, 64, 67, 0.15);\n",
              "      fill: #174EA6;\n",
              "    }\n",
              "\n",
              "    [theme=dark] .colab-df-convert {\n",
              "      background-color: #3B4455;\n",
              "      fill: #D2E3FC;\n",
              "    }\n",
              "\n",
              "    [theme=dark] .colab-df-convert:hover {\n",
              "      background-color: #434B5C;\n",
              "      box-shadow: 0px 1px 3px 1px rgba(0, 0, 0, 0.15);\n",
              "      filter: drop-shadow(0px 1px 2px rgba(0, 0, 0, 0.3));\n",
              "      fill: #FFFFFF;\n",
              "    }\n",
              "  </style>\n",
              "\n",
              "      <script>\n",
              "        const buttonEl =\n",
              "          document.querySelector('#df-192efb84-dd1a-43b4-ab66-49b83069ad3c button.colab-df-convert');\n",
              "        buttonEl.style.display =\n",
              "          google.colab.kernel.accessAllowed ? 'block' : 'none';\n",
              "\n",
              "        async function convertToInteractive(key) {\n",
              "          const element = document.querySelector('#df-192efb84-dd1a-43b4-ab66-49b83069ad3c');\n",
              "          const dataTable =\n",
              "            await google.colab.kernel.invokeFunction('convertToInteractive',\n",
              "                                                     [key], {});\n",
              "          if (!dataTable) return;\n",
              "\n",
              "          const docLinkHtml = 'Like what you see? Visit the ' +\n",
              "            '<a target=\"_blank\" href=https://colab.research.google.com/notebooks/data_table.ipynb>data table notebook</a>'\n",
              "            + ' to learn more about interactive tables.';\n",
              "          element.innerHTML = '';\n",
              "          dataTable['output_type'] = 'display_data';\n",
              "          await google.colab.output.renderOutput(dataTable, element);\n",
              "          const docLink = document.createElement('div');\n",
              "          docLink.innerHTML = docLinkHtml;\n",
              "          element.appendChild(docLink);\n",
              "        }\n",
              "      </script>\n",
              "    </div>\n",
              "  </div>\n",
              "  "
            ]
          },
          "metadata": {},
          "execution_count": 76
        }
      ]
    },
    {
      "cell_type": "code",
      "source": [
        "valid_parsed.head(5)"
      ],
      "metadata": {
        "colab": {
          "base_uri": "https://localhost:8080/",
          "height": 206
        },
        "id": "1l1bKDrIf02m",
        "outputId": "f7103a5c-7985-45a1-a2e8-43bcd758e2e9"
      },
      "execution_count": 77,
      "outputs": [
        {
          "output_type": "execute_result",
          "data": {
            "text/plain": [
              "                                              dialog  \\\n",
              "0  customer: @agent hey, any explanation why the ...   \n",
              "1  customer: @agent hey, any explanation why the ...   \n",
              "2  customer: @agent hey, any explanation why the ...   \n",
              "3  customer: @agent 1st class wifi is slower then...   \n",
              "4  customer: @agent 1st class wifi is slower then...   \n",
              "\n",
              "                                             summary  \n",
              "0  customer is complaining about unable to create...  \n",
              "1  customer asking  explanation why the create si...  \n",
              "2  customer is complaining that he is unable to c...  \n",
              "3  customer is complaining about the slow wifi co...  \n",
              "4  customer is complaining about the 1st class wi...  "
            ],
            "text/html": [
              "\n",
              "  <div id=\"df-5cecb5ca-78e1-4f4a-a080-335119045e37\">\n",
              "    <div class=\"colab-df-container\">\n",
              "      <div>\n",
              "<style scoped>\n",
              "    .dataframe tbody tr th:only-of-type {\n",
              "        vertical-align: middle;\n",
              "    }\n",
              "\n",
              "    .dataframe tbody tr th {\n",
              "        vertical-align: top;\n",
              "    }\n",
              "\n",
              "    .dataframe thead th {\n",
              "        text-align: right;\n",
              "    }\n",
              "</style>\n",
              "<table border=\"1\" class=\"dataframe\">\n",
              "  <thead>\n",
              "    <tr style=\"text-align: right;\">\n",
              "      <th></th>\n",
              "      <th>dialog</th>\n",
              "      <th>summary</th>\n",
              "    </tr>\n",
              "  </thead>\n",
              "  <tbody>\n",
              "    <tr>\n",
              "      <th>0</th>\n",
              "      <td>customer: @agent hey, any explanation why the ...</td>\n",
              "      <td>customer is complaining about unable to create...</td>\n",
              "    </tr>\n",
              "    <tr>\n",
              "      <th>1</th>\n",
              "      <td>customer: @agent hey, any explanation why the ...</td>\n",
              "      <td>customer asking  explanation why the create si...</td>\n",
              "    </tr>\n",
              "    <tr>\n",
              "      <th>2</th>\n",
              "      <td>customer: @agent hey, any explanation why the ...</td>\n",
              "      <td>customer is complaining that he is unable to c...</td>\n",
              "    </tr>\n",
              "    <tr>\n",
              "      <th>3</th>\n",
              "      <td>customer: @agent 1st class wifi is slower then...</td>\n",
              "      <td>customer is complaining about the slow wifi co...</td>\n",
              "    </tr>\n",
              "    <tr>\n",
              "      <th>4</th>\n",
              "      <td>customer: @agent 1st class wifi is slower then...</td>\n",
              "      <td>customer is complaining about the 1st class wi...</td>\n",
              "    </tr>\n",
              "  </tbody>\n",
              "</table>\n",
              "</div>\n",
              "      <button class=\"colab-df-convert\" onclick=\"convertToInteractive('df-5cecb5ca-78e1-4f4a-a080-335119045e37')\"\n",
              "              title=\"Convert this dataframe to an interactive table.\"\n",
              "              style=\"display:none;\">\n",
              "        \n",
              "  <svg xmlns=\"http://www.w3.org/2000/svg\" height=\"24px\"viewBox=\"0 0 24 24\"\n",
              "       width=\"24px\">\n",
              "    <path d=\"M0 0h24v24H0V0z\" fill=\"none\"/>\n",
              "    <path d=\"M18.56 5.44l.94 2.06.94-2.06 2.06-.94-2.06-.94-.94-2.06-.94 2.06-2.06.94zm-11 1L8.5 8.5l.94-2.06 2.06-.94-2.06-.94L8.5 2.5l-.94 2.06-2.06.94zm10 10l.94 2.06.94-2.06 2.06-.94-2.06-.94-.94-2.06-.94 2.06-2.06.94z\"/><path d=\"M17.41 7.96l-1.37-1.37c-.4-.4-.92-.59-1.43-.59-.52 0-1.04.2-1.43.59L10.3 9.45l-7.72 7.72c-.78.78-.78 2.05 0 2.83L4 21.41c.39.39.9.59 1.41.59.51 0 1.02-.2 1.41-.59l7.78-7.78 2.81-2.81c.8-.78.8-2.07 0-2.86zM5.41 20L4 18.59l7.72-7.72 1.47 1.35L5.41 20z\"/>\n",
              "  </svg>\n",
              "      </button>\n",
              "      \n",
              "  <style>\n",
              "    .colab-df-container {\n",
              "      display:flex;\n",
              "      flex-wrap:wrap;\n",
              "      gap: 12px;\n",
              "    }\n",
              "\n",
              "    .colab-df-convert {\n",
              "      background-color: #E8F0FE;\n",
              "      border: none;\n",
              "      border-radius: 50%;\n",
              "      cursor: pointer;\n",
              "      display: none;\n",
              "      fill: #1967D2;\n",
              "      height: 32px;\n",
              "      padding: 0 0 0 0;\n",
              "      width: 32px;\n",
              "    }\n",
              "\n",
              "    .colab-df-convert:hover {\n",
              "      background-color: #E2EBFA;\n",
              "      box-shadow: 0px 1px 2px rgba(60, 64, 67, 0.3), 0px 1px 3px 1px rgba(60, 64, 67, 0.15);\n",
              "      fill: #174EA6;\n",
              "    }\n",
              "\n",
              "    [theme=dark] .colab-df-convert {\n",
              "      background-color: #3B4455;\n",
              "      fill: #D2E3FC;\n",
              "    }\n",
              "\n",
              "    [theme=dark] .colab-df-convert:hover {\n",
              "      background-color: #434B5C;\n",
              "      box-shadow: 0px 1px 3px 1px rgba(0, 0, 0, 0.15);\n",
              "      filter: drop-shadow(0px 1px 2px rgba(0, 0, 0, 0.3));\n",
              "      fill: #FFFFFF;\n",
              "    }\n",
              "  </style>\n",
              "\n",
              "      <script>\n",
              "        const buttonEl =\n",
              "          document.querySelector('#df-5cecb5ca-78e1-4f4a-a080-335119045e37 button.colab-df-convert');\n",
              "        buttonEl.style.display =\n",
              "          google.colab.kernel.accessAllowed ? 'block' : 'none';\n",
              "\n",
              "        async function convertToInteractive(key) {\n",
              "          const element = document.querySelector('#df-5cecb5ca-78e1-4f4a-a080-335119045e37');\n",
              "          const dataTable =\n",
              "            await google.colab.kernel.invokeFunction('convertToInteractive',\n",
              "                                                     [key], {});\n",
              "          if (!dataTable) return;\n",
              "\n",
              "          const docLinkHtml = 'Like what you see? Visit the ' +\n",
              "            '<a target=\"_blank\" href=https://colab.research.google.com/notebooks/data_table.ipynb>data table notebook</a>'\n",
              "            + ' to learn more about interactive tables.';\n",
              "          element.innerHTML = '';\n",
              "          dataTable['output_type'] = 'display_data';\n",
              "          await google.colab.output.renderOutput(dataTable, element);\n",
              "          const docLink = document.createElement('div');\n",
              "          docLink.innerHTML = docLinkHtml;\n",
              "          element.appendChild(docLink);\n",
              "        }\n",
              "      </script>\n",
              "    </div>\n",
              "  </div>\n",
              "  "
            ]
          },
          "metadata": {},
          "execution_count": 77
        }
      ]
    },
    {
      "cell_type": "code",
      "source": [
        "test_parsed.head(3)"
      ],
      "metadata": {
        "colab": {
          "base_uri": "https://localhost:8080/",
          "height": 143
        },
        "id": "lrUnaKK1fnBI",
        "outputId": "9cfc1335-74c3-4766-b8f7-9faf8efa5559"
      },
      "execution_count": 78,
      "outputs": [
        {
          "output_type": "execute_result",
          "data": {
            "text/plain": [
              "                                              dialog  \\\n",
              "0  customer: @agent my watchlist is not updating ...   \n",
              "1  customer: @agent my watchlist is not updating ...   \n",
              "2  customer: @agent my watchlist is not updating ...   \n",
              "\n",
              "                                             summary  \n",
              "0  customer is complaining that the watchlist is ...  \n",
              "1  customer is complaining that my watch list is ...  \n",
              "2  customer is complaining that he is not getting...  "
            ],
            "text/html": [
              "\n",
              "  <div id=\"df-6895a1b8-3d3a-44a4-a5a7-4b69beae4979\">\n",
              "    <div class=\"colab-df-container\">\n",
              "      <div>\n",
              "<style scoped>\n",
              "    .dataframe tbody tr th:only-of-type {\n",
              "        vertical-align: middle;\n",
              "    }\n",
              "\n",
              "    .dataframe tbody tr th {\n",
              "        vertical-align: top;\n",
              "    }\n",
              "\n",
              "    .dataframe thead th {\n",
              "        text-align: right;\n",
              "    }\n",
              "</style>\n",
              "<table border=\"1\" class=\"dataframe\">\n",
              "  <thead>\n",
              "    <tr style=\"text-align: right;\">\n",
              "      <th></th>\n",
              "      <th>dialog</th>\n",
              "      <th>summary</th>\n",
              "    </tr>\n",
              "  </thead>\n",
              "  <tbody>\n",
              "    <tr>\n",
              "      <th>0</th>\n",
              "      <td>customer: @agent my watchlist is not updating ...</td>\n",
              "      <td>customer is complaining that the watchlist is ...</td>\n",
              "    </tr>\n",
              "    <tr>\n",
              "      <th>1</th>\n",
              "      <td>customer: @agent my watchlist is not updating ...</td>\n",
              "      <td>customer is complaining that my watch list is ...</td>\n",
              "    </tr>\n",
              "    <tr>\n",
              "      <th>2</th>\n",
              "      <td>customer: @agent my watchlist is not updating ...</td>\n",
              "      <td>customer is complaining that he is not getting...</td>\n",
              "    </tr>\n",
              "  </tbody>\n",
              "</table>\n",
              "</div>\n",
              "      <button class=\"colab-df-convert\" onclick=\"convertToInteractive('df-6895a1b8-3d3a-44a4-a5a7-4b69beae4979')\"\n",
              "              title=\"Convert this dataframe to an interactive table.\"\n",
              "              style=\"display:none;\">\n",
              "        \n",
              "  <svg xmlns=\"http://www.w3.org/2000/svg\" height=\"24px\"viewBox=\"0 0 24 24\"\n",
              "       width=\"24px\">\n",
              "    <path d=\"M0 0h24v24H0V0z\" fill=\"none\"/>\n",
              "    <path d=\"M18.56 5.44l.94 2.06.94-2.06 2.06-.94-2.06-.94-.94-2.06-.94 2.06-2.06.94zm-11 1L8.5 8.5l.94-2.06 2.06-.94-2.06-.94L8.5 2.5l-.94 2.06-2.06.94zm10 10l.94 2.06.94-2.06 2.06-.94-2.06-.94-.94-2.06-.94 2.06-2.06.94z\"/><path d=\"M17.41 7.96l-1.37-1.37c-.4-.4-.92-.59-1.43-.59-.52 0-1.04.2-1.43.59L10.3 9.45l-7.72 7.72c-.78.78-.78 2.05 0 2.83L4 21.41c.39.39.9.59 1.41.59.51 0 1.02-.2 1.41-.59l7.78-7.78 2.81-2.81c.8-.78.8-2.07 0-2.86zM5.41 20L4 18.59l7.72-7.72 1.47 1.35L5.41 20z\"/>\n",
              "  </svg>\n",
              "      </button>\n",
              "      \n",
              "  <style>\n",
              "    .colab-df-container {\n",
              "      display:flex;\n",
              "      flex-wrap:wrap;\n",
              "      gap: 12px;\n",
              "    }\n",
              "\n",
              "    .colab-df-convert {\n",
              "      background-color: #E8F0FE;\n",
              "      border: none;\n",
              "      border-radius: 50%;\n",
              "      cursor: pointer;\n",
              "      display: none;\n",
              "      fill: #1967D2;\n",
              "      height: 32px;\n",
              "      padding: 0 0 0 0;\n",
              "      width: 32px;\n",
              "    }\n",
              "\n",
              "    .colab-df-convert:hover {\n",
              "      background-color: #E2EBFA;\n",
              "      box-shadow: 0px 1px 2px rgba(60, 64, 67, 0.3), 0px 1px 3px 1px rgba(60, 64, 67, 0.15);\n",
              "      fill: #174EA6;\n",
              "    }\n",
              "\n",
              "    [theme=dark] .colab-df-convert {\n",
              "      background-color: #3B4455;\n",
              "      fill: #D2E3FC;\n",
              "    }\n",
              "\n",
              "    [theme=dark] .colab-df-convert:hover {\n",
              "      background-color: #434B5C;\n",
              "      box-shadow: 0px 1px 3px 1px rgba(0, 0, 0, 0.15);\n",
              "      filter: drop-shadow(0px 1px 2px rgba(0, 0, 0, 0.3));\n",
              "      fill: #FFFFFF;\n",
              "    }\n",
              "  </style>\n",
              "\n",
              "      <script>\n",
              "        const buttonEl =\n",
              "          document.querySelector('#df-6895a1b8-3d3a-44a4-a5a7-4b69beae4979 button.colab-df-convert');\n",
              "        buttonEl.style.display =\n",
              "          google.colab.kernel.accessAllowed ? 'block' : 'none';\n",
              "\n",
              "        async function convertToInteractive(key) {\n",
              "          const element = document.querySelector('#df-6895a1b8-3d3a-44a4-a5a7-4b69beae4979');\n",
              "          const dataTable =\n",
              "            await google.colab.kernel.invokeFunction('convertToInteractive',\n",
              "                                                     [key], {});\n",
              "          if (!dataTable) return;\n",
              "\n",
              "          const docLinkHtml = 'Like what you see? Visit the ' +\n",
              "            '<a target=\"_blank\" href=https://colab.research.google.com/notebooks/data_table.ipynb>data table notebook</a>'\n",
              "            + ' to learn more about interactive tables.';\n",
              "          element.innerHTML = '';\n",
              "          dataTable['output_type'] = 'display_data';\n",
              "          await google.colab.output.renderOutput(dataTable, element);\n",
              "          const docLink = document.createElement('div');\n",
              "          docLink.innerHTML = docLinkHtml;\n",
              "          element.appendChild(docLink);\n",
              "        }\n",
              "      </script>\n",
              "    </div>\n",
              "  </div>\n",
              "  "
            ]
          },
          "metadata": {},
          "execution_count": 78
        }
      ]
    },
    {
      "cell_type": "markdown",
      "source": [
        "### Creating a summarization with bart-large-samsum"
      ],
      "metadata": {
        "id": "v7UVj0CQ-b3E"
      }
    },
    {
      "cell_type": "code",
      "source": [
        "def run_summarizer(input, model_name):\n",
        "    output_list = []\n",
        "    \n",
        "    summarizer = pipeline(\"summarization\", model=model_name)\n",
        "\n",
        "    for i in range(len(input)):\n",
        "        output_list.append(summarizer(input[i]))\n",
        "    \n",
        "    return output_list"
      ],
      "metadata": {
        "id": "J0jTNLqZ0SGP"
      },
      "execution_count": null,
      "outputs": []
    },
    {
      "cell_type": "code",
      "source": [
        "model_name=\"linydub/bart-large-samsum\"\n",
        "test_result = run_summarizer(test_parsed['dialog'].tolist(), model_name)\n",
        "\n",
        "test_parsed['predicted'] = test_result\n",
        "\n",
        "test_parsed.to_csv('./twcs_test_predicted.csv')"
      ],
      "metadata": {
        "colab": {
          "base_uri": "https://localhost:8080/"
        },
        "id": "b0bvfZ2Y0V5A",
        "outputId": "74a7d1b2-e14e-49a4-b318-ae549d7c22e1"
      },
      "execution_count": null,
      "outputs": [
        {
          "output_type": "stream",
          "name": "stderr",
          "text": [
            "Your max_length is set to 62, but you input_length is only 60. You might consider decreasing max_length manually, e.g. summarizer('...', max_length=30)\n",
            "Your max_length is set to 62, but you input_length is only 40. You might consider decreasing max_length manually, e.g. summarizer('...', max_length=20)\n",
            "Your max_length is set to 62, but you input_length is only 49. You might consider decreasing max_length manually, e.g. summarizer('...', max_length=24)\n",
            "Your max_length is set to 62, but you input_length is only 56. You might consider decreasing max_length manually, e.g. summarizer('...', max_length=28)\n",
            "Your max_length is set to 62, but you input_length is only 60. You might consider decreasing max_length manually, e.g. summarizer('...', max_length=30)\n"
          ]
        }
      ]
    },
    {
      "cell_type": "code",
      "source": [
        "# Store the test_result variable\n",
        "test_result_obj = open('test_parsed.pckl', 'wb')\n",
        "pickle.dump(test_result, test_result_obj)\n",
        "f_twcs_dict.close()"
      ],
      "metadata": {
        "id": "CqCDo44-9L6_"
      },
      "execution_count": null,
      "outputs": []
    },
    {
      "cell_type": "code",
      "source": [
        "# test_result_obj = open(curr_path + '/drive/MyDrive/test_parsed.pckl', 'rb')\n",
        "# test_result_copy = pickle.load(test_result_obj)\n",
        "# test_parsed['predicted'] = test_result_copy"
      ],
      "metadata": {
        "id": "Xw4Ni628yI_n"
      },
      "execution_count": null,
      "outputs": []
    },
    {
      "cell_type": "markdown",
      "source": [
        "### Showing the Predicted result"
      ],
      "metadata": {
        "id": "RltHABUVNgpS"
      }
    },
    {
      "cell_type": "code",
      "source": [
        "test_parsed.head(5)"
      ],
      "metadata": {
        "colab": {
          "base_uri": "https://localhost:8080/",
          "height": 337
        },
        "id": "E2x08oNSB9-p",
        "outputId": "4f724f2f-0b1f-482a-bb89-df1228082ea1"
      },
      "execution_count": null,
      "outputs": [
        {
          "output_type": "execute_result",
          "data": {
            "text/plain": [
              "                                              dialog  \\\n",
              "0  658975: @hulu_support My watchlist is not upda...   \n",
              "1  658975: @hulu_support My watchlist is not upda...   \n",
              "2  658975: @hulu_support My watchlist is not upda...   \n",
              "3  637109: @AirbnbHelp hi , my Acc was linked to ...   \n",
              "4  637109: @AirbnbHelp hi , my Acc was linked to ...   \n",
              "\n",
              "                                             summary  \\\n",
              "0  Customer is complaining that the watchlist is ...   \n",
              "1  Customer is complaining that my watch list is ...   \n",
              "2  Customer is complaining that he is not getting...   \n",
              "3  Customer is asking about the ACC to link to th...   \n",
              "4  Customer is enquiring that whether they can ch...   \n",
              "\n",
              "                                           predicted  \n",
              "0  [{'summary_text': 'Norlene's watchlist is not ...  \n",
              "1  [{'summary_text': 'Hulu's watchlist is not upd...  \n",
              "2  [{'summary_text': 'Norlene's Hulu watchlist is...  \n",
              "3  [{'summary_text': '637109's Acc was linked to ...  \n",
              "4  [{'summary_text': 'Airbnb help asks 637109 to ...  "
            ],
            "text/html": [
              "\n",
              "  <div id=\"df-ff50a832-6895-4a91-bf24-bfd60828f21c\">\n",
              "    <div class=\"colab-df-container\">\n",
              "      <div>\n",
              "<style scoped>\n",
              "    .dataframe tbody tr th:only-of-type {\n",
              "        vertical-align: middle;\n",
              "    }\n",
              "\n",
              "    .dataframe tbody tr th {\n",
              "        vertical-align: top;\n",
              "    }\n",
              "\n",
              "    .dataframe thead th {\n",
              "        text-align: right;\n",
              "    }\n",
              "</style>\n",
              "<table border=\"1\" class=\"dataframe\">\n",
              "  <thead>\n",
              "    <tr style=\"text-align: right;\">\n",
              "      <th></th>\n",
              "      <th>dialog</th>\n",
              "      <th>summary</th>\n",
              "      <th>predicted</th>\n",
              "    </tr>\n",
              "  </thead>\n",
              "  <tbody>\n",
              "    <tr>\n",
              "      <th>0</th>\n",
              "      <td>658975: @hulu_support My watchlist is not upda...</td>\n",
              "      <td>Customer is complaining that the watchlist is ...</td>\n",
              "      <td>[{'summary_text': 'Norlene's watchlist is not ...</td>\n",
              "    </tr>\n",
              "    <tr>\n",
              "      <th>1</th>\n",
              "      <td>658975: @hulu_support My watchlist is not upda...</td>\n",
              "      <td>Customer is complaining that my watch list is ...</td>\n",
              "      <td>[{'summary_text': 'Hulu's watchlist is not upd...</td>\n",
              "    </tr>\n",
              "    <tr>\n",
              "      <th>2</th>\n",
              "      <td>658975: @hulu_support My watchlist is not upda...</td>\n",
              "      <td>Customer is complaining that he is not getting...</td>\n",
              "      <td>[{'summary_text': 'Norlene's Hulu watchlist is...</td>\n",
              "    </tr>\n",
              "    <tr>\n",
              "      <th>3</th>\n",
              "      <td>637109: @AirbnbHelp hi , my Acc was linked to ...</td>\n",
              "      <td>Customer is asking about the ACC to link to th...</td>\n",
              "      <td>[{'summary_text': '637109's Acc was linked to ...</td>\n",
              "    </tr>\n",
              "    <tr>\n",
              "      <th>4</th>\n",
              "      <td>637109: @AirbnbHelp hi , my Acc was linked to ...</td>\n",
              "      <td>Customer is enquiring that whether they can ch...</td>\n",
              "      <td>[{'summary_text': 'Airbnb help asks 637109 to ...</td>\n",
              "    </tr>\n",
              "  </tbody>\n",
              "</table>\n",
              "</div>\n",
              "      <button class=\"colab-df-convert\" onclick=\"convertToInteractive('df-ff50a832-6895-4a91-bf24-bfd60828f21c')\"\n",
              "              title=\"Convert this dataframe to an interactive table.\"\n",
              "              style=\"display:none;\">\n",
              "        \n",
              "  <svg xmlns=\"http://www.w3.org/2000/svg\" height=\"24px\"viewBox=\"0 0 24 24\"\n",
              "       width=\"24px\">\n",
              "    <path d=\"M0 0h24v24H0V0z\" fill=\"none\"/>\n",
              "    <path d=\"M18.56 5.44l.94 2.06.94-2.06 2.06-.94-2.06-.94-.94-2.06-.94 2.06-2.06.94zm-11 1L8.5 8.5l.94-2.06 2.06-.94-2.06-.94L8.5 2.5l-.94 2.06-2.06.94zm10 10l.94 2.06.94-2.06 2.06-.94-2.06-.94-.94-2.06-.94 2.06-2.06.94z\"/><path d=\"M17.41 7.96l-1.37-1.37c-.4-.4-.92-.59-1.43-.59-.52 0-1.04.2-1.43.59L10.3 9.45l-7.72 7.72c-.78.78-.78 2.05 0 2.83L4 21.41c.39.39.9.59 1.41.59.51 0 1.02-.2 1.41-.59l7.78-7.78 2.81-2.81c.8-.78.8-2.07 0-2.86zM5.41 20L4 18.59l7.72-7.72 1.47 1.35L5.41 20z\"/>\n",
              "  </svg>\n",
              "      </button>\n",
              "      \n",
              "  <style>\n",
              "    .colab-df-container {\n",
              "      display:flex;\n",
              "      flex-wrap:wrap;\n",
              "      gap: 12px;\n",
              "    }\n",
              "\n",
              "    .colab-df-convert {\n",
              "      background-color: #E8F0FE;\n",
              "      border: none;\n",
              "      border-radius: 50%;\n",
              "      cursor: pointer;\n",
              "      display: none;\n",
              "      fill: #1967D2;\n",
              "      height: 32px;\n",
              "      padding: 0 0 0 0;\n",
              "      width: 32px;\n",
              "    }\n",
              "\n",
              "    .colab-df-convert:hover {\n",
              "      background-color: #E2EBFA;\n",
              "      box-shadow: 0px 1px 2px rgba(60, 64, 67, 0.3), 0px 1px 3px 1px rgba(60, 64, 67, 0.15);\n",
              "      fill: #174EA6;\n",
              "    }\n",
              "\n",
              "    [theme=dark] .colab-df-convert {\n",
              "      background-color: #3B4455;\n",
              "      fill: #D2E3FC;\n",
              "    }\n",
              "\n",
              "    [theme=dark] .colab-df-convert:hover {\n",
              "      background-color: #434B5C;\n",
              "      box-shadow: 0px 1px 3px 1px rgba(0, 0, 0, 0.15);\n",
              "      filter: drop-shadow(0px 1px 2px rgba(0, 0, 0, 0.3));\n",
              "      fill: #FFFFFF;\n",
              "    }\n",
              "  </style>\n",
              "\n",
              "      <script>\n",
              "        const buttonEl =\n",
              "          document.querySelector('#df-ff50a832-6895-4a91-bf24-bfd60828f21c button.colab-df-convert');\n",
              "        buttonEl.style.display =\n",
              "          google.colab.kernel.accessAllowed ? 'block' : 'none';\n",
              "\n",
              "        async function convertToInteractive(key) {\n",
              "          const element = document.querySelector('#df-ff50a832-6895-4a91-bf24-bfd60828f21c');\n",
              "          const dataTable =\n",
              "            await google.colab.kernel.invokeFunction('convertToInteractive',\n",
              "                                                     [key], {});\n",
              "          if (!dataTable) return;\n",
              "\n",
              "          const docLinkHtml = 'Like what you see? Visit the ' +\n",
              "            '<a target=\"_blank\" href=https://colab.research.google.com/notebooks/data_table.ipynb>data table notebook</a>'\n",
              "            + ' to learn more about interactive tables.';\n",
              "          element.innerHTML = '';\n",
              "          dataTable['output_type'] = 'display_data';\n",
              "          await google.colab.output.renderOutput(dataTable, element);\n",
              "          const docLink = document.createElement('div');\n",
              "          docLink.innerHTML = docLinkHtml;\n",
              "          element.appendChild(docLink);\n",
              "        }\n",
              "      </script>\n",
              "    </div>\n",
              "  </div>\n",
              "  "
            ]
          },
          "metadata": {},
          "execution_count": 56
        }
      ]
    },
    {
      "cell_type": "markdown",
      "source": [
        "### Compare Two Summarizations with Cosine Similarity\n"
      ],
      "metadata": {
        "id": "Y0vD3eGyPwdU"
      }
    },
    {
      "cell_type": "code",
      "source": [
        "# Reference https://www.geeksforgeeks.org/python-measure-similarity-between-two-sentences-using-cosine-similarity/\n",
        "def generation_cosine_similarity(X, Y):  \n",
        "  # tokenization\n",
        "  X_list = word_tokenize(X) \n",
        "  Y_list = word_tokenize(Y)\n",
        "    \n",
        "  # sw contains the list of stopwords\n",
        "  sw = stopwords.words('english') \n",
        "  l1 =[];l2 =[]\n",
        "    \n",
        "  # remove stop words from the string\n",
        "  X_set = {w for w in X_list if not w in sw} \n",
        "  Y_set = {w for w in Y_list if not w in sw}\n",
        "    \n",
        "  # form a set containing keywords of both strings \n",
        "  rvector = X_set.union(Y_set) \n",
        "  for w in rvector:\n",
        "      if w in X_set: l1.append(1) # create a vector\n",
        "      else: l1.append(0)\n",
        "      if w in Y_set: l2.append(1)\n",
        "      else: l2.append(0)\n",
        "  c = 0\n",
        "    \n",
        "  # cosine formula \n",
        "  for i in range(len(rvector)):\n",
        "          c+= l1[i]*l2[i]\n",
        "  cosine = c / float((sum(l1)*sum(l2))**0.5)\n",
        "  return cosine\n",
        "consine_similarity_scores = []\n",
        "\n",
        "for i in range(len(test_parsed)):\n",
        "  X = test_parsed['summary'][i]\n",
        "  Y = test_parsed['predicted'][i][0]['summary_text']\n",
        "  cosine_sim = generation_cosine_similarity(X,Y)\n",
        "  consine_similarity_scores.append(cosine_sim)\n"
      ],
      "metadata": {
        "id": "8nFtvxSWQh4K"
      },
      "execution_count": null,
      "outputs": []
    },
    {
      "cell_type": "code",
      "source": [
        "test_parsed['cosine_similarities'] = consine_similarity_scores"
      ],
      "metadata": {
        "id": "AhnZsWGOQMq_"
      },
      "execution_count": null,
      "outputs": []
    },
    {
      "cell_type": "code",
      "source": [
        "test_parsed.head(5)"
      ],
      "metadata": {
        "colab": {
          "base_uri": "https://localhost:8080/",
          "height": 337
        },
        "id": "vZtWJ-7aRMvW",
        "outputId": "fae461ac-c8df-46ca-af04-0b7b23d7b320"
      },
      "execution_count": null,
      "outputs": [
        {
          "output_type": "execute_result",
          "data": {
            "text/plain": [
              "                                              dialog  \\\n",
              "0  658975: @hulu_support My watchlist is not upda...   \n",
              "1  658975: @hulu_support My watchlist is not upda...   \n",
              "2  658975: @hulu_support My watchlist is not upda...   \n",
              "3  637109: @AirbnbHelp hi , my Acc was linked to ...   \n",
              "4  637109: @AirbnbHelp hi , my Acc was linked to ...   \n",
              "\n",
              "                                             summary  \\\n",
              "0  Customer is complaining that the watchlist is ...   \n",
              "1  Customer is complaining that my watch list is ...   \n",
              "2  Customer is complaining that he is not getting...   \n",
              "3  Customer is asking about the ACC to link to th...   \n",
              "4  Customer is enquiring that whether they can ch...   \n",
              "\n",
              "                                           predicted  cosine_similarities  \n",
              "0  [{'summary_text': 'Norlene's watchlist is not ...             0.372678  \n",
              "1  [{'summary_text': 'Hulu's watchlist is not upd...             0.416025  \n",
              "2  [{'summary_text': 'Norlene's Hulu watchlist is...             0.282843  \n",
              "3  [{'summary_text': '637109's Acc was linked to ...             0.246183  \n",
              "4  [{'summary_text': 'Airbnb help asks 637109 to ...             0.072739  "
            ],
            "text/html": [
              "\n",
              "  <div id=\"df-ab305537-03d9-4b67-8da8-13bcb48ad4e3\">\n",
              "    <div class=\"colab-df-container\">\n",
              "      <div>\n",
              "<style scoped>\n",
              "    .dataframe tbody tr th:only-of-type {\n",
              "        vertical-align: middle;\n",
              "    }\n",
              "\n",
              "    .dataframe tbody tr th {\n",
              "        vertical-align: top;\n",
              "    }\n",
              "\n",
              "    .dataframe thead th {\n",
              "        text-align: right;\n",
              "    }\n",
              "</style>\n",
              "<table border=\"1\" class=\"dataframe\">\n",
              "  <thead>\n",
              "    <tr style=\"text-align: right;\">\n",
              "      <th></th>\n",
              "      <th>dialog</th>\n",
              "      <th>summary</th>\n",
              "      <th>predicted</th>\n",
              "      <th>cosine_similarities</th>\n",
              "    </tr>\n",
              "  </thead>\n",
              "  <tbody>\n",
              "    <tr>\n",
              "      <th>0</th>\n",
              "      <td>658975: @hulu_support My watchlist is not upda...</td>\n",
              "      <td>Customer is complaining that the watchlist is ...</td>\n",
              "      <td>[{'summary_text': 'Norlene's watchlist is not ...</td>\n",
              "      <td>0.372678</td>\n",
              "    </tr>\n",
              "    <tr>\n",
              "      <th>1</th>\n",
              "      <td>658975: @hulu_support My watchlist is not upda...</td>\n",
              "      <td>Customer is complaining that my watch list is ...</td>\n",
              "      <td>[{'summary_text': 'Hulu's watchlist is not upd...</td>\n",
              "      <td>0.416025</td>\n",
              "    </tr>\n",
              "    <tr>\n",
              "      <th>2</th>\n",
              "      <td>658975: @hulu_support My watchlist is not upda...</td>\n",
              "      <td>Customer is complaining that he is not getting...</td>\n",
              "      <td>[{'summary_text': 'Norlene's Hulu watchlist is...</td>\n",
              "      <td>0.282843</td>\n",
              "    </tr>\n",
              "    <tr>\n",
              "      <th>3</th>\n",
              "      <td>637109: @AirbnbHelp hi , my Acc was linked to ...</td>\n",
              "      <td>Customer is asking about the ACC to link to th...</td>\n",
              "      <td>[{'summary_text': '637109's Acc was linked to ...</td>\n",
              "      <td>0.246183</td>\n",
              "    </tr>\n",
              "    <tr>\n",
              "      <th>4</th>\n",
              "      <td>637109: @AirbnbHelp hi , my Acc was linked to ...</td>\n",
              "      <td>Customer is enquiring that whether they can ch...</td>\n",
              "      <td>[{'summary_text': 'Airbnb help asks 637109 to ...</td>\n",
              "      <td>0.072739</td>\n",
              "    </tr>\n",
              "  </tbody>\n",
              "</table>\n",
              "</div>\n",
              "      <button class=\"colab-df-convert\" onclick=\"convertToInteractive('df-ab305537-03d9-4b67-8da8-13bcb48ad4e3')\"\n",
              "              title=\"Convert this dataframe to an interactive table.\"\n",
              "              style=\"display:none;\">\n",
              "        \n",
              "  <svg xmlns=\"http://www.w3.org/2000/svg\" height=\"24px\"viewBox=\"0 0 24 24\"\n",
              "       width=\"24px\">\n",
              "    <path d=\"M0 0h24v24H0V0z\" fill=\"none\"/>\n",
              "    <path d=\"M18.56 5.44l.94 2.06.94-2.06 2.06-.94-2.06-.94-.94-2.06-.94 2.06-2.06.94zm-11 1L8.5 8.5l.94-2.06 2.06-.94-2.06-.94L8.5 2.5l-.94 2.06-2.06.94zm10 10l.94 2.06.94-2.06 2.06-.94-2.06-.94-.94-2.06-.94 2.06-2.06.94z\"/><path d=\"M17.41 7.96l-1.37-1.37c-.4-.4-.92-.59-1.43-.59-.52 0-1.04.2-1.43.59L10.3 9.45l-7.72 7.72c-.78.78-.78 2.05 0 2.83L4 21.41c.39.39.9.59 1.41.59.51 0 1.02-.2 1.41-.59l7.78-7.78 2.81-2.81c.8-.78.8-2.07 0-2.86zM5.41 20L4 18.59l7.72-7.72 1.47 1.35L5.41 20z\"/>\n",
              "  </svg>\n",
              "      </button>\n",
              "      \n",
              "  <style>\n",
              "    .colab-df-container {\n",
              "      display:flex;\n",
              "      flex-wrap:wrap;\n",
              "      gap: 12px;\n",
              "    }\n",
              "\n",
              "    .colab-df-convert {\n",
              "      background-color: #E8F0FE;\n",
              "      border: none;\n",
              "      border-radius: 50%;\n",
              "      cursor: pointer;\n",
              "      display: none;\n",
              "      fill: #1967D2;\n",
              "      height: 32px;\n",
              "      padding: 0 0 0 0;\n",
              "      width: 32px;\n",
              "    }\n",
              "\n",
              "    .colab-df-convert:hover {\n",
              "      background-color: #E2EBFA;\n",
              "      box-shadow: 0px 1px 2px rgba(60, 64, 67, 0.3), 0px 1px 3px 1px rgba(60, 64, 67, 0.15);\n",
              "      fill: #174EA6;\n",
              "    }\n",
              "\n",
              "    [theme=dark] .colab-df-convert {\n",
              "      background-color: #3B4455;\n",
              "      fill: #D2E3FC;\n",
              "    }\n",
              "\n",
              "    [theme=dark] .colab-df-convert:hover {\n",
              "      background-color: #434B5C;\n",
              "      box-shadow: 0px 1px 3px 1px rgba(0, 0, 0, 0.15);\n",
              "      filter: drop-shadow(0px 1px 2px rgba(0, 0, 0, 0.3));\n",
              "      fill: #FFFFFF;\n",
              "    }\n",
              "  </style>\n",
              "\n",
              "      <script>\n",
              "        const buttonEl =\n",
              "          document.querySelector('#df-ab305537-03d9-4b67-8da8-13bcb48ad4e3 button.colab-df-convert');\n",
              "        buttonEl.style.display =\n",
              "          google.colab.kernel.accessAllowed ? 'block' : 'none';\n",
              "\n",
              "        async function convertToInteractive(key) {\n",
              "          const element = document.querySelector('#df-ab305537-03d9-4b67-8da8-13bcb48ad4e3');\n",
              "          const dataTable =\n",
              "            await google.colab.kernel.invokeFunction('convertToInteractive',\n",
              "                                                     [key], {});\n",
              "          if (!dataTable) return;\n",
              "\n",
              "          const docLinkHtml = 'Like what you see? Visit the ' +\n",
              "            '<a target=\"_blank\" href=https://colab.research.google.com/notebooks/data_table.ipynb>data table notebook</a>'\n",
              "            + ' to learn more about interactive tables.';\n",
              "          element.innerHTML = '';\n",
              "          dataTable['output_type'] = 'display_data';\n",
              "          await google.colab.output.renderOutput(dataTable, element);\n",
              "          const docLink = document.createElement('div');\n",
              "          docLink.innerHTML = docLinkHtml;\n",
              "          element.appendChild(docLink);\n",
              "        }\n",
              "      </script>\n",
              "    </div>\n",
              "  </div>\n",
              "  "
            ]
          },
          "metadata": {},
          "execution_count": 82
        }
      ]
    },
    {
      "cell_type": "code",
      "source": [
        "print(\"Max for cosine_similarities    : \", np.max(test_parsed['cosine_similarities']))\n",
        "print(\"Min for cosine_similarities    : \", np.min(test_parsed['cosine_similarities']))\n",
        "print(\"Mean for cosine_similarities   : \", np.mean(test_parsed['cosine_similarities']))\n",
        "print(\"Median for cosine_similarities : \", np.median(test_parsed['cosine_similarities']))"
      ],
      "metadata": {
        "colab": {
          "base_uri": "https://localhost:8080/"
        },
        "id": "q3cgL-oqTO1R",
        "outputId": "d2173265-5811-4116-96fc-a4ce1faeda11"
      },
      "execution_count": null,
      "outputs": [
        {
          "output_type": "stream",
          "name": "stdout",
          "text": [
            "Max for cosine_similarities    :  0.7735267838285931\n",
            "Min for cosine_similarities    :  0.051639777949432225\n",
            "Mean for cosine_similarities   :  0.29148590319586826\n",
            "Median for cosine_similarities :  0.27386127875258304\n"
          ]
        }
      ]
    },
    {
      "cell_type": "code",
      "source": [
        "sns.set(style=\"darkgrid\")\n",
        "plt.title(\"Cosine Similarities for two summarizations\")\n",
        "sns.boxplot(x=test_parsed[\"cosine_similarities\"])"
      ],
      "metadata": {
        "colab": {
          "base_uri": "https://localhost:8080/",
          "height": 319
        },
        "id": "55kNSL2gTbkv",
        "outputId": "611afb61-fb8e-47c3-df85-f368f02a7047"
      },
      "execution_count": null,
      "outputs": [
        {
          "output_type": "execute_result",
          "data": {
            "text/plain": [
              "<AxesSubplot:title={'center':'Cosine Similarities for two summarizations'}, xlabel='cosine_similarities'>"
            ]
          },
          "metadata": {},
          "execution_count": 96
        },
        {
          "output_type": "display_data",
          "data": {
            "text/plain": [
              "<Figure size 432x288 with 1 Axes>"
            ],
            "image/png": "[encoded data removed]"
          },
          "metadata": {}
        }
      ]
    },
    {
      "cell_type": "markdown",
      "source": [
        "## Compare Two summarizations with Rouge 1, 2"
      ],
      "metadata": {
        "id": "Uy1LkKU_ZS6v"
      }
    },
    {
      "cell_type": "markdown",
      "source": [
        "#### Calculate Rouge-1 and Rouge-2 by avg"
      ],
      "metadata": {
        "id": "8DRa9CR-Dd0b"
      }
    },
    {
      "cell_type": "code",
      "source": [
        "predicted_summaries = []\n",
        "for i in test_parsed['predicted']:\n",
        "  predicted_summaries.append(i[0]['summary_text'])\n",
        "\n",
        "summaries = list(test_parsed['summary'])\n",
        "\n",
        "rouge = Rouge()\n",
        "rouge.get_scores(predicted_summaries, summaries, avg=True)"
      ],
      "metadata": {
        "colab": {
          "base_uri": "https://localhost:8080/"
        },
        "id": "8zqX2kjPCDux",
        "outputId": "befdbf45-fff9-4325-fe97-e9bf97e89d62"
      },
      "execution_count": null,
      "outputs": [
        {
          "output_type": "execute_result",
          "data": {
            "text/plain": [
              "{'rouge-1': {'r': 0.24570896368189374,\n",
              "  'p': 0.35079820042920035,\n",
              "  'f': 0.2798223221854206},\n",
              " 'rouge-2': {'r': 0.0884557780530421,\n",
              "  'p': 0.14546800689778758,\n",
              "  'f': 0.10564611568567775},\n",
              " 'rouge-l': {'r': 0.22787529894316164,\n",
              "  'p': 0.3249177184493534,\n",
              "  'f': 0.2593398966192099}}"
            ]
          },
          "metadata": {},
          "execution_count": 57
        }
      ]
    },
    {
      "cell_type": "markdown",
      "source": [
        "### Draw boxplots for Rouge 1 and 2 "
      ],
      "metadata": {
        "id": "hQDvxaZNEUWl"
      }
    },
    {
      "cell_type": "code",
      "source": [
        "def generation_Rouge_Scores(X, Y):  \n",
        "  rouge = Rouge()\n",
        "  return rouge.get_scores(X, Y)"
      ],
      "metadata": {
        "id": "X4LCwjvDWR8H"
      },
      "execution_count": null,
      "outputs": []
    },
    {
      "cell_type": "code",
      "source": [
        "def get_rouge1_rouge2_scores_for_bxplot(test_parsed):\n",
        "  Rouge_1_f1scores_list = []\n",
        "  Rouge_2_f1scores_list = []\n",
        "  Rouge_1_precision_list = []\n",
        "  Rouge_2_precision_list = []\n",
        "  Rouge_1_recall_list = []\n",
        "  Rouge_2_recall_list = []\n",
        "  for i in range(len(test_parsed)):\n",
        "    X = test_parsed['summary'][i]\n",
        "    Y = test_parsed['predicted'][i][0]['summary_text']  \n",
        "    get_rouge_scores = generation_Rouge_Scores(X,Y)\n",
        "    Rouge_1_f1scores = get_rouge_scores[0]['rouge-1']['f']\n",
        "    Rouge_2_f1scores = get_rouge_scores[0]['rouge-2']['f']\n",
        "\n",
        "    Rouge_1_f1scores_list.append(Rouge_1_f1scores)\n",
        "    Rouge_2_f1scores_list.append(Rouge_2_f1scores)\n",
        "\n",
        "    Rouge_1_precision = get_rouge_scores[0]['rouge-1']['p']\n",
        "    Rouge_2_precision = get_rouge_scores[0]['rouge-2']['p']\n",
        "\n",
        "    Rouge_1_precision_list.append(Rouge_1_precision)\n",
        "    Rouge_2_precision_list.append(Rouge_2_precision)\n",
        "\n",
        "    Rouge_1_recall = get_rouge_scores[0]['rouge-1']['r']\n",
        "    Rouge_2_recall = get_rouge_scores[0]['rouge-2']['r']\n",
        "\n",
        "    Rouge_1_recall_list.append(Rouge_1_recall)\n",
        "    Rouge_2_recall_list.append(Rouge_2_recall)\n",
        "  return Rouge_1_f1scores_list, Rouge_2_f1scores_list"
      ],
      "metadata": {
        "id": "UbGHr2z4Tys2"
      },
      "execution_count": null,
      "outputs": []
    },
    {
      "cell_type": "code",
      "source": [
        "Rouge_1_f1scores_list = []\n",
        "Rouge_2_f1scores_list = []\n",
        "Rouge_1_f1scores_list, Rouge_2_f1scores_list = get_rouge1_rouge2_scores_for_bxplot(test_parsed)"
      ],
      "metadata": {
        "id": "Lppb6r2ZgZ9e"
      },
      "execution_count": null,
      "outputs": []
    },
    {
      "cell_type": "code",
      "source": [
        "test_parsed['Rouge_1_f1scores'] = Rouge_1_f1scores_list\n",
        "test_parsed['Rouge_2_f1scores'] = Rouge_2_f1scores_list"
      ],
      "metadata": {
        "id": "JC4TXtQxZEP5"
      },
      "execution_count": null,
      "outputs": []
    },
    {
      "cell_type": "code",
      "source": [
        "print(\"Max for Rouge_1 f1 scores    : \", np.max(test_parsed['Rouge_1_f1scores']))\n",
        "print(\"Min for Rouge_1 f1 scores    : \", np.min(test_parsed['Rouge_1_f1scores']))\n",
        "print(\"Mean for Rouge_1 f1 scores   : \", np.mean(test_parsed['Rouge_1_f1scores']))\n",
        "print(\"Median for Rouge_1 f1 scores : \", np.median(test_parsed['Rouge_1_f1scores']))"
      ],
      "metadata": {
        "colab": {
          "base_uri": "https://localhost:8080/"
        },
        "id": "Oh2TBPZ8Zefe",
        "outputId": "9c5ec28d-ced7-4d60-ede5-bfb13fe9d218"
      },
      "execution_count": null,
      "outputs": [
        {
          "output_type": "stream",
          "name": "stdout",
          "text": [
            "Max for Rouge_1 f1 scores    :  0.7692307642833663\n",
            "Min for Rouge_1 f1 scores    :  0.0\n",
            "Mean for Rouge_1 f1 scores   :  0.2798223221854205\n",
            "Median for Rouge_1 f1 scores :  0.272727267820248\n"
          ]
        }
      ]
    },
    {
      "cell_type": "code",
      "source": [
        "sns.set(style=\"darkgrid\")\n",
        "plt.title(\"Rouge 1 f1 scores for two summarizations\")\n",
        "sns.boxplot(x=test_parsed[\"Rouge_1_f1scores\"])"
      ],
      "metadata": {
        "colab": {
          "base_uri": "https://localhost:8080/",
          "height": 319
        },
        "id": "3KWhg0vrZrBr",
        "outputId": "1925bf51-2f52-404a-8d50-ffa043f10f41"
      },
      "execution_count": null,
      "outputs": [
        {
          "output_type": "execute_result",
          "data": {
            "text/plain": [
              "<matplotlib.axes._subplots.AxesSubplot at 0x7fc575b59b90>"
            ]
          },
          "metadata": {},
          "execution_count": 38
        },
        {
          "output_type": "display_data",
          "data": {
            "text/plain": [
              "<Figure size 432x288 with 1 Axes>"
            ],
            "image/png": "[encoded data removed]"
          },
          "metadata": {}
        }
      ]
    },
    {
      "cell_type": "code",
      "source": [
        "print(\"Max for Rouge_2 f1 scores    : \", np.max(test_parsed['Rouge_2_f1scores']))\n",
        "print(\"Min for Rouge_2 f1 scores    : \", np.min(test_parsed['Rouge_2_f1scores']))\n",
        "print(\"Mean for Rouge_2 f1 scores   : \", np.mean(test_parsed['Rouge_2_f1scores']))\n",
        "print(\"Median for Rouge_2 f1 scores : \", np.median(test_parsed['Rouge_2_f1scores']))"
      ],
      "metadata": {
        "colab": {
          "base_uri": "https://localhost:8080/"
        },
        "id": "-HubxV4eZzyE",
        "outputId": "0a46458c-c451-4e84-8289-d5e0d5f2d33b"
      },
      "execution_count": null,
      "outputs": [
        {
          "output_type": "stream",
          "name": "stdout",
          "text": [
            "Max for Rouge_2 f1 scores    :  0.5777777728987655\n",
            "Min for Rouge_2 f1 scores    :  0.0\n",
            "Mean for Rouge_2 f1 scores   :  0.10564611568567779\n",
            "Median for Rouge_2 f1 scores :  0.07547169351370622\n"
          ]
        }
      ]
    },
    {
      "cell_type": "code",
      "source": [
        "plt.title(\"Rouge_2 f1 scores for two summarizations\")\n",
        "sns.boxplot(x=test_parsed[\"Rouge_2_f1scores\"])"
      ],
      "metadata": {
        "colab": {
          "base_uri": "https://localhost:8080/",
          "height": 319
        },
        "id": "In_gUS9sZ4sh",
        "outputId": "9c2bee0e-ee59-489e-c285-71229ec721e1"
      },
      "execution_count": null,
      "outputs": [
        {
          "output_type": "execute_result",
          "data": {
            "text/plain": [
              "<matplotlib.axes._subplots.AxesSubplot at 0x7fc575aa5850>"
            ]
          },
          "metadata": {},
          "execution_count": 41
        },
        {
          "output_type": "display_data",
          "data": {
            "text/plain": [
              "<Figure size 432x288 with 1 Axes>"
            ],
            "image/png": "[encoded data removed]"
          },
          "metadata": {}
        }
      ]
    },
    {
      "cell_type": "markdown",
      "source": [
        "### Creating a summarization with distilbart-cnn-12-6-samsum"
      ],
      "metadata": {
        "id": "IA8z8CU-f5ma"
      }
    },
    {
      "cell_type": "code",
      "source": [
        "model_name=\"philschmid/distilbart-cnn-12-6-samsum\"\n",
        "test_result = run_summarizer(test_parsed['dialog'].tolist(), model_name)"
      ],
      "metadata": {
        "id": "38D54ZDvSTyT"
      },
      "execution_count": null,
      "outputs": []
    },
    {
      "cell_type": "code",
      "source": [
        "test_parsed['predicted'] = test_result\n",
        "\n",
        "test_parsed.to_csv('./twcs_test_predicted.csv')"
      ],
      "metadata": {
        "id": "0Oxs1aUuSdc8"
      },
      "execution_count": null,
      "outputs": []
    },
    {
      "cell_type": "markdown",
      "source": [
        "## Compare Two summarizations with Rouge 1, 2 (cnn-12-6-samsum model)\n"
      ],
      "metadata": {
        "id": "kf5ivl-EiZyI"
      }
    },
    {
      "cell_type": "code",
      "source": [
        "predicted_summaries = []\n",
        "for i in test_parsed['predicted']:\n",
        "  predicted_summaries.append(i[0]['summary_text'])\n",
        "\n",
        "summaries = list(test_parsed['summary'])\n",
        "\n",
        "rouge = Rouge()\n",
        "rouge.get_scores(predicted_summaries, summaries, avg=True)"
      ],
      "metadata": {
        "colab": {
          "base_uri": "https://localhost:8080/"
        },
        "id": "-Gf4sdeleX0F",
        "outputId": "2a8d6c6c-fd7f-4253-ee89-2b8e4558221c"
      },
      "execution_count": null,
      "outputs": [
        {
          "output_type": "execute_result",
          "data": {
            "text/plain": [
              "{'rouge-1': {'r': 0.3765433369468683,\n",
              "  'p': 0.30912337514497185,\n",
              "  'f': 0.33293488751971356},\n",
              " 'rouge-2': {'r': 0.1476315209507142,\n",
              "  'p': 0.12496764359410285,\n",
              "  'f': 0.13145719812026307},\n",
              " 'rouge-l': {'r': 0.34711125404543186,\n",
              "  'p': 0.2844990331217645,\n",
              "  'f': 0.30650491207974473}}"
            ]
          },
          "metadata": {},
          "execution_count": 14
        }
      ]
    },
    {
      "cell_type": "code",
      "source": [
        "Rouge_1_f1scores_CNN = []\n",
        "Rouge_2_f1scores_CNN = []\n",
        "Rouge_1_f1scores_CNN, Rouge_2_f1scores_CNN = get_rouge1_rouge2_scores_for_bxplot(test_parsed)"
      ],
      "metadata": {
        "id": "bBQcezp0fpnr"
      },
      "execution_count": null,
      "outputs": []
    },
    {
      "cell_type": "code",
      "source": [
        "print(\"Max for Rouge_1 f1 scores    : \", np.max(Rouge_1_f1scores_CNN))\n",
        "print(\"Min for Rouge_1 f1 scores    : \", np.min(Rouge_1_f1scores_CNN))\n",
        "print(\"Mean for Rouge_1 f1 scores   : \", np.mean(Rouge_1_f1scores_CNN))\n",
        "print(\"Median for Rouge_1 f1 scores : \", np.median(Rouge_1_f1scores_CNN))"
      ],
      "metadata": {
        "colab": {
          "base_uri": "https://localhost:8080/"
        },
        "id": "U9m9zD8NgkT9",
        "outputId": "2fa14e68-0a52-4a27-f39b-df7281ab2555"
      },
      "execution_count": null,
      "outputs": [
        {
          "output_type": "stream",
          "name": "stdout",
          "text": [
            "Max for Rouge_1 f1 scores    :  0.6842105214854571\n",
            "Min for Rouge_1 f1 scores    :  0.04347825681474518\n",
            "Mean for Rouge_1 f1 scores   :  0.3329348875197135\n",
            "Median for Rouge_1 f1 scores :  0.3278688475678581\n"
          ]
        }
      ]
    },
    {
      "cell_type": "code",
      "source": [
        "sns.set(style=\"darkgrid\")\n",
        "plt.title(\"Rouge 1 f1 scores for cnn-12-6-samsum model\")\n",
        "sns.boxplot(x=Rouge_1_f1scores_CNN)"
      ],
      "metadata": {
        "colab": {
          "base_uri": "https://localhost:8080/",
          "height": 302
        },
        "id": "lN5tF8tNhA6F",
        "outputId": "6763c355-01fb-4698-f8a7-f73c284174b2"
      },
      "execution_count": null,
      "outputs": [
        {
          "output_type": "execute_result",
          "data": {
            "text/plain": [
              "<matplotlib.axes._subplots.AxesSubplot at 0x7fc1ff219950>"
            ]
          },
          "metadata": {},
          "execution_count": 39
        },
        {
          "output_type": "display_data",
          "data": {
            "text/plain": [
              "<Figure size 432x288 with 1 Axes>"
            ],
            "image/png": "[encoded data removed]"
          },
          "metadata": {}
        }
      ]
    },
    {
      "cell_type": "code",
      "source": [
        "print(\"Max for Rouge_2 f1 scores    : \", np.max(Rouge_2_f1scores_CNN))\n",
        "print(\"Min for Rouge_2 f1 scores    : \", np.min(Rouge_2_f1scores_CNN))\n",
        "print(\"Mean for Rouge_2 f1 scores   : \", np.mean(Rouge_2_f1scores_CNN))\n",
        "print(\"Median for Rouge_2 f1 scores : \", np.median(Rouge_2_f1scores_CNN))"
      ],
      "metadata": {
        "colab": {
          "base_uri": "https://localhost:8080/"
        },
        "id": "XLdFhz3Sh2yO",
        "outputId": "c4cbb54f-19a5-4551-b17d-35481d7cddea"
      },
      "execution_count": null,
      "outputs": [
        {
          "output_type": "stream",
          "name": "stdout",
          "text": [
            "Max for Rouge_2 f1 scores    :  0.5352112627256498\n",
            "Min for Rouge_2 f1 scores    :  0.0\n",
            "Mean for Rouge_2 f1 scores   :  0.1314571981202631\n",
            "Median for Rouge_2 f1 scores :  0.10810810310810835\n"
          ]
        }
      ]
    },
    {
      "cell_type": "code",
      "source": [
        "sns.set(style=\"darkgrid\")\n",
        "plt.title(\"Rouge 2 f1 scores for cnn-12-6-samsum model\")\n",
        "sns.boxplot(x=Rouge_2_f1scores_CNN)"
      ],
      "metadata": {
        "colab": {
          "base_uri": "https://localhost:8080/",
          "height": 302
        },
        "id": "8sEvoxPQiJiy",
        "outputId": "4fb5928b-89d1-4b32-cd8c-93558be43bf4"
      },
      "execution_count": null,
      "outputs": [
        {
          "output_type": "execute_result",
          "data": {
            "text/plain": [
              "<matplotlib.axes._subplots.AxesSubplot at 0x7fc1ff1d8e90>"
            ]
          },
          "metadata": {},
          "execution_count": 42
        },
        {
          "output_type": "display_data",
          "data": {
            "text/plain": [
              "<Figure size 432x288 with 1 Axes>"
            ],
            "image/png": "[encoded data removed]"
          },
          "metadata": {}
        }
      ]
    },
    {
      "cell_type": "markdown",
      "source": [
        "### Finetuning CNN-12-6-samsum"
      ],
      "metadata": {
        "id": "S_ntYPRaRFwf"
      }
    },
    {
      "cell_type": "code",
      "source": [
        "max_input = 512\n",
        "max_target = 128\n",
        "batch_size = 3\n",
        "model_name= \"philschmid/distilbart-cnn-12-6-samsum\"\n",
        "tokenizer = AutoTokenizer.from_pretrained(model_name)"
      ],
      "metadata": {
        "colab": {
          "base_uri": "https://localhost:8080/",
          "height": 177,
          "referenced_widgets": [
            "35ca1a4230cf46e388550245006bbbec",
            "a968e9e9664e48c2a58e8b65b5ca3894",
            "61eb4c975955439a852a9091dec7d82a",
            "4b39f19820ee4f109cbbe55371378838",
            "7f0f19c09a3e4d8ab05d70c5ee7d3ffc",
            "8ed9813cbb8546958bf2da1f184ebed1",
            "cadd0f6140984f5886e7701c9c78a8d4",
            "d5e7e11432644491a08a2860a177efa1",
            "6fa76254028c485ca3e42e30d2c92d01",
            "6babe81a412a4737bc7a08a8d98e041d",
            "1d39dc4b17604780988ae905c20d4617",
            "4a47ec112ebd488dbd339e21854070c8",
            "ec4fb4e73ed540c4b612b6b8e8465c2d",
            "a2bbeae638af4200aee95e3580696eef",
            "6fe75e7bf6df4a8a82779b410d41f844",
            "e8f24784678c4595a21bfaf192e1d879",
            "b95e647878f346409c1f7281aa4a814b",
            "1bc6351d2d374a318214322a58219a4e",
            "5fd9a87058a44087a747a89a718c41a2",
            "9f1b511edd8c4cf1a6efa4da9b59bd66",
            "e7dc4e69b98a4a49bc13602a304722c1",
            "8624a08f1853406b9ac92ba42362fde6",
            "1e5a4585a6af4b5c9527030f5e585793",
            "63aa826f74cd43eebc1cc3ba0c9c7cc9",
            "a14b7fa5a72242d8946aa258c40a12a6",
            "a431d6a1bb584253a9219f971e354158",
            "578e933276f9452e8fe6164e4b118ec5",
            "26ada0845ca945cc97417c823c3ac92f",
            "e353581dfcca43f6a95fc7efe4cc7b84",
            "063a86dd10864878841a25add129c1dd",
            "666aa583788843a8b34353d794576d9c",
            "88cb127f56404d54a7e315f9214c2952",
            "b526abe48f804681b0e6df3eb59c8dd8",
            "3f6daacc39c24a59847881b877e94f64",
            "b4941677e6cc4ed3b0479fca07a27d06",
            "3a69a20b4b7a4d47bdaa8e635d675c53",
            "05f44bcc9f2b4ba394f4dadc28dc0f43",
            "8c24d237e4c944e49392ea33442ea57c",
            "72e9a133b6a544b2be2453268043b5eb",
            "044c35828cea4bcc9dcdf4ec1fb2f878",
            "0f3ee7ed48e34c708a415c257dc9ac6f",
            "93c6ade9f0834bed94d3cff5f9217c28",
            "dadb937046de4a6080203f5972eed1e3",
            "615e2aacbdf14efd94dba15830f559e3",
            "803b83c0105441a694ab1e58e6465a65",
            "c6fd0c852cac4543af648c28ac2b4983",
            "d50f2a18417d4431aea8c61ff2454e6f",
            "eeb113aa0d324ef1b6a62b10e2191a56",
            "fab5ff30ce9f4d00bec406686a67347e",
            "4624e6d04bb54a778368986fc83c8eef",
            "85d8cdb384f94eb3aa2fb197d045d5f4",
            "a99154e0c3684f7da85abe366a09e7a1",
            "3063fb6917354b188cbdd1e502d9a369",
            "8884012c0d044056828f59f104117c69",
            "226a0079e51a4803b4a87548ec075f11"
          ]
        },
        "id": "lTT_t2BInwQN",
        "outputId": "acb3f47c-66bd-414e-860f-0c2bdeebb82c"
      },
      "execution_count": null,
      "outputs": [
        {
          "output_type": "display_data",
          "data": {
            "text/plain": [
              "Downloading:   0%|          | 0.00/1.10k [00:00<?, ?B/s]"
            ],
            "application/vnd.jupyter.widget-view+json": {
              "version_major": 2,
              "version_minor": 0,
              "model_id": "35ca1a4230cf46e388550245006bbbec"
            }
          },
          "metadata": {}
        },
        {
          "output_type": "display_data",
          "data": {
            "text/plain": [
              "Downloading:   0%|          | 0.00/1.85k [00:00<?, ?B/s]"
            ],
            "application/vnd.jupyter.widget-view+json": {
              "version_major": 2,
              "version_minor": 0,
              "model_id": "4a47ec112ebd488dbd339e21854070c8"
            }
          },
          "metadata": {}
        },
        {
          "output_type": "display_data",
          "data": {
            "text/plain": [
              "Downloading:   0%|          | 0.00/798k [00:00<?, ?B/s]"
            ],
            "application/vnd.jupyter.widget-view+json": {
              "version_major": 2,
              "version_minor": 0,
              "model_id": "1e5a4585a6af4b5c9527030f5e585793"
            }
          },
          "metadata": {}
        },
        {
          "output_type": "display_data",
          "data": {
            "text/plain": [
              "Downloading:   0%|          | 0.00/456k [00:00<?, ?B/s]"
            ],
            "application/vnd.jupyter.widget-view+json": {
              "version_major": 2,
              "version_minor": 0,
              "model_id": "3f6daacc39c24a59847881b877e94f64"
            }
          },
          "metadata": {}
        },
        {
          "output_type": "display_data",
          "data": {
            "text/plain": [
              "Downloading:   0%|          | 0.00/772 [00:00<?, ?B/s]"
            ],
            "application/vnd.jupyter.widget-view+json": {
              "version_major": 2,
              "version_minor": 0,
              "model_id": "803b83c0105441a694ab1e58e6465a65"
            }
          },
          "metadata": {}
        }
      ]
    },
    {
      "cell_type": "code",
      "source": [
        "def preprocess_data(data_to_process):\n",
        "  #get all the dialogues  \n",
        "  data_to_process['dialog'] = data_to_process['dialog'].astype('string')\n",
        "  data_to_process['summary'] = data_to_process['summary'].astype('string')\n",
        "  list_summary = list(data_to_process['summary'])\n",
        "  inputs = [dialogue for dialogue in data_to_process['dialog']]\n",
        "  #tokenize the dialogues\n",
        "  model_inputs = tokenizer(inputs,  max_length=max_input, padding='max_length', truncation=True)\n",
        "  #tokenize the summaries\n",
        "  with tokenizer.as_target_tokenizer():\n",
        "    targets = tokenizer(list_summary, max_length=max_target, padding='max_length', truncation=True)\n",
        "  #set labels\n",
        "  'id', 'dialogue', 'summary', 'input_ids', 'attention_mask', 'labels'\n",
        "  model_inputs['labels'] = targets['input_ids']\n",
        "\n",
        "  #return the tokenized data\n",
        "  #input_ids, attention_mask and labels\n",
        "  results = []\n",
        "  for i in range (len(list(data_to_process['dialog']))):\n",
        "    dic = {'dialogue':list(data_to_process['dialog'])[i], 'summary':list(data_to_process['summary'])[i],'input_ids':model_inputs['input_ids'][i], 'attention_mask':model_inputs['attention_mask'][i], 'labels':model_inputs['labels'][i]}\n",
        "    results.append(dic)\n",
        "  return results\n",
        "\n"
      ],
      "metadata": {
        "id": "NU0LgdsenwOD"
      },
      "execution_count": 82,
      "outputs": []
    },
    {
      "cell_type": "code",
      "source": [
        "preprocessed_train_data = preprocess_data(train_parsed)\n",
        "preprocessed_valid_data = preprocess_data(valid_parsed)"
      ],
      "metadata": {
        "id": "doTT9VLZsIGs"
      },
      "execution_count": 85,
      "outputs": []
    },
    {
      "cell_type": "code",
      "source": [
        "model_name=\"philschmid/distilbart-cnn-12-6-samsum\"\n",
        "model = AutoModelForSeq2SeqLM.from_pretrained(model_name)\n",
        "metric = load_metric('rouge')\n",
        "collator = transformers.DataCollatorForSeq2Seq(tokenizer, model=model)\n",
        "def compute_rouge(pred):\n",
        "  predictions, labels = pred\n",
        "  #decode the predictions\n",
        "  decode_predictions = tokenizer.batch_decode(predictions, skip_special_tokens=True)\n",
        "  #decode labels\n",
        "  decode_labels = tokenizer.batch_decode(labels, skip_special_tokens=True)\n",
        "\n",
        "  #compute results\n",
        "  res = metric.compute(predictions=decode_predictions, references=decode_labels, use_stemmer=True)\n",
        "  #get %\n",
        "  res = {key: value.mid.fmeasure * 100 for key, value in res.items()}\n",
        "\n",
        "  pred_lens = [np.count_nonzero(pred != tokenizer.pad_token_id) for pred in predictions]\n",
        "  res['gen_len'] = np.mean(pred_lens)\n",
        "\n",
        "  return {k: round(v, 4) for k, v in res.items()}"
      ],
      "metadata": {
        "id": "gjmV349_4alX"
      },
      "execution_count": 89,
      "outputs": []
    },
    {
      "cell_type": "code",
      "source": [
        "args = Seq2SeqTrainingArguments(\n",
        "    'conversation-summ', #save directory\n",
        "    evaluation_strategy='epoch',\n",
        "    learning_rate=2e-5,\n",
        "    per_device_train_batch_size=2,\n",
        "    per_device_eval_batch_size= 2,\n",
        "    gradient_accumulation_steps=2,\n",
        "    weight_decay=0.01,\n",
        "    save_total_limit=2,\n",
        "    num_train_epochs=5,\n",
        "    predict_with_generate=True,\n",
        "    eval_accumulation_steps=3,\n",
        "    fp16=True\n",
        "    )\n",
        "\n",
        "trainer = Seq2SeqTrainer(\n",
        "    model, \n",
        "    args,\n",
        "    train_dataset=preprocessed_train_data,\n",
        "    eval_dataset=preprocessed_valid_data,\n",
        "    data_collator=collator,\n",
        "    tokenizer=tokenizer,\n",
        "    compute_metrics=compute_rouge\n",
        ")"
      ],
      "metadata": {
        "colab": {
          "base_uri": "https://localhost:8080/"
        },
        "id": "5xs7jIre4cgN",
        "outputId": "b84f4698-cd5a-4f19-d955-ebb1342beed7"
      },
      "execution_count": null,
      "outputs": [
        {
          "output_type": "stream",
          "name": "stderr",
          "text": [
            "PyTorch: setting up devices\n",
            "The default value for the training argument `--report_to` will change in v5 (from all installed integrations to none). In v5, you will need to use `--report_to all` to get the same behavior as now. You should start updating your code and make this info disappear :-).\n",
            "Using cuda_amp half precision backend\n"
          ]
        }
      ]
    },
    {
      "cell_type": "code",
      "source": [
        "trainer.train()"
      ],
      "metadata": {
        "colab": {
          "base_uri": "https://localhost:8080/",
          "height": 1000
        },
        "id": "1ZuQxY5z4aiL",
        "outputId": "9b4e4665-84da-45ef-e10a-56e90b271dfb"
      },
      "execution_count": null,
      "outputs": [
        {
          "output_type": "stream",
          "name": "stderr",
          "text": [
            "***** Running training *****\n",
            "  Num examples = 2406\n",
            "  Num Epochs = 5\n",
            "  Instantaneous batch size per device = 2\n",
            "  Total train batch size (w. parallel, distributed & accumulation) = 4\n",
            "  Gradient Accumulation steps = 2\n",
            "  Total optimization steps = 3005\n",
            "  Number of trainable parameters = 305510400\n",
            "The following columns in the training set don't have a corresponding argument in `BartForConditionalGeneration.forward` and have been ignored: summary, dialogue. If summary, dialogue are not expected by `BartForConditionalGeneration.forward`,  you can safely ignore this message.\n"
          ]
        },
        {
          "output_type": "display_data",
          "data": {
            "text/plain": [
              "<IPython.core.display.HTML object>"
            ],
            "text/html": [
              "\n",
              "    <div>\n",
              "      \n",
              "      <progress value='3005' max='3005' style='width:300px; height:20px; vertical-align: middle;'></progress>\n",
              "      [3005/3005 36:39, Epoch 4/5]\n",
              "    </div>\n",
              "    <table border=\"1\" class=\"dataframe\">\n",
              "  <thead>\n",
              " <tr style=\"text-align: left;\">\n",
              "      <th>Epoch</th>\n",
              "      <th>Training Loss</th>\n",
              "      <th>Validation Loss</th>\n",
              "      <th>Rouge1</th>\n",
              "      <th>Rouge2</th>\n",
              "      <th>Rougel</th>\n",
              "      <th>Rougelsum</th>\n",
              "      <th>Gen Len</th>\n",
              "    </tr>\n",
              "  </thead>\n",
              "  <tbody>\n",
              "    <tr>\n",
              "      <td>0</td>\n",
              "      <td>0.741200</td>\n",
              "      <td>0.543979</td>\n",
              "      <td>48.940600</td>\n",
              "      <td>26.360400</td>\n",
              "      <td>40.028200</td>\n",
              "      <td>40.024400</td>\n",
              "      <td>64.504600</td>\n",
              "    </tr>\n",
              "    <tr>\n",
              "      <td>1</td>\n",
              "      <td>0.512700</td>\n",
              "      <td>0.529835</td>\n",
              "      <td>48.172300</td>\n",
              "      <td>25.601100</td>\n",
              "      <td>39.251600</td>\n",
              "      <td>39.299600</td>\n",
              "      <td>62.718700</td>\n",
              "    </tr>\n",
              "    <tr>\n",
              "      <td>2</td>\n",
              "      <td>0.428600</td>\n",
              "      <td>0.541017</td>\n",
              "      <td>48.345300</td>\n",
              "      <td>25.742900</td>\n",
              "      <td>39.953100</td>\n",
              "      <td>40.012100</td>\n",
              "      <td>62.911300</td>\n",
              "    </tr>\n",
              "    <tr>\n",
              "      <td>3</td>\n",
              "      <td>0.364800</td>\n",
              "      <td>0.562048</td>\n",
              "      <td>48.258600</td>\n",
              "      <td>25.591900</td>\n",
              "      <td>39.939700</td>\n",
              "      <td>39.968600</td>\n",
              "      <td>63.510700</td>\n",
              "    </tr>\n",
              "    <tr>\n",
              "      <td>4</td>\n",
              "      <td>0.288600</td>\n",
              "      <td>0.587009</td>\n",
              "      <td>48.430700</td>\n",
              "      <td>25.902200</td>\n",
              "      <td>40.099500</td>\n",
              "      <td>40.115400</td>\n",
              "      <td>63.070300</td>\n",
              "    </tr>\n",
              "  </tbody>\n",
              "</table><p>"
            ]
          },
          "metadata": {}
        },
        {
          "output_type": "stream",
          "name": "stderr",
          "text": [
            "Saving model checkpoint to conversation-summ/checkpoint-500\n",
            "Configuration saved in conversation-summ/checkpoint-500/config.json\n",
            "Model weights saved in conversation-summ/checkpoint-500/pytorch_model.bin\n",
            "tokenizer config file saved in conversation-summ/checkpoint-500/tokenizer_config.json\n",
            "Special tokens file saved in conversation-summ/checkpoint-500/special_tokens_map.json\n",
            "***** Running Evaluation *****\n",
            "  Num examples = 327\n",
            "  Batch size = 2\n",
            "The following columns in the evaluation set don't have a corresponding argument in `BartForConditionalGeneration.forward` and have been ignored: summary, dialogue. If summary, dialogue are not expected by `BartForConditionalGeneration.forward`,  you can safely ignore this message.\n",
            "Saving model checkpoint to conversation-summ/checkpoint-1000\n",
            "Configuration saved in conversation-summ/checkpoint-1000/config.json\n",
            "Model weights saved in conversation-summ/checkpoint-1000/pytorch_model.bin\n",
            "tokenizer config file saved in conversation-summ/checkpoint-1000/tokenizer_config.json\n",
            "Special tokens file saved in conversation-summ/checkpoint-1000/special_tokens_map.json\n",
            "***** Running Evaluation *****\n",
            "  Num examples = 327\n",
            "  Batch size = 2\n",
            "The following columns in the evaluation set don't have a corresponding argument in `BartForConditionalGeneration.forward` and have been ignored: summary, dialogue. If summary, dialogue are not expected by `BartForConditionalGeneration.forward`,  you can safely ignore this message.\n",
            "Saving model checkpoint to conversation-summ/checkpoint-1500\n",
            "Configuration saved in conversation-summ/checkpoint-1500/config.json\n",
            "Model weights saved in conversation-summ/checkpoint-1500/pytorch_model.bin\n",
            "tokenizer config file saved in conversation-summ/checkpoint-1500/tokenizer_config.json\n",
            "Special tokens file saved in conversation-summ/checkpoint-1500/special_tokens_map.json\n",
            "Deleting older checkpoint [conversation-summ/checkpoint-500] due to args.save_total_limit\n",
            "***** Running Evaluation *****\n",
            "  Num examples = 327\n",
            "  Batch size = 2\n",
            "The following columns in the evaluation set don't have a corresponding argument in `BartForConditionalGeneration.forward` and have been ignored: summary, dialogue. If summary, dialogue are not expected by `BartForConditionalGeneration.forward`,  you can safely ignore this message.\n",
            "Saving model checkpoint to conversation-summ/checkpoint-2000\n",
            "Configuration saved in conversation-summ/checkpoint-2000/config.json\n",
            "Model weights saved in conversation-summ/checkpoint-2000/pytorch_model.bin\n",
            "tokenizer config file saved in conversation-summ/checkpoint-2000/tokenizer_config.json\n",
            "Special tokens file saved in conversation-summ/checkpoint-2000/special_tokens_map.json\n",
            "Deleting older checkpoint [conversation-summ/checkpoint-1000] due to args.save_total_limit\n",
            "***** Running Evaluation *****\n",
            "  Num examples = 327\n",
            "  Batch size = 2\n",
            "The following columns in the evaluation set don't have a corresponding argument in `BartForConditionalGeneration.forward` and have been ignored: summary, dialogue. If summary, dialogue are not expected by `BartForConditionalGeneration.forward`,  you can safely ignore this message.\n",
            "Saving model checkpoint to conversation-summ/checkpoint-2500\n",
            "Configuration saved in conversation-summ/checkpoint-2500/config.json\n",
            "Model weights saved in conversation-summ/checkpoint-2500/pytorch_model.bin\n",
            "tokenizer config file saved in conversation-summ/checkpoint-2500/tokenizer_config.json\n",
            "Special tokens file saved in conversation-summ/checkpoint-2500/special_tokens_map.json\n",
            "Deleting older checkpoint [conversation-summ/checkpoint-1500] due to args.save_total_limit\n",
            "Saving model checkpoint to conversation-summ/checkpoint-3000\n",
            "Configuration saved in conversation-summ/checkpoint-3000/config.json\n",
            "Model weights saved in conversation-summ/checkpoint-3000/pytorch_model.bin\n",
            "tokenizer config file saved in conversation-summ/checkpoint-3000/tokenizer_config.json\n",
            "Special tokens file saved in conversation-summ/checkpoint-3000/special_tokens_map.json\n",
            "Deleting older checkpoint [conversation-summ/checkpoint-2000] due to args.save_total_limit\n",
            "***** Running Evaluation *****\n",
            "  Num examples = 327\n",
            "  Batch size = 2\n",
            "The following columns in the evaluation set don't have a corresponding argument in `BartForConditionalGeneration.forward` and have been ignored: summary, dialogue. If summary, dialogue are not expected by `BartForConditionalGeneration.forward`,  you can safely ignore this message.\n",
            "\n",
            "\n",
            "Training completed. Do not forget to share your model on huggingface.co/models =)\n",
            "\n",
            "\n"
          ]
        },
        {
          "output_type": "execute_result",
          "data": {
            "text/plain": [
              "TrainOutput(global_step=3005, training_loss=0.4436401492545688, metrics={'train_runtime': 2199.78, 'train_samples_per_second': 5.469, 'train_steps_per_second': 1.366, 'total_flos': 9309143282221056.0, 'train_loss': 0.4436401492545688, 'epoch': 5.0})"
            ]
          },
          "metadata": {},
          "execution_count": 58
        }
      ]
    },
    {
      "cell_type": "code",
      "source": [
        "predicted_sum = []\n",
        "for test_dialog in test_parsed['dialog']:\n",
        "  model_inputs = tokenizer(test_dialog,  max_length=max_input, padding='max_length', truncation=True)\n",
        "  raw_pred, _, _ = trainer.predict([model_inputs])\n",
        "  predicted_sum.append(tokenizer.decode(raw_pred[0]))"
      ],
      "metadata": {
        "id": "hCoNPwOeLFJR"
      },
      "execution_count": 112,
      "outputs": []
    },
    {
      "cell_type": "code",
      "source": [
        "cleaned_data = []\n",
        "for summary in predicted_sum:\n",
        "  summary= summary.replace('</s>', '')\n",
        "  summary= summary.replace('<s>', '')\n",
        "  summary= summary.replace('<pad>', '')\n",
        "  cleaned_data.append(summary)"
      ],
      "metadata": {
        "id": "KLIMmsmdNfT2"
      },
      "execution_count": null,
      "outputs": []
    },
    {
      "cell_type": "code",
      "source": [
        "test_parsed['finetuned_predicted'] = cleaned_data"
      ],
      "metadata": {
        "id": "V5szKtB8OAUG"
      },
      "execution_count": null,
      "outputs": []
    },
    {
      "cell_type": "code",
      "source": [
        "summaries = list(test_parsed['summary'])\n",
        "\n",
        "rouge = Rouge()\n",
        "rouge.get_scores(list(test_parsed['finetuned_predicted']), summaries, avg=True)"
      ],
      "metadata": {
        "colab": {
          "base_uri": "https://localhost:8080/"
        },
        "id": "gWDRlc5POmNM",
        "outputId": "97e914df-9151-4737-cf02-820680da22b3"
      },
      "execution_count": null,
      "outputs": [
        {
          "output_type": "execute_result",
          "data": {
            "text/plain": [
              "{'rouge-1': {'r': 0.5808076615655668,\n",
              "  'p': 0.4051300651775303,\n",
              "  'f': 0.46845266699287014},\n",
              " 'rouge-2': {'r': 0.27602274974563906,\n",
              "  'p': 0.18779384487419767,\n",
              "  'f': 0.2176832333917206},\n",
              " 'rouge-l': {'r': 0.5379886887399313,\n",
              "  'p': 0.3745079335137464,\n",
              "  'f': 0.4332913955017065}}"
            ]
          },
          "metadata": {},
          "execution_count": 62
        }
      ]
    },
    {
      "cell_type": "code",
      "source": [
        "test_parsed.to_csv(\"predicted_with_finetuned_model.csv\")"
      ],
      "metadata": {
        "id": "YqDP1tu9PXIk"
      },
      "execution_count": null,
      "outputs": []
    },
    {
      "cell_type": "code",
      "source": [
        "def generation_Rouge_Scores(X, Y):  \n",
        "  rouge = Rouge()\n",
        "  return rouge.get_scores(X, Y)\n",
        "\n",
        "def get_rouge1_rouge2_scores_for_bxplot(test_parsed):\n",
        "  Rouge_1_f1scores_list = []\n",
        "  Rouge_2_f1scores_list = []\n",
        "  Rouge_1_precision_list = []\n",
        "  Rouge_2_precision_list = []\n",
        "  Rouge_1_recall_list = []\n",
        "  Rouge_2_recall_list = []\n",
        "  for i in range(len(test_parsed)):\n",
        "    X = test_parsed['summary'][i]\n",
        "    Y = test_parsed['finetuned_predicted'][i]\n",
        "    get_rouge_scores = generation_Rouge_Scores(X,Y)\n",
        "    Rouge_1_f1scores = get_rouge_scores[0]['rouge-1']['f']\n",
        "    Rouge_2_f1scores = get_rouge_scores[0]['rouge-2']['f']\n",
        "\n",
        "    Rouge_1_f1scores_list.append(Rouge_1_f1scores)\n",
        "    Rouge_2_f1scores_list.append(Rouge_2_f1scores)\n",
        "\n",
        "    Rouge_1_precision = get_rouge_scores[0]['rouge-1']['p']\n",
        "    Rouge_2_precision = get_rouge_scores[0]['rouge-2']['p']\n",
        "\n",
        "    Rouge_1_precision_list.append(Rouge_1_precision)\n",
        "    Rouge_2_precision_list.append(Rouge_2_precision)\n",
        "\n",
        "    Rouge_1_recall = get_rouge_scores[0]['rouge-1']['r']\n",
        "    Rouge_2_recall = get_rouge_scores[0]['rouge-2']['r']\n",
        "\n",
        "    Rouge_1_recall_list.append(Rouge_1_recall)\n",
        "    Rouge_2_recall_list.append(Rouge_2_recall)\n",
        "  return Rouge_1_f1scores_list, Rouge_2_f1scores_list"
      ],
      "metadata": {
        "id": "1PWFT3sXTElc"
      },
      "execution_count": 100,
      "outputs": []
    },
    {
      "cell_type": "code",
      "source": [
        "Rouge_1_f1scores_finetuned_CNN, Rouge_2_f1scores_finetuned_CNN = get_rouge1_rouge2_scores_for_bxplot(test_parsed)\n",
        "print(\"Max for Rouge_1 f1 scores    : \", np.max(Rouge_1_f1scores_finetuned_CNN))\n",
        "print(\"Min for Rouge_1 f1 scores    : \", np.min(Rouge_1_f1scores_finetuned_CNN))\n",
        "print(\"Mean for Rouge_1 f1 scores   : \", np.mean(Rouge_1_f1scores_finetuned_CNN))\n",
        "print(\"Median for Rouge_1 f1 scores : \", np.median(Rouge_1_f1scores_finetuned_CNN))"
      ],
      "metadata": {
        "id": "_VFDcw9GTJDm",
        "outputId": "fad4d760-2f47-462b-d45a-d014b0768c37",
        "colab": {
          "base_uri": "https://localhost:8080/"
        }
      },
      "execution_count": null,
      "outputs": [
        {
          "output_type": "stream",
          "name": "stdout",
          "text": [
            "Max for Rouge_1 f1 scores    :  0.8653846103846154\n",
            "Min for Rouge_1 f1 scores    :  0.16438355743291433\n",
            "Mean for Rouge_1 f1 scores   :  0.46845266699287025\n",
            "Median for Rouge_1 f1 scores :  0.4615384572781066\n"
          ]
        }
      ]
    },
    {
      "cell_type": "code",
      "source": [
        "sns.set(style=\"darkgrid\")\n",
        "plt.title(\"Rouge 1 f1 scores for cnn-12-6-samsum model\")\n",
        "sns.boxplot(x=Rouge_1_f1scores_finetuned_CNN)"
      ],
      "metadata": {
        "id": "6nneOOvATMx7",
        "outputId": "a9840ab4-7a19-4707-9d41-9270686323ad",
        "colab": {
          "base_uri": "https://localhost:8080/",
          "height": 302
        }
      },
      "execution_count": null,
      "outputs": [
        {
          "output_type": "execute_result",
          "data": {
            "text/plain": [
              "<AxesSubplot:title={'center':'Rouge 1 f1 scores for cnn-12-6-samsum model'}>"
            ]
          },
          "metadata": {},
          "execution_count": 66
        },
        {
          "output_type": "display_data",
          "data": {
            "text/plain": [
              "<Figure size 432x288 with 1 Axes>"
            ],
            "image/png": "[encoded data removed]"
          },
          "metadata": {}
        }
      ]
    },
    {
      "cell_type": "code",
      "source": [
        "print(\"Max for Rouge_2 f1 scores    : \", np.max(Rouge_2_f1scores_finetuned_CNN))\n",
        "print(\"Min for Rouge_2 f1 scores    : \", np.min(Rouge_2_f1scores_finetuned_CNN))\n",
        "print(\"Mean for Rouge_2 f1 scores   : \", np.mean(Rouge_2_f1scores_finetuned_CNN))\n",
        "print(\"Median for Rouge_2 f1 scores : \", np.median(Rouge_2_f1scores_finetuned_CNN))"
      ],
      "metadata": {
        "id": "_GkxlGQdTde5",
        "outputId": "61521da2-4952-48b3-bb13-15a35f1aa342",
        "colab": {
          "base_uri": "https://localhost:8080/"
        }
      },
      "execution_count": null,
      "outputs": [
        {
          "output_type": "stream",
          "name": "stdout",
          "text": [
            "Max for Rouge_2 f1 scores    :  0.6545454495471076\n",
            "Min for Rouge_2 f1 scores    :  0.0\n",
            "Mean for Rouge_2 f1 scores   :  0.2176832333917205\n",
            "Median for Rouge_2 f1 scores :  0.1914893568130377\n"
          ]
        }
      ]
    },
    {
      "cell_type": "code",
      "source": [
        "sns.set(style=\"darkgrid\")\n",
        "plt.title(\"Rouge 2 f1 scores for cnn-12-6-samsum model\")\n",
        "sns.boxplot(x=Rouge_2_f1scores_finetuned_CNN)"
      ],
      "metadata": {
        "id": "neCSt0-bTvvh",
        "outputId": "0ffd7cd9-1134-45ad-ff17-c7469eff0843",
        "colab": {
          "base_uri": "https://localhost:8080/",
          "height": 302
        }
      },
      "execution_count": null,
      "outputs": [
        {
          "output_type": "execute_result",
          "data": {
            "text/plain": [
              "<AxesSubplot:title={'center':'Rouge 2 f1 scores for cnn-12-6-samsum model'}>"
            ]
          },
          "metadata": {},
          "execution_count": 68
        },
        {
          "output_type": "display_data",
          "data": {
            "text/plain": [
              "<Figure size 432x288 with 1 Axes>"
            ],
            "image/png": "[encoded data removed]"
          },
          "metadata": {}
        }
      ]
    },
    {
      "cell_type": "markdown",
      "source": [
        "### Finetuning bart-large-samsum\n"
      ],
      "metadata": {
        "id": "3vqiWlQiVnFW"
      }
    },
    {
      "cell_type": "code",
      "source": [
        "max_input = 512\n",
        "max_target = 128\n",
        "batch_size = 3\n",
        "output_dir = './training-log/bart-5/'\n",
        "model_name=\"linydub/bart-large-samsum\"\n",
        "\n",
        "tokenizer = AutoTokenizer.from_pretrained(model_name)\n",
        "preprocessed_train_data = preprocess_data(train_parsed)\n",
        "preprocessed_valid_data = preprocess_data(valid_parsed)"
      ],
      "metadata": {
        "colab": {
          "base_uri": "https://localhost:8080/"
        },
        "id": "A-q8HrBVZ2Gw",
        "outputId": "e9b75af9-cc39-4370-c2a2-6a0457799563"
      },
      "execution_count": 88,
      "outputs": [
        {
          "output_type": "stream",
          "name": "stderr",
          "text": [
            "/usr/local/lib/python3.8/dist-packages/transformers/tokenization_utils_base.py:3546: UserWarning: `as_target_tokenizer` is deprecated and will be removed in v5 of Transformers. You can tokenize your labels by using the argument `text_target` of the regular `__call__` method (either in the same call as your input texts if you use the same keyword arguments, or in a separate call.\n",
            "  warnings.warn(\n"
          ]
        }
      ]
    },
    {
      "cell_type": "code",
      "source": [
        "model = AutoModelForSeq2SeqLM.from_pretrained(model_name)\n",
        "metric = load_metric('rouge')\n",
        "collator = transformers.DataCollatorForSeq2Seq(tokenizer, model=model)\n",
        "\n",
        "args = Seq2SeqTrainingArguments(\n",
        "    output_dir=output_dir,\n",
        "    evaluation_strategy='steps',\n",
        "    learning_rate=2e-7,\n",
        "    auto_find_batch_size=True,\n",
        "    per_device_train_batch_size=3,\n",
        "    per_device_eval_batch_size=3,\n",
        "    gradient_accumulation_steps=2,\n",
        "    weight_decay=0.0001,\n",
        "    save_total_limit=2,\n",
        "    num_train_epochs=20,\n",
        "    predict_with_generate=True,\n",
        "    eval_accumulation_steps=3,\n",
        "    fp16=True,\n",
        "    overwrite_output_dir= True,\n",
        "    load_best_model_at_end = True,\n",
        "    save_strategy='steps',\n",
        "    report_to=\"wandb\",\n",
        "    seed=42\n",
        "    )\n",
        "\n",
        "trainer = Seq2SeqTrainer(\n",
        "    model, \n",
        "    args,\n",
        "    train_dataset=preprocessed_train_data,\n",
        "    eval_dataset=preprocessed_valid_data,\n",
        "    data_collator=collator,\n",
        "    tokenizer=tokenizer,\n",
        "    compute_metrics=compute_rouge,    \n",
        ")"
      ],
      "metadata": {
        "id": "EgZx_VrvT1XW"
      },
      "execution_count": 111,
      "outputs": []
    },
    {
      "cell_type": "code",
      "source": [
        "trainer.train()"
      ],
      "metadata": {
        "colab": {
          "base_uri": "https://localhost:8080/",
          "height": 1000
        },
        "id": "iOo6jPm4Zr4q",
        "outputId": "a390e82e-0587-4d86-d5ac-f4c56481bf1c"
      },
      "execution_count": 98,
      "outputs": [
        {
          "output_type": "stream",
          "name": "stderr",
          "text": [
            "/usr/local/lib/python3.8/dist-packages/accelerate/memory_utils.py:23: FutureWarning: memory_utils has been reorganized to utils.memory. Import `find_executable_batchsize` from the main `__init__`: `from accelerate import find_executable_batch_size` to avoid this warning.\n",
            "  warnings.warn(\n",
            "/usr/local/lib/python3.8/dist-packages/transformers/optimization.py:306: FutureWarning: This implementation of AdamW is deprecated and will be removed in a future version. Use the PyTorch implementation torch.optim.AdamW instead, or set `no_deprecation_warning=True` to disable this warning\n",
            "  warnings.warn(\n",
            "***** Running training *****\n",
            "  Num examples = 2406\n",
            "  Num Epochs = 20\n",
            "  Instantaneous batch size per device = 3\n",
            "  Total train batch size (w. parallel, distributed & accumulation) = 6\n",
            "  Gradient Accumulation steps = 2\n",
            "  Total optimization steps = 8020\n",
            "  Number of trainable parameters = 406291456\n",
            "Automatic Weights & Biases logging enabled, to disable set os.environ[\"WANDB_DISABLED\"] = \"true\"\n",
            "ERROR:wandb.jupyter:Failed to detect the name of this notebook, you can set it manually with the WANDB_NOTEBOOK_NAME environment variable to enable code saving.\n"
          ]
        },
        {
          "output_type": "display_data",
          "data": {
            "text/plain": [
              "<IPython.core.display.Javascript object>"
            ],
            "application/javascript": [
              "\n",
              "        window._wandbApiKey = new Promise((resolve, reject) => {\n",
              "            function loadScript(url) {\n",
              "            return new Promise(function(resolve, reject) {\n",
              "                let newScript = document.createElement(\"script\");\n",
              "                newScript.onerror = reject;\n",
              "                newScript.onload = resolve;\n",
              "                document.body.appendChild(newScript);\n",
              "                newScript.src = url;\n",
              "            });\n",
              "            }\n",
              "            loadScript(\"https://cdn.jsdelivr.net/npm/postmate/build/postmate.min.js\").then(() => {\n",
              "            const iframe = document.createElement('iframe')\n",
              "            iframe.style.cssText = \"width:0;height:0;border:none\"\n",
              "            document.body.appendChild(iframe)\n",
              "            const handshake = new Postmate({\n",
              "                container: iframe,\n",
              "                url: 'https://wandb.ai/authorize'\n",
              "            });\n",
              "            const timeout = setTimeout(() => reject(\"Couldn't auto authenticate\"), 5000)\n",
              "            handshake.then(function(child) {\n",
              "                child.on('authorize', data => {\n",
              "                    clearTimeout(timeout)\n",
              "                    resolve(data)\n",
              "                });\n",
              "            });\n",
              "            })\n",
              "        });\n",
              "    "
            ]
          },
          "metadata": {}
        },
        {
          "output_type": "stream",
          "name": "stderr",
          "text": [
            "\u001b[34m\u001b[1mwandb\u001b[0m: Appending key for api.wandb.ai to your netrc file: /root/.netrc\n"
          ]
        },
        {
          "output_type": "display_data",
          "data": {
            "text/plain": [
              "<IPython.core.display.HTML object>"
            ],
            "text/html": [
              "Tracking run with wandb version 0.13.5"
            ]
          },
          "metadata": {}
        },
        {
          "output_type": "display_data",
          "data": {
            "text/plain": [
              "<IPython.core.display.HTML object>"
            ],
            "text/html": [
              "Run data is saved locally in <code>/content/wandb/run-20221201_020316-7clugsh3</code>"
            ]
          },
          "metadata": {}
        },
        {
          "output_type": "display_data",
          "data": {
            "text/plain": [
              "<IPython.core.display.HTML object>"
            ],
            "text/html": [
              "Syncing run <strong><a href=\"https://wandb.ai/jseo0917/huggingface/runs/7clugsh3\" target=\"_blank\">./training-log/bart-5/</a></strong> to <a href=\"https://wandb.ai/jseo0917/huggingface\" target=\"_blank\">Weights & Biases</a> (<a href=\"https://wandb.me/run\" target=\"_blank\">docs</a>)<br/>"
            ]
          },
          "metadata": {}
        },
        {
          "output_type": "stream",
          "name": "stderr",
          "text": [
            "The following columns in the training set don't have a corresponding argument in `BartForConditionalGeneration.forward` and have been ignored: dialogue, summary. If dialogue, summary are not expected by `BartForConditionalGeneration.forward`,  you can safely ignore this message.\n",
            "You're using a BartTokenizerFast tokenizer. Please note that with a fast tokenizer, using the `__call__` method is faster than using a method to encode the text followed by a call to the `pad` method to get a padded encoding.\n"
          ]
        },
        {
          "output_type": "display_data",
          "data": {
            "text/plain": [
              "<IPython.core.display.HTML object>"
            ],
            "text/html": [
              "\n",
              "    <div>\n",
              "      \n",
              "      <progress value='8020' max='8020' style='width:300px; height:20px; vertical-align: middle;'></progress>\n",
              "      [8020/8020 2:23:23, Epoch 20/20]\n",
              "    </div>\n",
              "    <table border=\"1\" class=\"dataframe\">\n",
              "  <thead>\n",
              " <tr style=\"text-align: left;\">\n",
              "      <th>Step</th>\n",
              "      <th>Training Loss</th>\n",
              "      <th>Validation Loss</th>\n",
              "      <th>Rouge1</th>\n",
              "      <th>Rouge2</th>\n",
              "      <th>Rougel</th>\n",
              "      <th>Rougelsum</th>\n",
              "      <th>Gen Len</th>\n",
              "    </tr>\n",
              "  </thead>\n",
              "  <tbody>\n",
              "    <tr>\n",
              "      <td>500</td>\n",
              "      <td>9.297200</td>\n",
              "      <td>7.585004</td>\n",
              "      <td>44.553300</td>\n",
              "      <td>20.126000</td>\n",
              "      <td>37.099400</td>\n",
              "      <td>37.046700</td>\n",
              "      <td>44.599400</td>\n",
              "    </tr>\n",
              "    <tr>\n",
              "      <td>1000</td>\n",
              "      <td>6.543400</td>\n",
              "      <td>5.463683</td>\n",
              "      <td>46.244800</td>\n",
              "      <td>22.361100</td>\n",
              "      <td>38.893600</td>\n",
              "      <td>38.842900</td>\n",
              "      <td>47.626900</td>\n",
              "    </tr>\n",
              "    <tr>\n",
              "      <td>1500</td>\n",
              "      <td>5.515700</td>\n",
              "      <td>5.035654</td>\n",
              "      <td>48.791400</td>\n",
              "      <td>25.086800</td>\n",
              "      <td>41.513200</td>\n",
              "      <td>41.461600</td>\n",
              "      <td>49.474000</td>\n",
              "    </tr>\n",
              "    <tr>\n",
              "      <td>2000</td>\n",
              "      <td>5.185800</td>\n",
              "      <td>4.843637</td>\n",
              "      <td>49.061500</td>\n",
              "      <td>25.466300</td>\n",
              "      <td>41.941100</td>\n",
              "      <td>41.961000</td>\n",
              "      <td>49.850200</td>\n",
              "    </tr>\n",
              "    <tr>\n",
              "      <td>2500</td>\n",
              "      <td>4.991000</td>\n",
              "      <td>4.716406</td>\n",
              "      <td>49.573300</td>\n",
              "      <td>26.021100</td>\n",
              "      <td>42.670100</td>\n",
              "      <td>42.615600</td>\n",
              "      <td>49.896000</td>\n",
              "    </tr>\n",
              "    <tr>\n",
              "      <td>3000</td>\n",
              "      <td>4.875200</td>\n",
              "      <td>4.618629</td>\n",
              "      <td>49.633900</td>\n",
              "      <td>26.158300</td>\n",
              "      <td>42.665500</td>\n",
              "      <td>42.660500</td>\n",
              "      <td>49.290500</td>\n",
              "    </tr>\n",
              "    <tr>\n",
              "      <td>3500</td>\n",
              "      <td>4.742400</td>\n",
              "      <td>4.534169</td>\n",
              "      <td>50.210300</td>\n",
              "      <td>26.670200</td>\n",
              "      <td>43.223500</td>\n",
              "      <td>43.182100</td>\n",
              "      <td>48.648300</td>\n",
              "    </tr>\n",
              "    <tr>\n",
              "      <td>4000</td>\n",
              "      <td>4.653600</td>\n",
              "      <td>4.466087</td>\n",
              "      <td>49.938400</td>\n",
              "      <td>26.376800</td>\n",
              "      <td>43.192800</td>\n",
              "      <td>43.127700</td>\n",
              "      <td>48.547400</td>\n",
              "    </tr>\n",
              "    <tr>\n",
              "      <td>4500</td>\n",
              "      <td>4.584700</td>\n",
              "      <td>4.402437</td>\n",
              "      <td>50.186300</td>\n",
              "      <td>26.420300</td>\n",
              "      <td>43.363000</td>\n",
              "      <td>43.324300</td>\n",
              "      <td>48.263000</td>\n",
              "    </tr>\n",
              "    <tr>\n",
              "      <td>5000</td>\n",
              "      <td>4.505100</td>\n",
              "      <td>4.349426</td>\n",
              "      <td>49.724600</td>\n",
              "      <td>26.025800</td>\n",
              "      <td>43.065200</td>\n",
              "      <td>42.980000</td>\n",
              "      <td>48.449500</td>\n",
              "    </tr>\n",
              "    <tr>\n",
              "      <td>5500</td>\n",
              "      <td>4.469100</td>\n",
              "      <td>4.305734</td>\n",
              "      <td>50.047500</td>\n",
              "      <td>26.527700</td>\n",
              "      <td>43.383100</td>\n",
              "      <td>43.328400</td>\n",
              "      <td>48.250800</td>\n",
              "    </tr>\n",
              "    <tr>\n",
              "      <td>6000</td>\n",
              "      <td>4.403900</td>\n",
              "      <td>4.268956</td>\n",
              "      <td>50.119000</td>\n",
              "      <td>26.577400</td>\n",
              "      <td>43.465000</td>\n",
              "      <td>43.404400</td>\n",
              "      <td>48.360900</td>\n",
              "    </tr>\n",
              "    <tr>\n",
              "      <td>6500</td>\n",
              "      <td>4.367700</td>\n",
              "      <td>4.240438</td>\n",
              "      <td>50.273100</td>\n",
              "      <td>26.692500</td>\n",
              "      <td>43.666600</td>\n",
              "      <td>43.600900</td>\n",
              "      <td>48.284400</td>\n",
              "    </tr>\n",
              "    <tr>\n",
              "      <td>7000</td>\n",
              "      <td>4.345500</td>\n",
              "      <td>4.221037</td>\n",
              "      <td>50.070900</td>\n",
              "      <td>26.559900</td>\n",
              "      <td>43.591800</td>\n",
              "      <td>43.541000</td>\n",
              "      <td>48.330300</td>\n",
              "    </tr>\n",
              "    <tr>\n",
              "      <td>7500</td>\n",
              "      <td>4.329600</td>\n",
              "      <td>4.208242</td>\n",
              "      <td>50.300600</td>\n",
              "      <td>26.614500</td>\n",
              "      <td>43.681800</td>\n",
              "      <td>43.645600</td>\n",
              "      <td>48.256900</td>\n",
              "    </tr>\n",
              "    <tr>\n",
              "      <td>8000</td>\n",
              "      <td>4.312000</td>\n",
              "      <td>4.204023</td>\n",
              "      <td>50.378400</td>\n",
              "      <td>26.770800</td>\n",
              "      <td>43.737200</td>\n",
              "      <td>43.689900</td>\n",
              "      <td>48.235500</td>\n",
              "    </tr>\n",
              "  </tbody>\n",
              "</table><p>"
            ]
          },
          "metadata": {}
        },
        {
          "output_type": "stream",
          "name": "stderr",
          "text": [
            "***** Running Evaluation *****\n",
            "  Num examples = 327\n",
            "  Batch size = 3\n",
            "The following columns in the evaluation set don't have a corresponding argument in `BartForConditionalGeneration.forward` and have been ignored: dialogue, summary. If dialogue, summary are not expected by `BartForConditionalGeneration.forward`,  you can safely ignore this message.\n",
            "Saving model checkpoint to ./training-log/bart-5/checkpoint-500\n",
            "Configuration saved in ./training-log/bart-5/checkpoint-500/config.json\n",
            "Model weights saved in ./training-log/bart-5/checkpoint-500/pytorch_model.bin\n",
            "tokenizer config file saved in ./training-log/bart-5/checkpoint-500/tokenizer_config.json\n",
            "Special tokens file saved in ./training-log/bart-5/checkpoint-500/special_tokens_map.json\n",
            "***** Running Evaluation *****\n",
            "  Num examples = 327\n",
            "  Batch size = 3\n",
            "The following columns in the evaluation set don't have a corresponding argument in `BartForConditionalGeneration.forward` and have been ignored: dialogue, summary. If dialogue, summary are not expected by `BartForConditionalGeneration.forward`,  you can safely ignore this message.\n",
            "Saving model checkpoint to ./training-log/bart-5/checkpoint-1000\n",
            "Configuration saved in ./training-log/bart-5/checkpoint-1000/config.json\n",
            "Model weights saved in ./training-log/bart-5/checkpoint-1000/pytorch_model.bin\n",
            "tokenizer config file saved in ./training-log/bart-5/checkpoint-1000/tokenizer_config.json\n",
            "Special tokens file saved in ./training-log/bart-5/checkpoint-1000/special_tokens_map.json\n",
            "***** Running Evaluation *****\n",
            "  Num examples = 327\n",
            "  Batch size = 3\n",
            "The following columns in the evaluation set don't have a corresponding argument in `BartForConditionalGeneration.forward` and have been ignored: dialogue, summary. If dialogue, summary are not expected by `BartForConditionalGeneration.forward`,  you can safely ignore this message.\n",
            "Saving model checkpoint to ./training-log/bart-5/checkpoint-1500\n",
            "Configuration saved in ./training-log/bart-5/checkpoint-1500/config.json\n",
            "Model weights saved in ./training-log/bart-5/checkpoint-1500/pytorch_model.bin\n",
            "tokenizer config file saved in ./training-log/bart-5/checkpoint-1500/tokenizer_config.json\n",
            "Special tokens file saved in ./training-log/bart-5/checkpoint-1500/special_tokens_map.json\n",
            "Deleting older checkpoint [training-log/bart-5/checkpoint-500] due to args.save_total_limit\n",
            "***** Running Evaluation *****\n",
            "  Num examples = 327\n",
            "  Batch size = 3\n",
            "The following columns in the evaluation set don't have a corresponding argument in `BartForConditionalGeneration.forward` and have been ignored: dialogue, summary. If dialogue, summary are not expected by `BartForConditionalGeneration.forward`,  you can safely ignore this message.\n",
            "Saving model checkpoint to ./training-log/bart-5/checkpoint-2000\n",
            "Configuration saved in ./training-log/bart-5/checkpoint-2000/config.json\n",
            "Model weights saved in ./training-log/bart-5/checkpoint-2000/pytorch_model.bin\n",
            "tokenizer config file saved in ./training-log/bart-5/checkpoint-2000/tokenizer_config.json\n",
            "Special tokens file saved in ./training-log/bart-5/checkpoint-2000/special_tokens_map.json\n",
            "Deleting older checkpoint [training-log/bart-5/checkpoint-1000] due to args.save_total_limit\n",
            "***** Running Evaluation *****\n",
            "  Num examples = 327\n",
            "  Batch size = 3\n",
            "The following columns in the evaluation set don't have a corresponding argument in `BartForConditionalGeneration.forward` and have been ignored: dialogue, summary. If dialogue, summary are not expected by `BartForConditionalGeneration.forward`,  you can safely ignore this message.\n",
            "Saving model checkpoint to ./training-log/bart-5/checkpoint-2500\n",
            "Configuration saved in ./training-log/bart-5/checkpoint-2500/config.json\n",
            "Model weights saved in ./training-log/bart-5/checkpoint-2500/pytorch_model.bin\n",
            "tokenizer config file saved in ./training-log/bart-5/checkpoint-2500/tokenizer_config.json\n",
            "Special tokens file saved in ./training-log/bart-5/checkpoint-2500/special_tokens_map.json\n",
            "Deleting older checkpoint [training-log/bart-5/checkpoint-1500] due to args.save_total_limit\n",
            "***** Running Evaluation *****\n",
            "  Num examples = 327\n",
            "  Batch size = 3\n",
            "The following columns in the evaluation set don't have a corresponding argument in `BartForConditionalGeneration.forward` and have been ignored: dialogue, summary. If dialogue, summary are not expected by `BartForConditionalGeneration.forward`,  you can safely ignore this message.\n",
            "Saving model checkpoint to ./training-log/bart-5/checkpoint-3000\n",
            "Configuration saved in ./training-log/bart-5/checkpoint-3000/config.json\n",
            "Model weights saved in ./training-log/bart-5/checkpoint-3000/pytorch_model.bin\n",
            "tokenizer config file saved in ./training-log/bart-5/checkpoint-3000/tokenizer_config.json\n",
            "Special tokens file saved in ./training-log/bart-5/checkpoint-3000/special_tokens_map.json\n",
            "Deleting older checkpoint [training-log/bart-5/checkpoint-2000] due to args.save_total_limit\n",
            "***** Running Evaluation *****\n",
            "  Num examples = 327\n",
            "  Batch size = 3\n",
            "The following columns in the evaluation set don't have a corresponding argument in `BartForConditionalGeneration.forward` and have been ignored: dialogue, summary. If dialogue, summary are not expected by `BartForConditionalGeneration.forward`,  you can safely ignore this message.\n",
            "Saving model checkpoint to ./training-log/bart-5/checkpoint-3500\n",
            "Configuration saved in ./training-log/bart-5/checkpoint-3500/config.json\n",
            "Model weights saved in ./training-log/bart-5/checkpoint-3500/pytorch_model.bin\n",
            "tokenizer config file saved in ./training-log/bart-5/checkpoint-3500/tokenizer_config.json\n",
            "Special tokens file saved in ./training-log/bart-5/checkpoint-3500/special_tokens_map.json\n",
            "Deleting older checkpoint [training-log/bart-5/checkpoint-2500] due to args.save_total_limit\n",
            "***** Running Evaluation *****\n",
            "  Num examples = 327\n",
            "  Batch size = 3\n",
            "The following columns in the evaluation set don't have a corresponding argument in `BartForConditionalGeneration.forward` and have been ignored: dialogue, summary. If dialogue, summary are not expected by `BartForConditionalGeneration.forward`,  you can safely ignore this message.\n",
            "Saving model checkpoint to ./training-log/bart-5/checkpoint-4000\n",
            "Configuration saved in ./training-log/bart-5/checkpoint-4000/config.json\n",
            "Model weights saved in ./training-log/bart-5/checkpoint-4000/pytorch_model.bin\n",
            "tokenizer config file saved in ./training-log/bart-5/checkpoint-4000/tokenizer_config.json\n",
            "Special tokens file saved in ./training-log/bart-5/checkpoint-4000/special_tokens_map.json\n",
            "Deleting older checkpoint [training-log/bart-5/checkpoint-3000] due to args.save_total_limit\n",
            "***** Running Evaluation *****\n",
            "  Num examples = 327\n",
            "  Batch size = 3\n",
            "The following columns in the evaluation set don't have a corresponding argument in `BartForConditionalGeneration.forward` and have been ignored: dialogue, summary. If dialogue, summary are not expected by `BartForConditionalGeneration.forward`,  you can safely ignore this message.\n",
            "Saving model checkpoint to ./training-log/bart-5/checkpoint-4500\n",
            "Configuration saved in ./training-log/bart-5/checkpoint-4500/config.json\n",
            "Model weights saved in ./training-log/bart-5/checkpoint-4500/pytorch_model.bin\n",
            "tokenizer config file saved in ./training-log/bart-5/checkpoint-4500/tokenizer_config.json\n",
            "Special tokens file saved in ./training-log/bart-5/checkpoint-4500/special_tokens_map.json\n",
            "Deleting older checkpoint [training-log/bart-5/checkpoint-3500] due to args.save_total_limit\n",
            "***** Running Evaluation *****\n",
            "  Num examples = 327\n",
            "  Batch size = 3\n",
            "The following columns in the evaluation set don't have a corresponding argument in `BartForConditionalGeneration.forward` and have been ignored: dialogue, summary. If dialogue, summary are not expected by `BartForConditionalGeneration.forward`,  you can safely ignore this message.\n",
            "Saving model checkpoint to ./training-log/bart-5/checkpoint-5000\n",
            "Configuration saved in ./training-log/bart-5/checkpoint-5000/config.json\n",
            "Model weights saved in ./training-log/bart-5/checkpoint-5000/pytorch_model.bin\n",
            "tokenizer config file saved in ./training-log/bart-5/checkpoint-5000/tokenizer_config.json\n",
            "Special tokens file saved in ./training-log/bart-5/checkpoint-5000/special_tokens_map.json\n",
            "Deleting older checkpoint [training-log/bart-5/checkpoint-4000] due to args.save_total_limit\n",
            "***** Running Evaluation *****\n",
            "  Num examples = 327\n",
            "  Batch size = 3\n",
            "The following columns in the evaluation set don't have a corresponding argument in `BartForConditionalGeneration.forward` and have been ignored: dialogue, summary. If dialogue, summary are not expected by `BartForConditionalGeneration.forward`,  you can safely ignore this message.\n",
            "Saving model checkpoint to ./training-log/bart-5/checkpoint-5500\n",
            "Configuration saved in ./training-log/bart-5/checkpoint-5500/config.json\n",
            "Model weights saved in ./training-log/bart-5/checkpoint-5500/pytorch_model.bin\n",
            "tokenizer config file saved in ./training-log/bart-5/checkpoint-5500/tokenizer_config.json\n",
            "Special tokens file saved in ./training-log/bart-5/checkpoint-5500/special_tokens_map.json\n",
            "Deleting older checkpoint [training-log/bart-5/checkpoint-4500] due to args.save_total_limit\n",
            "***** Running Evaluation *****\n",
            "  Num examples = 327\n",
            "  Batch size = 3\n",
            "The following columns in the evaluation set don't have a corresponding argument in `BartForConditionalGeneration.forward` and have been ignored: dialogue, summary. If dialogue, summary are not expected by `BartForConditionalGeneration.forward`,  you can safely ignore this message.\n",
            "Saving model checkpoint to ./training-log/bart-5/checkpoint-6000\n",
            "Configuration saved in ./training-log/bart-5/checkpoint-6000/config.json\n",
            "Model weights saved in ./training-log/bart-5/checkpoint-6000/pytorch_model.bin\n",
            "tokenizer config file saved in ./training-log/bart-5/checkpoint-6000/tokenizer_config.json\n",
            "Special tokens file saved in ./training-log/bart-5/checkpoint-6000/special_tokens_map.json\n",
            "Deleting older checkpoint [training-log/bart-5/checkpoint-5000] due to args.save_total_limit\n",
            "***** Running Evaluation *****\n",
            "  Num examples = 327\n",
            "  Batch size = 3\n",
            "The following columns in the evaluation set don't have a corresponding argument in `BartForConditionalGeneration.forward` and have been ignored: dialogue, summary. If dialogue, summary are not expected by `BartForConditionalGeneration.forward`,  you can safely ignore this message.\n",
            "Saving model checkpoint to ./training-log/bart-5/checkpoint-6500\n",
            "Configuration saved in ./training-log/bart-5/checkpoint-6500/config.json\n",
            "Model weights saved in ./training-log/bart-5/checkpoint-6500/pytorch_model.bin\n",
            "tokenizer config file saved in ./training-log/bart-5/checkpoint-6500/tokenizer_config.json\n",
            "Special tokens file saved in ./training-log/bart-5/checkpoint-6500/special_tokens_map.json\n",
            "Deleting older checkpoint [training-log/bart-5/checkpoint-5500] due to args.save_total_limit\n",
            "***** Running Evaluation *****\n",
            "  Num examples = 327\n",
            "  Batch size = 3\n",
            "The following columns in the evaluation set don't have a corresponding argument in `BartForConditionalGeneration.forward` and have been ignored: dialogue, summary. If dialogue, summary are not expected by `BartForConditionalGeneration.forward`,  you can safely ignore this message.\n",
            "Saving model checkpoint to ./training-log/bart-5/checkpoint-7000\n",
            "Configuration saved in ./training-log/bart-5/checkpoint-7000/config.json\n",
            "Model weights saved in ./training-log/bart-5/checkpoint-7000/pytorch_model.bin\n",
            "tokenizer config file saved in ./training-log/bart-5/checkpoint-7000/tokenizer_config.json\n",
            "Special tokens file saved in ./training-log/bart-5/checkpoint-7000/special_tokens_map.json\n",
            "Deleting older checkpoint [training-log/bart-5/checkpoint-6000] due to args.save_total_limit\n",
            "***** Running Evaluation *****\n",
            "  Num examples = 327\n",
            "  Batch size = 3\n",
            "The following columns in the evaluation set don't have a corresponding argument in `BartForConditionalGeneration.forward` and have been ignored: dialogue, summary. If dialogue, summary are not expected by `BartForConditionalGeneration.forward`,  you can safely ignore this message.\n",
            "Saving model checkpoint to ./training-log/bart-5/checkpoint-7500\n",
            "Configuration saved in ./training-log/bart-5/checkpoint-7500/config.json\n",
            "Model weights saved in ./training-log/bart-5/checkpoint-7500/pytorch_model.bin\n",
            "tokenizer config file saved in ./training-log/bart-5/checkpoint-7500/tokenizer_config.json\n",
            "Special tokens file saved in ./training-log/bart-5/checkpoint-7500/special_tokens_map.json\n",
            "Deleting older checkpoint [training-log/bart-5/checkpoint-6500] due to args.save_total_limit\n",
            "***** Running Evaluation *****\n",
            "  Num examples = 327\n",
            "  Batch size = 3\n",
            "The following columns in the evaluation set don't have a corresponding argument in `BartForConditionalGeneration.forward` and have been ignored: dialogue, summary. If dialogue, summary are not expected by `BartForConditionalGeneration.forward`,  you can safely ignore this message.\n",
            "Saving model checkpoint to ./training-log/bart-5/checkpoint-8000\n",
            "Configuration saved in ./training-log/bart-5/checkpoint-8000/config.json\n",
            "Model weights saved in ./training-log/bart-5/checkpoint-8000/pytorch_model.bin\n",
            "tokenizer config file saved in ./training-log/bart-5/checkpoint-8000/tokenizer_config.json\n",
            "Special tokens file saved in ./training-log/bart-5/checkpoint-8000/special_tokens_map.json\n",
            "Deleting older checkpoint [training-log/bart-5/checkpoint-7000] due to args.save_total_limit\n",
            "\n",
            "\n",
            "Training completed. Do not forget to share your model on huggingface.co/models =)\n",
            "\n",
            "\n",
            "Loading best model from ./training-log/bart-5/checkpoint-8000 (score: 4.204023361206055).\n"
          ]
        },
        {
          "output_type": "execute_result",
          "data": {
            "text/plain": [
              "TrainOutput(global_step=8020, training_loss=5.068321955768842, metrics={'train_runtime': 8615.3297, 'train_samples_per_second': 5.585, 'train_steps_per_second': 0.931, 'total_flos': 5.214053672681472e+16, 'train_loss': 5.068321955768842, 'epoch': 20.0})"
            ]
          },
          "metadata": {},
          "execution_count": 98
        }
      ]
    },
    {
      "cell_type": "code",
      "source": [
        "predicted_sum = []\n",
        "for test_dialog in test_parsed['dialog']:\n",
        "  model_inputs = tokenizer(test_dialog,  max_length=max_input, padding='max_length', truncation=True)\n",
        "  raw_pred, _, _ = trainer.predict([model_inputs])\n",
        "  predicted_sum.append(tokenizer.decode(raw_pred[0]))"
      ],
      "metadata": {
        "id": "uWnrO0ldbC9B"
      },
      "execution_count": 110,
      "outputs": []
    },
    {
      "cell_type": "code",
      "source": [
        "cleaned_data = []\n",
        "for summary in predicted_sum:\n",
        "  summary= summary.replace('</s>', '')\n",
        "  summary= summary.replace('<s>', '')\n",
        "  summary= summary.replace('<pad>', '')\n",
        "  cleaned_data.append(summary)\n",
        "\n",
        "test_parsed['finetuned_predicted'] = cleaned_data"
      ],
      "metadata": {
        "id": "QBzq86VD7_44"
      },
      "execution_count": 101,
      "outputs": []
    },
    {
      "cell_type": "code",
      "source": [
        "Rouge_1_f1scores_finetuned_CNN, Rouge_2_f1scores_finetuned_CNN = get_rouge1_rouge2_scores_for_bxplot(test_parsed)\n",
        "print(\"Max for Rouge_1 f1 scores    : \", np.max(Rouge_1_f1scores_finetuned_CNN))\n",
        "print(\"Min for Rouge_1 f1 scores    : \", np.min(Rouge_1_f1scores_finetuned_CNN))\n",
        "print(\"Mean for Rouge_1 f1 scores   : \", np.mean(Rouge_1_f1scores_finetuned_CNN))\n",
        "print(\"Median for Rouge_1 f1 scores : \", np.median(Rouge_1_f1scores_finetuned_CNN))\n"
      ],
      "metadata": {
        "colab": {
          "base_uri": "https://localhost:8080/"
        },
        "id": "0vkwrhLS9T6z",
        "outputId": "c5602c21-dea6-442b-8049-aeef8aa77e87"
      },
      "execution_count": 102,
      "outputs": [
        {
          "output_type": "stream",
          "name": "stdout",
          "text": [
            "Max for Rouge_1 f1 scores    :  0.8947368371191137\n",
            "Min for Rouge_1 f1 scores    :  0.10256409764628557\n",
            "Mean for Rouge_1 f1 scores   :  0.47321900028598957\n",
            "Median for Rouge_1 f1 scores :  0.465753419771064\n"
          ]
        }
      ]
    },
    {
      "cell_type": "code",
      "source": [
        "sns.set(style=\"darkgrid\")\n",
        "plt.title(\"Rouge 1 f1 scores for bart-large-Samsum\")\n",
        "sns.boxplot(x=Rouge_1_f1scores_finetuned_CNN)"
      ],
      "metadata": {
        "colab": {
          "base_uri": "https://localhost:8080/",
          "height": 302
        },
        "id": "a0LIP4Jl9Vf9",
        "outputId": "13138190-68db-4a26-fb38-85d37192bd50"
      },
      "execution_count": 108,
      "outputs": [
        {
          "output_type": "execute_result",
          "data": {
            "text/plain": [
              "<matplotlib.axes._subplots.AxesSubplot at 0x7f0317b67f10>"
            ]
          },
          "metadata": {},
          "execution_count": 108
        },
        {
          "output_type": "display_data",
          "data": {
            "text/plain": [
              "<Figure size 432x288 with 1 Axes>"
            ],
            "image/png": "[encoded data removed]"
          },
          "metadata": {}
        }
      ]
    },
    {
      "cell_type": "code",
      "source": [
        "print(\"Max for Rouge_2 f1 scores    : \", np.max(Rouge_2_f1scores_finetuned_CNN))\n",
        "print(\"Min for Rouge_2 f1 scores    : \", np.min(Rouge_2_f1scores_finetuned_CNN))\n",
        "print(\"Mean for Rouge_2 f1 scores   : \", np.mean(Rouge_2_f1scores_finetuned_CNN))\n",
        "print(\"Median for Rouge_2 f1 scores : \", np.median(Rouge_2_f1scores_finetuned_CNN))"
      ],
      "metadata": {
        "colab": {
          "base_uri": "https://localhost:8080/"
        },
        "id": "vmL1Dewz9YGJ",
        "outputId": "de6f6cf6-cfb4-415a-e478-e12891bc0db1"
      },
      "execution_count": 104,
      "outputs": [
        {
          "output_type": "stream",
          "name": "stdout",
          "text": [
            "Max for Rouge_2 f1 scores    :  0.7317073120761451\n",
            "Min for Rouge_2 f1 scores    :  0.0\n",
            "Mean for Rouge_2 f1 scores   :  0.22596703253278522\n",
            "Median for Rouge_2 f1 scores :  0.1999999951531251\n"
          ]
        }
      ]
    },
    {
      "cell_type": "code",
      "source": [
        "sns.set(style=\"darkgrid\")\n",
        "plt.title(\"Rouge 2 f1 scores for bart-large-Samsum\")\n",
        "sns.boxplot(x=Rouge_2_f1scores_finetuned_CNN)\n"
      ],
      "metadata": {
        "colab": {
          "base_uri": "https://localhost:8080/",
          "height": 302
        },
        "id": "u6qx5MQj9aLT",
        "outputId": "08ca042d-3681-4f49-e436-05b2e8467152"
      },
      "execution_count": 109,
      "outputs": [
        {
          "output_type": "execute_result",
          "data": {
            "text/plain": [
              "<matplotlib.axes._subplots.AxesSubplot at 0x7f0317a767f0>"
            ]
          },
          "metadata": {},
          "execution_count": 109
        },
        {
          "output_type": "display_data",
          "data": {
            "text/plain": [
              "<Figure size 432x288 with 1 Axes>"
            ],
            "image/png": "[encoded data removed]"
          },
          "metadata": {}
        }
      ]
    },
    {
      "cell_type": "code",
      "source": [],
      "metadata": {
        "id": "-Rix0ox3-BSk"
      },
      "execution_count": null,
      "outputs": []
    }
  ],
  "metadata": {
    "kernelspec": {
      "display_name": "Python 3.10.4 ('torch')",
      "language": "python",
      "name": "python3"
    },
    "language_info": {
      "codemirror_mode": {
        "name": "ipython",
        "version": 3
      },
      "file_extension": ".py",
      "mimetype": "text/x-python",
      "name": "python",
      "nbconvert_exporter": "python",
      "pygments_lexer": "ipython3",
      "version": "3.10.4"
    },
    "orig_nbformat": 4,
    "vscode": {
      "interpreter": {
        "hash": "0806569fb08f6281673bd527a613de0eff307c0935f5ba0f859440fd02939511"
      }
    },
    "colab": {
      "provenance": [],
      "collapsed_sections": [
        "hQDvxaZNEUWl"
      ]
    },
    "accelerator": "GPU",
    "gpuClass": "standard",
    "widgets": {
      "application/vnd.jupyter.widget-state+json": {
        "35ca1a4230cf46e388550245006bbbec": {
          "model_module": "@jupyter-widgets/controls",
          "model_name": "HBoxModel",
          "model_module_version": "1.5.0",
          "state": {
            "_dom_classes": [],
            "_model_module": "@jupyter-widgets/controls",
            "_model_module_version": "1.5.0",
            "_model_name": "HBoxModel",
            "_view_count": null,
            "_view_module": "@jupyter-widgets/controls",
            "_view_module_version": "1.5.0",
            "_view_name": "HBoxView",
            "box_style": "",
            "children": [
              "IPY_MODEL_a968e9e9664e48c2a58e8b65b5ca3894",
              "IPY_MODEL_61eb4c975955439a852a9091dec7d82a",
              "IPY_MODEL_4b39f19820ee4f109cbbe55371378838"
            ],
            "layout": "IPY_MODEL_7f0f19c09a3e4d8ab05d70c5ee7d3ffc"
          }
        },
        "a968e9e9664e48c2a58e8b65b5ca3894": {
          "model_module": "@jupyter-widgets/controls",
          "model_name": "HTMLModel",
          "model_module_version": "1.5.0",
          "state": {
            "_dom_classes": [],
            "_model_module": "@jupyter-widgets/controls",
            "_model_module_version": "1.5.0",
            "_model_name": "HTMLModel",
            "_view_count": null,
            "_view_module": "@jupyter-widgets/controls",
            "_view_module_version": "1.5.0",
            "_view_name": "HTMLView",
            "description": "",
            "description_tooltip": null,
            "layout": "IPY_MODEL_8ed9813cbb8546958bf2da1f184ebed1",
            "placeholder": "​",
            "style": "IPY_MODEL_cadd0f6140984f5886e7701c9c78a8d4",
            "value": "Downloading: 100%"
          }
        },
        "61eb4c975955439a852a9091dec7d82a": {
          "model_module": "@jupyter-widgets/controls",
          "model_name": "FloatProgressModel",
          "model_module_version": "1.5.0",
          "state": {
            "_dom_classes": [],
            "_model_module": "@jupyter-widgets/controls",
            "_model_module_version": "1.5.0",
            "_model_name": "FloatProgressModel",
            "_view_count": null,
            "_view_module": "@jupyter-widgets/controls",
            "_view_module_version": "1.5.0",
            "_view_name": "ProgressView",
            "bar_style": "success",
            "description": "",
            "description_tooltip": null,
            "layout": "IPY_MODEL_d5e7e11432644491a08a2860a177efa1",
            "max": 1096,
            "min": 0,
            "orientation": "horizontal",
            "style": "IPY_MODEL_6fa76254028c485ca3e42e30d2c92d01",
            "value": 1096
          }
        },
        "4b39f19820ee4f109cbbe55371378838": {
          "model_module": "@jupyter-widgets/controls",
          "model_name": "HTMLModel",
          "model_module_version": "1.5.0",
          "state": {
            "_dom_classes": [],
            "_model_module": "@jupyter-widgets/controls",
            "_model_module_version": "1.5.0",
            "_model_name": "HTMLModel",
            "_view_count": null,
            "_view_module": "@jupyter-widgets/controls",
            "_view_module_version": "1.5.0",
            "_view_name": "HTMLView",
            "description": "",
            "description_tooltip": null,
            "layout": "IPY_MODEL_6babe81a412a4737bc7a08a8d98e041d",
            "placeholder": "​",
            "style": "IPY_MODEL_1d39dc4b17604780988ae905c20d4617",
            "value": " 1.10k/1.10k [00:00&lt;00:00, 31.6kB/s]"
          }
        },
        "7f0f19c09a3e4d8ab05d70c5ee7d3ffc": {
          "model_module": "@jupyter-widgets/base",
          "model_name": "LayoutModel",
          "model_module_version": "1.2.0",
          "state": {
            "_model_module": "@jupyter-widgets/base",
            "_model_module_version": "1.2.0",
            "_model_name": "LayoutModel",
            "_view_count": null,
            "_view_module": "@jupyter-widgets/base",
            "_view_module_version": "1.2.0",
            "_view_name": "LayoutView",
            "align_content": null,
            "align_items": null,
            "align_self": null,
            "border": null,
            "bottom": null,
            "display": null,
            "flex": null,
            "flex_flow": null,
            "grid_area": null,
            "grid_auto_columns": null,
            "grid_auto_flow": null,
            "grid_auto_rows": null,
            "grid_column": null,
            "grid_gap": null,
            "grid_row": null,
            "grid_template_areas": null,
            "grid_template_columns": null,
            "grid_template_rows": null,
            "height": null,
            "justify_content": null,
            "justify_items": null,
            "left": null,
            "margin": null,
            "max_height": null,
            "max_width": null,
            "min_height": null,
            "min_width": null,
            "object_fit": null,
            "object_position": null,
            "order": null,
            "overflow": null,
            "overflow_x": null,
            "overflow_y": null,
            "padding": null,
            "right": null,
            "top": null,
            "visibility": null,
            "width": null
          }
        },
        "8ed9813cbb8546958bf2da1f184ebed1": {
          "model_module": "@jupyter-widgets/base",
          "model_name": "LayoutModel",
          "model_module_version": "1.2.0",
          "state": {
            "_model_module": "@jupyter-widgets/base",
            "_model_module_version": "1.2.0",
            "_model_name": "LayoutModel",
            "_view_count": null,
            "_view_module": "@jupyter-widgets/base",
            "_view_module_version": "1.2.0",
            "_view_name": "LayoutView",
            "align_content": null,
            "align_items": null,
            "align_self": null,
            "border": null,
            "bottom": null,
            "display": null,
            "flex": null,
            "flex_flow": null,
            "grid_area": null,
            "grid_auto_columns": null,
            "grid_auto_flow": null,
            "grid_auto_rows": null,
            "grid_column": null,
            "grid_gap": null,
            "grid_row": null,
            "grid_template_areas": null,
            "grid_template_columns": null,
            "grid_template_rows": null,
            "height": null,
            "justify_content": null,
            "justify_items": null,
            "left": null,
            "margin": null,
            "max_height": null,
            "max_width": null,
            "min_height": null,
            "min_width": null,
            "object_fit": null,
            "object_position": null,
            "order": null,
            "overflow": null,
            "overflow_x": null,
            "overflow_y": null,
            "padding": null,
            "right": null,
            "top": null,
            "visibility": null,
            "width": null
          }
        },
        "cadd0f6140984f5886e7701c9c78a8d4": {
          "model_module": "@jupyter-widgets/controls",
          "model_name": "DescriptionStyleModel",
          "model_module_version": "1.5.0",
          "state": {
            "_model_module": "@jupyter-widgets/controls",
            "_model_module_version": "1.5.0",
            "_model_name": "DescriptionStyleModel",
            "_view_count": null,
            "_view_module": "@jupyter-widgets/base",
            "_view_module_version": "1.2.0",
            "_view_name": "StyleView",
            "description_width": ""
          }
        },
        "d5e7e11432644491a08a2860a177efa1": {
          "model_module": "@jupyter-widgets/base",
          "model_name": "LayoutModel",
          "model_module_version": "1.2.0",
          "state": {
            "_model_module": "@jupyter-widgets/base",
            "_model_module_version": "1.2.0",
            "_model_name": "LayoutModel",
            "_view_count": null,
            "_view_module": "@jupyter-widgets/base",
            "_view_module_version": "1.2.0",
            "_view_name": "LayoutView",
            "align_content": null,
            "align_items": null,
            "align_self": null,
            "border": null,
            "bottom": null,
            "display": null,
            "flex": null,
            "flex_flow": null,
            "grid_area": null,
            "grid_auto_columns": null,
            "grid_auto_flow": null,
            "grid_auto_rows": null,
            "grid_column": null,
            "grid_gap": null,
            "grid_row": null,
            "grid_template_areas": null,
            "grid_template_columns": null,
            "grid_template_rows": null,
            "height": null,
            "justify_content": null,
            "justify_items": null,
            "left": null,
            "margin": null,
            "max_height": null,
            "max_width": null,
            "min_height": null,
            "min_width": null,
            "object_fit": null,
            "object_position": null,
            "order": null,
            "overflow": null,
            "overflow_x": null,
            "overflow_y": null,
            "padding": null,
            "right": null,
            "top": null,
            "visibility": null,
            "width": null
          }
        },
        "6fa76254028c485ca3e42e30d2c92d01": {
          "model_module": "@jupyter-widgets/controls",
          "model_name": "ProgressStyleModel",
          "model_module_version": "1.5.0",
          "state": {
            "_model_module": "@jupyter-widgets/controls",
            "_model_module_version": "1.5.0",
            "_model_name": "ProgressStyleModel",
            "_view_count": null,
            "_view_module": "@jupyter-widgets/base",
            "_view_module_version": "1.2.0",
            "_view_name": "StyleView",
            "bar_color": null,
            "description_width": ""
          }
        },
        "6babe81a412a4737bc7a08a8d98e041d": {
          "model_module": "@jupyter-widgets/base",
          "model_name": "LayoutModel",
          "model_module_version": "1.2.0",
          "state": {
            "_model_module": "@jupyter-widgets/base",
            "_model_module_version": "1.2.0",
            "_model_name": "LayoutModel",
            "_view_count": null,
            "_view_module": "@jupyter-widgets/base",
            "_view_module_version": "1.2.0",
            "_view_name": "LayoutView",
            "align_content": null,
            "align_items": null,
            "align_self": null,
            "border": null,
            "bottom": null,
            "display": null,
            "flex": null,
            "flex_flow": null,
            "grid_area": null,
            "grid_auto_columns": null,
            "grid_auto_flow": null,
            "grid_auto_rows": null,
            "grid_column": null,
            "grid_gap": null,
            "grid_row": null,
            "grid_template_areas": null,
            "grid_template_columns": null,
            "grid_template_rows": null,
            "height": null,
            "justify_content": null,
            "justify_items": null,
            "left": null,
            "margin": null,
            "max_height": null,
            "max_width": null,
            "min_height": null,
            "min_width": null,
            "object_fit": null,
            "object_position": null,
            "order": null,
            "overflow": null,
            "overflow_x": null,
            "overflow_y": null,
            "padding": null,
            "right": null,
            "top": null,
            "visibility": null,
            "width": null
          }
        },
        "1d39dc4b17604780988ae905c20d4617": {
          "model_module": "@jupyter-widgets/controls",
          "model_name": "DescriptionStyleModel",
          "model_module_version": "1.5.0",
          "state": {
            "_model_module": "@jupyter-widgets/controls",
            "_model_module_version": "1.5.0",
            "_model_name": "DescriptionStyleModel",
            "_view_count": null,
            "_view_module": "@jupyter-widgets/base",
            "_view_module_version": "1.2.0",
            "_view_name": "StyleView",
            "description_width": ""
          }
        },
        "4a47ec112ebd488dbd339e21854070c8": {
          "model_module": "@jupyter-widgets/controls",
          "model_name": "HBoxModel",
          "model_module_version": "1.5.0",
          "state": {
            "_dom_classes": [],
            "_model_module": "@jupyter-widgets/controls",
            "_model_module_version": "1.5.0",
            "_model_name": "HBoxModel",
            "_view_count": null,
            "_view_module": "@jupyter-widgets/controls",
            "_view_module_version": "1.5.0",
            "_view_name": "HBoxView",
            "box_style": "",
            "children": [
              "IPY_MODEL_ec4fb4e73ed540c4b612b6b8e8465c2d",
              "IPY_MODEL_a2bbeae638af4200aee95e3580696eef",
              "IPY_MODEL_6fe75e7bf6df4a8a82779b410d41f844"
            ],
            "layout": "IPY_MODEL_e8f24784678c4595a21bfaf192e1d879"
          }
        },
        "ec4fb4e73ed540c4b612b6b8e8465c2d": {
          "model_module": "@jupyter-widgets/controls",
          "model_name": "HTMLModel",
          "model_module_version": "1.5.0",
          "state": {
            "_dom_classes": [],
            "_model_module": "@jupyter-widgets/controls",
            "_model_module_version": "1.5.0",
            "_model_name": "HTMLModel",
            "_view_count": null,
            "_view_module": "@jupyter-widgets/controls",
            "_view_module_version": "1.5.0",
            "_view_name": "HTMLView",
            "description": "",
            "description_tooltip": null,
            "layout": "IPY_MODEL_b95e647878f346409c1f7281aa4a814b",
            "placeholder": "​",
            "style": "IPY_MODEL_1bc6351d2d374a318214322a58219a4e",
            "value": "Downloading: 100%"
          }
        },
        "a2bbeae638af4200aee95e3580696eef": {
          "model_module": "@jupyter-widgets/controls",
          "model_name": "FloatProgressModel",
          "model_module_version": "1.5.0",
          "state": {
            "_dom_classes": [],
            "_model_module": "@jupyter-widgets/controls",
            "_model_module_version": "1.5.0",
            "_model_name": "FloatProgressModel",
            "_view_count": null,
            "_view_module": "@jupyter-widgets/controls",
            "_view_module_version": "1.5.0",
            "_view_name": "ProgressView",
            "bar_style": "success",
            "description": "",
            "description_tooltip": null,
            "layout": "IPY_MODEL_5fd9a87058a44087a747a89a718c41a2",
            "max": 1849,
            "min": 0,
            "orientation": "horizontal",
            "style": "IPY_MODEL_9f1b511edd8c4cf1a6efa4da9b59bd66",
            "value": 1849
          }
        },
        "6fe75e7bf6df4a8a82779b410d41f844": {
          "model_module": "@jupyter-widgets/controls",
          "model_name": "HTMLModel",
          "model_module_version": "1.5.0",
          "state": {
            "_dom_classes": [],
            "_model_module": "@jupyter-widgets/controls",
            "_model_module_version": "1.5.0",
            "_model_name": "HTMLModel",
            "_view_count": null,
            "_view_module": "@jupyter-widgets/controls",
            "_view_module_version": "1.5.0",
            "_view_name": "HTMLView",
            "description": "",
            "description_tooltip": null,
            "layout": "IPY_MODEL_e7dc4e69b98a4a49bc13602a304722c1",
            "placeholder": "​",
            "style": "IPY_MODEL_8624a08f1853406b9ac92ba42362fde6",
            "value": " 1.85k/1.85k [00:00&lt;00:00, 64.7kB/s]"
          }
        },
        "e8f24784678c4595a21bfaf192e1d879": {
          "model_module": "@jupyter-widgets/base",
          "model_name": "LayoutModel",
          "model_module_version": "1.2.0",
          "state": {
            "_model_module": "@jupyter-widgets/base",
            "_model_module_version": "1.2.0",
            "_model_name": "LayoutModel",
            "_view_count": null,
            "_view_module": "@jupyter-widgets/base",
            "_view_module_version": "1.2.0",
            "_view_name": "LayoutView",
            "align_content": null,
            "align_items": null,
            "align_self": null,
            "border": null,
            "bottom": null,
            "display": null,
            "flex": null,
            "flex_flow": null,
            "grid_area": null,
            "grid_auto_columns": null,
            "grid_auto_flow": null,
            "grid_auto_rows": null,
            "grid_column": null,
            "grid_gap": null,
            "grid_row": null,
            "grid_template_areas": null,
            "grid_template_columns": null,
            "grid_template_rows": null,
            "height": null,
            "justify_content": null,
            "justify_items": null,
            "left": null,
            "margin": null,
            "max_height": null,
            "max_width": null,
            "min_height": null,
            "min_width": null,
            "object_fit": null,
            "object_position": null,
            "order": null,
            "overflow": null,
            "overflow_x": null,
            "overflow_y": null,
            "padding": null,
            "right": null,
            "top": null,
            "visibility": null,
            "width": null
          }
        },
        "b95e647878f346409c1f7281aa4a814b": {
          "model_module": "@jupyter-widgets/base",
          "model_name": "LayoutModel",
          "model_module_version": "1.2.0",
          "state": {
            "_model_module": "@jupyter-widgets/base",
            "_model_module_version": "1.2.0",
            "_model_name": "LayoutModel",
            "_view_count": null,
            "_view_module": "@jupyter-widgets/base",
            "_view_module_version": "1.2.0",
            "_view_name": "LayoutView",
            "align_content": null,
            "align_items": null,
            "align_self": null,
            "border": null,
            "bottom": null,
            "display": null,
            "flex": null,
            "flex_flow": null,
            "grid_area": null,
            "grid_auto_columns": null,
            "grid_auto_flow": null,
            "grid_auto_rows": null,
            "grid_column": null,
            "grid_gap": null,
            "grid_row": null,
            "grid_template_areas": null,
            "grid_template_columns": null,
            "grid_template_rows": null,
            "height": null,
            "justify_content": null,
            "justify_items": null,
            "left": null,
            "margin": null,
            "max_height": null,
            "max_width": null,
            "min_height": null,
            "min_width": null,
            "object_fit": null,
            "object_position": null,
            "order": null,
            "overflow": null,
            "overflow_x": null,
            "overflow_y": null,
            "padding": null,
            "right": null,
            "top": null,
            "visibility": null,
            "width": null
          }
        },
        "1bc6351d2d374a318214322a58219a4e": {
          "model_module": "@jupyter-widgets/controls",
          "model_name": "DescriptionStyleModel",
          "model_module_version": "1.5.0",
          "state": {
            "_model_module": "@jupyter-widgets/controls",
            "_model_module_version": "1.5.0",
            "_model_name": "DescriptionStyleModel",
            "_view_count": null,
            "_view_module": "@jupyter-widgets/base",
            "_view_module_version": "1.2.0",
            "_view_name": "StyleView",
            "description_width": ""
          }
        },
        "5fd9a87058a44087a747a89a718c41a2": {
          "model_module": "@jupyter-widgets/base",
          "model_name": "LayoutModel",
          "model_module_version": "1.2.0",
          "state": {
            "_model_module": "@jupyter-widgets/base",
            "_model_module_version": "1.2.0",
            "_model_name": "LayoutModel",
            "_view_count": null,
            "_view_module": "@jupyter-widgets/base",
            "_view_module_version": "1.2.0",
            "_view_name": "LayoutView",
            "align_content": null,
            "align_items": null,
            "align_self": null,
            "border": null,
            "bottom": null,
            "display": null,
            "flex": null,
            "flex_flow": null,
            "grid_area": null,
            "grid_auto_columns": null,
            "grid_auto_flow": null,
            "grid_auto_rows": null,
            "grid_column": null,
            "grid_gap": null,
            "grid_row": null,
            "grid_template_areas": null,
            "grid_template_columns": null,
            "grid_template_rows": null,
            "height": null,
            "justify_content": null,
            "justify_items": null,
            "left": null,
            "margin": null,
            "max_height": null,
            "max_width": null,
            "min_height": null,
            "min_width": null,
            "object_fit": null,
            "object_position": null,
            "order": null,
            "overflow": null,
            "overflow_x": null,
            "overflow_y": null,
            "padding": null,
            "right": null,
            "top": null,
            "visibility": null,
            "width": null
          }
        },
        "9f1b511edd8c4cf1a6efa4da9b59bd66": {
          "model_module": "@jupyter-widgets/controls",
          "model_name": "ProgressStyleModel",
          "model_module_version": "1.5.0",
          "state": {
            "_model_module": "@jupyter-widgets/controls",
            "_model_module_version": "1.5.0",
            "_model_name": "ProgressStyleModel",
            "_view_count": null,
            "_view_module": "@jupyter-widgets/base",
            "_view_module_version": "1.2.0",
            "_view_name": "StyleView",
            "bar_color": null,
            "description_width": ""
          }
        },
        "e7dc4e69b98a4a49bc13602a304722c1": {
          "model_module": "@jupyter-widgets/base",
          "model_name": "LayoutModel",
          "model_module_version": "1.2.0",
          "state": {
            "_model_module": "@jupyter-widgets/base",
            "_model_module_version": "1.2.0",
            "_model_name": "LayoutModel",
            "_view_count": null,
            "_view_module": "@jupyter-widgets/base",
            "_view_module_version": "1.2.0",
            "_view_name": "LayoutView",
            "align_content": null,
            "align_items": null,
            "align_self": null,
            "border": null,
            "bottom": null,
            "display": null,
            "flex": null,
            "flex_flow": null,
            "grid_area": null,
            "grid_auto_columns": null,
            "grid_auto_flow": null,
            "grid_auto_rows": null,
            "grid_column": null,
            "grid_gap": null,
            "grid_row": null,
            "grid_template_areas": null,
            "grid_template_columns": null,
            "grid_template_rows": null,
            "height": null,
            "justify_content": null,
            "justify_items": null,
            "left": null,
            "margin": null,
            "max_height": null,
            "max_width": null,
            "min_height": null,
            "min_width": null,
            "object_fit": null,
            "object_position": null,
            "order": null,
            "overflow": null,
            "overflow_x": null,
            "overflow_y": null,
            "padding": null,
            "right": null,
            "top": null,
            "visibility": null,
            "width": null
          }
        },
        "8624a08f1853406b9ac92ba42362fde6": {
          "model_module": "@jupyter-widgets/controls",
          "model_name": "DescriptionStyleModel",
          "model_module_version": "1.5.0",
          "state": {
            "_model_module": "@jupyter-widgets/controls",
            "_model_module_version": "1.5.0",
            "_model_name": "DescriptionStyleModel",
            "_view_count": null,
            "_view_module": "@jupyter-widgets/base",
            "_view_module_version": "1.2.0",
            "_view_name": "StyleView",
            "description_width": ""
          }
        },
        "1e5a4585a6af4b5c9527030f5e585793": {
          "model_module": "@jupyter-widgets/controls",
          "model_name": "HBoxModel",
          "model_module_version": "1.5.0",
          "state": {
            "_dom_classes": [],
            "_model_module": "@jupyter-widgets/controls",
            "_model_module_version": "1.5.0",
            "_model_name": "HBoxModel",
            "_view_count": null,
            "_view_module": "@jupyter-widgets/controls",
            "_view_module_version": "1.5.0",
            "_view_name": "HBoxView",
            "box_style": "",
            "children": [
              "IPY_MODEL_63aa826f74cd43eebc1cc3ba0c9c7cc9",
              "IPY_MODEL_a14b7fa5a72242d8946aa258c40a12a6",
              "IPY_MODEL_a431d6a1bb584253a9219f971e354158"
            ],
            "layout": "IPY_MODEL_578e933276f9452e8fe6164e4b118ec5"
          }
        },
        "63aa826f74cd43eebc1cc3ba0c9c7cc9": {
          "model_module": "@jupyter-widgets/controls",
          "model_name": "HTMLModel",
          "model_module_version": "1.5.0",
          "state": {
            "_dom_classes": [],
            "_model_module": "@jupyter-widgets/controls",
            "_model_module_version": "1.5.0",
            "_model_name": "HTMLModel",
            "_view_count": null,
            "_view_module": "@jupyter-widgets/controls",
            "_view_module_version": "1.5.0",
            "_view_name": "HTMLView",
            "description": "",
            "description_tooltip": null,
            "layout": "IPY_MODEL_26ada0845ca945cc97417c823c3ac92f",
            "placeholder": "​",
            "style": "IPY_MODEL_e353581dfcca43f6a95fc7efe4cc7b84",
            "value": "Downloading: 100%"
          }
        },
        "a14b7fa5a72242d8946aa258c40a12a6": {
          "model_module": "@jupyter-widgets/controls",
          "model_name": "FloatProgressModel",
          "model_module_version": "1.5.0",
          "state": {
            "_dom_classes": [],
            "_model_module": "@jupyter-widgets/controls",
            "_model_module_version": "1.5.0",
            "_model_name": "FloatProgressModel",
            "_view_count": null,
            "_view_module": "@jupyter-widgets/controls",
            "_view_module_version": "1.5.0",
            "_view_name": "ProgressView",
            "bar_style": "success",
            "description": "",
            "description_tooltip": null,
            "layout": "IPY_MODEL_063a86dd10864878841a25add129c1dd",
            "max": 798293,
            "min": 0,
            "orientation": "horizontal",
            "style": "IPY_MODEL_666aa583788843a8b34353d794576d9c",
            "value": 798293
          }
        },
        "a431d6a1bb584253a9219f971e354158": {
          "model_module": "@jupyter-widgets/controls",
          "model_name": "HTMLModel",
          "model_module_version": "1.5.0",
          "state": {
            "_dom_classes": [],
            "_model_module": "@jupyter-widgets/controls",
            "_model_module_version": "1.5.0",
            "_model_name": "HTMLModel",
            "_view_count": null,
            "_view_module": "@jupyter-widgets/controls",
            "_view_module_version": "1.5.0",
            "_view_name": "HTMLView",
            "description": "",
            "description_tooltip": null,
            "layout": "IPY_MODEL_88cb127f56404d54a7e315f9214c2952",
            "placeholder": "​",
            "style": "IPY_MODEL_b526abe48f804681b0e6df3eb59c8dd8",
            "value": " 798k/798k [00:01&lt;00:00, 908kB/s]"
          }
        },
        "578e933276f9452e8fe6164e4b118ec5": {
          "model_module": "@jupyter-widgets/base",
          "model_name": "LayoutModel",
          "model_module_version": "1.2.0",
          "state": {
            "_model_module": "@jupyter-widgets/base",
            "_model_module_version": "1.2.0",
            "_model_name": "LayoutModel",
            "_view_count": null,
            "_view_module": "@jupyter-widgets/base",
            "_view_module_version": "1.2.0",
            "_view_name": "LayoutView",
            "align_content": null,
            "align_items": null,
            "align_self": null,
            "border": null,
            "bottom": null,
            "display": null,
            "flex": null,
            "flex_flow": null,
            "grid_area": null,
            "grid_auto_columns": null,
            "grid_auto_flow": null,
            "grid_auto_rows": null,
            "grid_column": null,
            "grid_gap": null,
            "grid_row": null,
            "grid_template_areas": null,
            "grid_template_columns": null,
            "grid_template_rows": null,
            "height": null,
            "justify_content": null,
            "justify_items": null,
            "left": null,
            "margin": null,
            "max_height": null,
            "max_width": null,
            "min_height": null,
            "min_width": null,
            "object_fit": null,
            "object_position": null,
            "order": null,
            "overflow": null,
            "overflow_x": null,
            "overflow_y": null,
            "padding": null,
            "right": null,
            "top": null,
            "visibility": null,
            "width": null
          }
        },
        "26ada0845ca945cc97417c823c3ac92f": {
          "model_module": "@jupyter-widgets/base",
          "model_name": "LayoutModel",
          "model_module_version": "1.2.0",
          "state": {
            "_model_module": "@jupyter-widgets/base",
            "_model_module_version": "1.2.0",
            "_model_name": "LayoutModel",
            "_view_count": null,
            "_view_module": "@jupyter-widgets/base",
            "_view_module_version": "1.2.0",
            "_view_name": "LayoutView",
            "align_content": null,
            "align_items": null,
            "align_self": null,
            "border": null,
            "bottom": null,
            "display": null,
            "flex": null,
            "flex_flow": null,
            "grid_area": null,
            "grid_auto_columns": null,
            "grid_auto_flow": null,
            "grid_auto_rows": null,
            "grid_column": null,
            "grid_gap": null,
            "grid_row": null,
            "grid_template_areas": null,
            "grid_template_columns": null,
            "grid_template_rows": null,
            "height": null,
            "justify_content": null,
            "justify_items": null,
            "left": null,
            "margin": null,
            "max_height": null,
            "max_width": null,
            "min_height": null,
            "min_width": null,
            "object_fit": null,
            "object_position": null,
            "order": null,
            "overflow": null,
            "overflow_x": null,
            "overflow_y": null,
            "padding": null,
            "right": null,
            "top": null,
            "visibility": null,
            "width": null
          }
        },
        "e353581dfcca43f6a95fc7efe4cc7b84": {
          "model_module": "@jupyter-widgets/controls",
          "model_name": "DescriptionStyleModel",
          "model_module_version": "1.5.0",
          "state": {
            "_model_module": "@jupyter-widgets/controls",
            "_model_module_version": "1.5.0",
            "_model_name": "DescriptionStyleModel",
            "_view_count": null,
            "_view_module": "@jupyter-widgets/base",
            "_view_module_version": "1.2.0",
            "_view_name": "StyleView",
            "description_width": ""
          }
        },
        "063a86dd10864878841a25add129c1dd": {
          "model_module": "@jupyter-widgets/base",
          "model_name": "LayoutModel",
          "model_module_version": "1.2.0",
          "state": {
            "_model_module": "@jupyter-widgets/base",
            "_model_module_version": "1.2.0",
            "_model_name": "LayoutModel",
            "_view_count": null,
            "_view_module": "@jupyter-widgets/base",
            "_view_module_version": "1.2.0",
            "_view_name": "LayoutView",
            "align_content": null,
            "align_items": null,
            "align_self": null,
            "border": null,
            "bottom": null,
            "display": null,
            "flex": null,
            "flex_flow": null,
            "grid_area": null,
            "grid_auto_columns": null,
            "grid_auto_flow": null,
            "grid_auto_rows": null,
            "grid_column": null,
            "grid_gap": null,
            "grid_row": null,
            "grid_template_areas": null,
            "grid_template_columns": null,
            "grid_template_rows": null,
            "height": null,
            "justify_content": null,
            "justify_items": null,
            "left": null,
            "margin": null,
            "max_height": null,
            "max_width": null,
            "min_height": null,
            "min_width": null,
            "object_fit": null,
            "object_position": null,
            "order": null,
            "overflow": null,
            "overflow_x": null,
            "overflow_y": null,
            "padding": null,
            "right": null,
            "top": null,
            "visibility": null,
            "width": null
          }
        },
        "666aa583788843a8b34353d794576d9c": {
          "model_module": "@jupyter-widgets/controls",
          "model_name": "ProgressStyleModel",
          "model_module_version": "1.5.0",
          "state": {
            "_model_module": "@jupyter-widgets/controls",
            "_model_module_version": "1.5.0",
            "_model_name": "ProgressStyleModel",
            "_view_count": null,
            "_view_module": "@jupyter-widgets/base",
            "_view_module_version": "1.2.0",
            "_view_name": "StyleView",
            "bar_color": null,
            "description_width": ""
          }
        },
        "88cb127f56404d54a7e315f9214c2952": {
          "model_module": "@jupyter-widgets/base",
          "model_name": "LayoutModel",
          "model_module_version": "1.2.0",
          "state": {
            "_model_module": "@jupyter-widgets/base",
            "_model_module_version": "1.2.0",
            "_model_name": "LayoutModel",
            "_view_count": null,
            "_view_module": "@jupyter-widgets/base",
            "_view_module_version": "1.2.0",
            "_view_name": "LayoutView",
            "align_content": null,
            "align_items": null,
            "align_self": null,
            "border": null,
            "bottom": null,
            "display": null,
            "flex": null,
            "flex_flow": null,
            "grid_area": null,
            "grid_auto_columns": null,
            "grid_auto_flow": null,
            "grid_auto_rows": null,
            "grid_column": null,
            "grid_gap": null,
            "grid_row": null,
            "grid_template_areas": null,
            "grid_template_columns": null,
            "grid_template_rows": null,
            "height": null,
            "justify_content": null,
            "justify_items": null,
            "left": null,
            "margin": null,
            "max_height": null,
            "max_width": null,
            "min_height": null,
            "min_width": null,
            "object_fit": null,
            "object_position": null,
            "order": null,
            "overflow": null,
            "overflow_x": null,
            "overflow_y": null,
            "padding": null,
            "right": null,
            "top": null,
            "visibility": null,
            "width": null
          }
        },
        "b526abe48f804681b0e6df3eb59c8dd8": {
          "model_module": "@jupyter-widgets/controls",
          "model_name": "DescriptionStyleModel",
          "model_module_version": "1.5.0",
          "state": {
            "_model_module": "@jupyter-widgets/controls",
            "_model_module_version": "1.5.0",
            "_model_name": "DescriptionStyleModel",
            "_view_count": null,
            "_view_module": "@jupyter-widgets/base",
            "_view_module_version": "1.2.0",
            "_view_name": "StyleView",
            "description_width": ""
          }
        },
        "3f6daacc39c24a59847881b877e94f64": {
          "model_module": "@jupyter-widgets/controls",
          "model_name": "HBoxModel",
          "model_module_version": "1.5.0",
          "state": {
            "_dom_classes": [],
            "_model_module": "@jupyter-widgets/controls",
            "_model_module_version": "1.5.0",
            "_model_name": "HBoxModel",
            "_view_count": null,
            "_view_module": "@jupyter-widgets/controls",
            "_view_module_version": "1.5.0",
            "_view_name": "HBoxView",
            "box_style": "",
            "children": [
              "IPY_MODEL_b4941677e6cc4ed3b0479fca07a27d06",
              "IPY_MODEL_3a69a20b4b7a4d47bdaa8e635d675c53",
              "IPY_MODEL_05f44bcc9f2b4ba394f4dadc28dc0f43"
            ],
            "layout": "IPY_MODEL_8c24d237e4c944e49392ea33442ea57c"
          }
        },
        "b4941677e6cc4ed3b0479fca07a27d06": {
          "model_module": "@jupyter-widgets/controls",
          "model_name": "HTMLModel",
          "model_module_version": "1.5.0",
          "state": {
            "_dom_classes": [],
            "_model_module": "@jupyter-widgets/controls",
            "_model_module_version": "1.5.0",
            "_model_name": "HTMLModel",
            "_view_count": null,
            "_view_module": "@jupyter-widgets/controls",
            "_view_module_version": "1.5.0",
            "_view_name": "HTMLView",
            "description": "",
            "description_tooltip": null,
            "layout": "IPY_MODEL_72e9a133b6a544b2be2453268043b5eb",
            "placeholder": "​",
            "style": "IPY_MODEL_044c35828cea4bcc9dcdf4ec1fb2f878",
            "value": "Downloading: 100%"
          }
        },
        "3a69a20b4b7a4d47bdaa8e635d675c53": {
          "model_module": "@jupyter-widgets/controls",
          "model_name": "FloatProgressModel",
          "model_module_version": "1.5.0",
          "state": {
            "_dom_classes": [],
            "_model_module": "@jupyter-widgets/controls",
            "_model_module_version": "1.5.0",
            "_model_name": "FloatProgressModel",
            "_view_count": null,
            "_view_module": "@jupyter-widgets/controls",
            "_view_module_version": "1.5.0",
            "_view_name": "ProgressView",
            "bar_style": "success",
            "description": "",
            "description_tooltip": null,
            "layout": "IPY_MODEL_0f3ee7ed48e34c708a415c257dc9ac6f",
            "max": 456356,
            "min": 0,
            "orientation": "horizontal",
            "style": "IPY_MODEL_93c6ade9f0834bed94d3cff5f9217c28",
            "value": 456356
          }
        },
        "05f44bcc9f2b4ba394f4dadc28dc0f43": {
          "model_module": "@jupyter-widgets/controls",
          "model_name": "HTMLModel",
          "model_module_version": "1.5.0",
          "state": {
            "_dom_classes": [],
            "_model_module": "@jupyter-widgets/controls",
            "_model_module_version": "1.5.0",
            "_model_name": "HTMLModel",
            "_view_count": null,
            "_view_module": "@jupyter-widgets/controls",
            "_view_module_version": "1.5.0",
            "_view_name": "HTMLView",
            "description": "",
            "description_tooltip": null,
            "layout": "IPY_MODEL_dadb937046de4a6080203f5972eed1e3",
            "placeholder": "​",
            "style": "IPY_MODEL_615e2aacbdf14efd94dba15830f559e3",
            "value": " 456k/456k [00:01&lt;00:00, 529kB/s]"
          }
        },
        "8c24d237e4c944e49392ea33442ea57c": {
          "model_module": "@jupyter-widgets/base",
          "model_name": "LayoutModel",
          "model_module_version": "1.2.0",
          "state": {
            "_model_module": "@jupyter-widgets/base",
            "_model_module_version": "1.2.0",
            "_model_name": "LayoutModel",
            "_view_count": null,
            "_view_module": "@jupyter-widgets/base",
            "_view_module_version": "1.2.0",
            "_view_name": "LayoutView",
            "align_content": null,
            "align_items": null,
            "align_self": null,
            "border": null,
            "bottom": null,
            "display": null,
            "flex": null,
            "flex_flow": null,
            "grid_area": null,
            "grid_auto_columns": null,
            "grid_auto_flow": null,
            "grid_auto_rows": null,
            "grid_column": null,
            "grid_gap": null,
            "grid_row": null,
            "grid_template_areas": null,
            "grid_template_columns": null,
            "grid_template_rows": null,
            "height": null,
            "justify_content": null,
            "justify_items": null,
            "left": null,
            "margin": null,
            "max_height": null,
            "max_width": null,
            "min_height": null,
            "min_width": null,
            "object_fit": null,
            "object_position": null,
            "order": null,
            "overflow": null,
            "overflow_x": null,
            "overflow_y": null,
            "padding": null,
            "right": null,
            "top": null,
            "visibility": null,
            "width": null
          }
        },
        "72e9a133b6a544b2be2453268043b5eb": {
          "model_module": "@jupyter-widgets/base",
          "model_name": "LayoutModel",
          "model_module_version": "1.2.0",
          "state": {
            "_model_module": "@jupyter-widgets/base",
            "_model_module_version": "1.2.0",
            "_model_name": "LayoutModel",
            "_view_count": null,
            "_view_module": "@jupyter-widgets/base",
            "_view_module_version": "1.2.0",
            "_view_name": "LayoutView",
            "align_content": null,
            "align_items": null,
            "align_self": null,
            "border": null,
            "bottom": null,
            "display": null,
            "flex": null,
            "flex_flow": null,
            "grid_area": null,
            "grid_auto_columns": null,
            "grid_auto_flow": null,
            "grid_auto_rows": null,
            "grid_column": null,
            "grid_gap": null,
            "grid_row": null,
            "grid_template_areas": null,
            "grid_template_columns": null,
            "grid_template_rows": null,
            "height": null,
            "justify_content": null,
            "justify_items": null,
            "left": null,
            "margin": null,
            "max_height": null,
            "max_width": null,
            "min_height": null,
            "min_width": null,
            "object_fit": null,
            "object_position": null,
            "order": null,
            "overflow": null,
            "overflow_x": null,
            "overflow_y": null,
            "padding": null,
            "right": null,
            "top": null,
            "visibility": null,
            "width": null
          }
        },
        "044c35828cea4bcc9dcdf4ec1fb2f878": {
          "model_module": "@jupyter-widgets/controls",
          "model_name": "DescriptionStyleModel",
          "model_module_version": "1.5.0",
          "state": {
            "_model_module": "@jupyter-widgets/controls",
            "_model_module_version": "1.5.0",
            "_model_name": "DescriptionStyleModel",
            "_view_count": null,
            "_view_module": "@jupyter-widgets/base",
            "_view_module_version": "1.2.0",
            "_view_name": "StyleView",
            "description_width": ""
          }
        },
        "0f3ee7ed48e34c708a415c257dc9ac6f": {
          "model_module": "@jupyter-widgets/base",
          "model_name": "LayoutModel",
          "model_module_version": "1.2.0",
          "state": {
            "_model_module": "@jupyter-widgets/base",
            "_model_module_version": "1.2.0",
            "_model_name": "LayoutModel",
            "_view_count": null,
            "_view_module": "@jupyter-widgets/base",
            "_view_module_version": "1.2.0",
            "_view_name": "LayoutView",
            "align_content": null,
            "align_items": null,
            "align_self": null,
            "border": null,
            "bottom": null,
            "display": null,
            "flex": null,
            "flex_flow": null,
            "grid_area": null,
            "grid_auto_columns": null,
            "grid_auto_flow": null,
            "grid_auto_rows": null,
            "grid_column": null,
            "grid_gap": null,
            "grid_row": null,
            "grid_template_areas": null,
            "grid_template_columns": null,
            "grid_template_rows": null,
            "height": null,
            "justify_content": null,
            "justify_items": null,
            "left": null,
            "margin": null,
            "max_height": null,
            "max_width": null,
            "min_height": null,
            "min_width": null,
            "object_fit": null,
            "object_position": null,
            "order": null,
            "overflow": null,
            "overflow_x": null,
            "overflow_y": null,
            "padding": null,
            "right": null,
            "top": null,
            "visibility": null,
            "width": null
          }
        },
        "93c6ade9f0834bed94d3cff5f9217c28": {
          "model_module": "@jupyter-widgets/controls",
          "model_name": "ProgressStyleModel",
          "model_module_version": "1.5.0",
          "state": {
            "_model_module": "@jupyter-widgets/controls",
            "_model_module_version": "1.5.0",
            "_model_name": "ProgressStyleModel",
            "_view_count": null,
            "_view_module": "@jupyter-widgets/base",
            "_view_module_version": "1.2.0",
            "_view_name": "StyleView",
            "bar_color": null,
            "description_width": ""
          }
        },
        "dadb937046de4a6080203f5972eed1e3": {
          "model_module": "@jupyter-widgets/base",
          "model_name": "LayoutModel",
          "model_module_version": "1.2.0",
          "state": {
            "_model_module": "@jupyter-widgets/base",
            "_model_module_version": "1.2.0",
            "_model_name": "LayoutModel",
            "_view_count": null,
            "_view_module": "@jupyter-widgets/base",
            "_view_module_version": "1.2.0",
            "_view_name": "LayoutView",
            "align_content": null,
            "align_items": null,
            "align_self": null,
            "border": null,
            "bottom": null,
            "display": null,
            "flex": null,
            "flex_flow": null,
            "grid_area": null,
            "grid_auto_columns": null,
            "grid_auto_flow": null,
            "grid_auto_rows": null,
            "grid_column": null,
            "grid_gap": null,
            "grid_row": null,
            "grid_template_areas": null,
            "grid_template_columns": null,
            "grid_template_rows": null,
            "height": null,
            "justify_content": null,
            "justify_items": null,
            "left": null,
            "margin": null,
            "max_height": null,
            "max_width": null,
            "min_height": null,
            "min_width": null,
            "object_fit": null,
            "object_position": null,
            "order": null,
            "overflow": null,
            "overflow_x": null,
            "overflow_y": null,
            "padding": null,
            "right": null,
            "top": null,
            "visibility": null,
            "width": null
          }
        },
        "615e2aacbdf14efd94dba15830f559e3": {
          "model_module": "@jupyter-widgets/controls",
          "model_name": "DescriptionStyleModel",
          "model_module_version": "1.5.0",
          "state": {
            "_model_module": "@jupyter-widgets/controls",
            "_model_module_version": "1.5.0",
            "_model_name": "DescriptionStyleModel",
            "_view_count": null,
            "_view_module": "@jupyter-widgets/base",
            "_view_module_version": "1.2.0",
            "_view_name": "StyleView",
            "description_width": ""
          }
        },
        "803b83c0105441a694ab1e58e6465a65": {
          "model_module": "@jupyter-widgets/controls",
          "model_name": "HBoxModel",
          "model_module_version": "1.5.0",
          "state": {
            "_dom_classes": [],
            "_model_module": "@jupyter-widgets/controls",
            "_model_module_version": "1.5.0",
            "_model_name": "HBoxModel",
            "_view_count": null,
            "_view_module": "@jupyter-widgets/controls",
            "_view_module_version": "1.5.0",
            "_view_name": "HBoxView",
            "box_style": "",
            "children": [
              "IPY_MODEL_c6fd0c852cac4543af648c28ac2b4983",
              "IPY_MODEL_d50f2a18417d4431aea8c61ff2454e6f",
              "IPY_MODEL_eeb113aa0d324ef1b6a62b10e2191a56"
            ],
            "layout": "IPY_MODEL_fab5ff30ce9f4d00bec406686a67347e"
          }
        },
        "c6fd0c852cac4543af648c28ac2b4983": {
          "model_module": "@jupyter-widgets/controls",
          "model_name": "HTMLModel",
          "model_module_version": "1.5.0",
          "state": {
            "_dom_classes": [],
            "_model_module": "@jupyter-widgets/controls",
            "_model_module_version": "1.5.0",
            "_model_name": "HTMLModel",
            "_view_count": null,
            "_view_module": "@jupyter-widgets/controls",
            "_view_module_version": "1.5.0",
            "_view_name": "HTMLView",
            "description": "",
            "description_tooltip": null,
            "layout": "IPY_MODEL_4624e6d04bb54a778368986fc83c8eef",
            "placeholder": "​",
            "style": "IPY_MODEL_85d8cdb384f94eb3aa2fb197d045d5f4",
            "value": "Downloading: 100%"
          }
        },
        "d50f2a18417d4431aea8c61ff2454e6f": {
          "model_module": "@jupyter-widgets/controls",
          "model_name": "FloatProgressModel",
          "model_module_version": "1.5.0",
          "state": {
            "_dom_classes": [],
            "_model_module": "@jupyter-widgets/controls",
            "_model_module_version": "1.5.0",
            "_model_name": "FloatProgressModel",
            "_view_count": null,
            "_view_module": "@jupyter-widgets/controls",
            "_view_module_version": "1.5.0",
            "_view_name": "ProgressView",
            "bar_style": "success",
            "description": "",
            "description_tooltip": null,
            "layout": "IPY_MODEL_a99154e0c3684f7da85abe366a09e7a1",
            "max": 772,
            "min": 0,
            "orientation": "horizontal",
            "style": "IPY_MODEL_3063fb6917354b188cbdd1e502d9a369",
            "value": 772
          }
        },
        "eeb113aa0d324ef1b6a62b10e2191a56": {
          "model_module": "@jupyter-widgets/controls",
          "model_name": "HTMLModel",
          "model_module_version": "1.5.0",
          "state": {
            "_dom_classes": [],
            "_model_module": "@jupyter-widgets/controls",
            "_model_module_version": "1.5.0",
            "_model_name": "HTMLModel",
            "_view_count": null,
            "_view_module": "@jupyter-widgets/controls",
            "_view_module_version": "1.5.0",
            "_view_name": "HTMLView",
            "description": "",
            "description_tooltip": null,
            "layout": "IPY_MODEL_8884012c0d044056828f59f104117c69",
            "placeholder": "​",
            "style": "IPY_MODEL_226a0079e51a4803b4a87548ec075f11",
            "value": " 772/772 [00:00&lt;00:00, 25.9kB/s]"
          }
        },
        "fab5ff30ce9f4d00bec406686a67347e": {
          "model_module": "@jupyter-widgets/base",
          "model_name": "LayoutModel",
          "model_module_version": "1.2.0",
          "state": {
            "_model_module": "@jupyter-widgets/base",
            "_model_module_version": "1.2.0",
            "_model_name": "LayoutModel",
            "_view_count": null,
            "_view_module": "@jupyter-widgets/base",
            "_view_module_version": "1.2.0",
            "_view_name": "LayoutView",
            "align_content": null,
            "align_items": null,
            "align_self": null,
            "border": null,
            "bottom": null,
            "display": null,
            "flex": null,
            "flex_flow": null,
            "grid_area": null,
            "grid_auto_columns": null,
            "grid_auto_flow": null,
            "grid_auto_rows": null,
            "grid_column": null,
            "grid_gap": null,
            "grid_row": null,
            "grid_template_areas": null,
            "grid_template_columns": null,
            "grid_template_rows": null,
            "height": null,
            "justify_content": null,
            "justify_items": null,
            "left": null,
            "margin": null,
            "max_height": null,
            "max_width": null,
            "min_height": null,
            "min_width": null,
            "object_fit": null,
            "object_position": null,
            "order": null,
            "overflow": null,
            "overflow_x": null,
            "overflow_y": null,
            "padding": null,
            "right": null,
            "top": null,
            "visibility": null,
            "width": null
          }
        },
        "4624e6d04bb54a778368986fc83c8eef": {
          "model_module": "@jupyter-widgets/base",
          "model_name": "LayoutModel",
          "model_module_version": "1.2.0",
          "state": {
            "_model_module": "@jupyter-widgets/base",
            "_model_module_version": "1.2.0",
            "_model_name": "LayoutModel",
            "_view_count": null,
            "_view_module": "@jupyter-widgets/base",
            "_view_module_version": "1.2.0",
            "_view_name": "LayoutView",
            "align_content": null,
            "align_items": null,
            "align_self": null,
            "border": null,
            "bottom": null,
            "display": null,
            "flex": null,
            "flex_flow": null,
            "grid_area": null,
            "grid_auto_columns": null,
            "grid_auto_flow": null,
            "grid_auto_rows": null,
            "grid_column": null,
            "grid_gap": null,
            "grid_row": null,
            "grid_template_areas": null,
            "grid_template_columns": null,
            "grid_template_rows": null,
            "height": null,
            "justify_content": null,
            "justify_items": null,
            "left": null,
            "margin": null,
            "max_height": null,
            "max_width": null,
            "min_height": null,
            "min_width": null,
            "object_fit": null,
            "object_position": null,
            "order": null,
            "overflow": null,
            "overflow_x": null,
            "overflow_y": null,
            "padding": null,
            "right": null,
            "top": null,
            "visibility": null,
            "width": null
          }
        },
        "85d8cdb384f94eb3aa2fb197d045d5f4": {
          "model_module": "@jupyter-widgets/controls",
          "model_name": "DescriptionStyleModel",
          "model_module_version": "1.5.0",
          "state": {
            "_model_module": "@jupyter-widgets/controls",
            "_model_module_version": "1.5.0",
            "_model_name": "DescriptionStyleModel",
            "_view_count": null,
            "_view_module": "@jupyter-widgets/base",
            "_view_module_version": "1.2.0",
            "_view_name": "StyleView",
            "description_width": ""
          }
        },
        "a99154e0c3684f7da85abe366a09e7a1": {
          "model_module": "@jupyter-widgets/base",
          "model_name": "LayoutModel",
          "model_module_version": "1.2.0",
          "state": {
            "_model_module": "@jupyter-widgets/base",
            "_model_module_version": "1.2.0",
            "_model_name": "LayoutModel",
            "_view_count": null,
            "_view_module": "@jupyter-widgets/base",
            "_view_module_version": "1.2.0",
            "_view_name": "LayoutView",
            "align_content": null,
            "align_items": null,
            "align_self": null,
            "border": null,
            "bottom": null,
            "display": null,
            "flex": null,
            "flex_flow": null,
            "grid_area": null,
            "grid_auto_columns": null,
            "grid_auto_flow": null,
            "grid_auto_rows": null,
            "grid_column": null,
            "grid_gap": null,
            "grid_row": null,
            "grid_template_areas": null,
            "grid_template_columns": null,
            "grid_template_rows": null,
            "height": null,
            "justify_content": null,
            "justify_items": null,
            "left": null,
            "margin": null,
            "max_height": null,
            "max_width": null,
            "min_height": null,
            "min_width": null,
            "object_fit": null,
            "object_position": null,
            "order": null,
            "overflow": null,
            "overflow_x": null,
            "overflow_y": null,
            "padding": null,
            "right": null,
            "top": null,
            "visibility": null,
            "width": null
          }
        },
        "3063fb6917354b188cbdd1e502d9a369": {
          "model_module": "@jupyter-widgets/controls",
          "model_name": "ProgressStyleModel",
          "model_module_version": "1.5.0",
          "state": {
            "_model_module": "@jupyter-widgets/controls",
            "_model_module_version": "1.5.0",
            "_model_name": "ProgressStyleModel",
            "_view_count": null,
            "_view_module": "@jupyter-widgets/base",
            "_view_module_version": "1.2.0",
            "_view_name": "StyleView",
            "bar_color": null,
            "description_width": ""
          }
        },
        "8884012c0d044056828f59f104117c69": {
          "model_module": "@jupyter-widgets/base",
          "model_name": "LayoutModel",
          "model_module_version": "1.2.0",
          "state": {
            "_model_module": "@jupyter-widgets/base",
            "_model_module_version": "1.2.0",
            "_model_name": "LayoutModel",
            "_view_count": null,
            "_view_module": "@jupyter-widgets/base",
            "_view_module_version": "1.2.0",
            "_view_name": "LayoutView",
            "align_content": null,
            "align_items": null,
            "align_self": null,
            "border": null,
            "bottom": null,
            "display": null,
            "flex": null,
            "flex_flow": null,
            "grid_area": null,
            "grid_auto_columns": null,
            "grid_auto_flow": null,
            "grid_auto_rows": null,
            "grid_column": null,
            "grid_gap": null,
            "grid_row": null,
            "grid_template_areas": null,
            "grid_template_columns": null,
            "grid_template_rows": null,
            "height": null,
            "justify_content": null,
            "justify_items": null,
            "left": null,
            "margin": null,
            "max_height": null,
            "max_width": null,
            "min_height": null,
            "min_width": null,
            "object_fit": null,
            "object_position": null,
            "order": null,
            "overflow": null,
            "overflow_x": null,
            "overflow_y": null,
            "padding": null,
            "right": null,
            "top": null,
            "visibility": null,
            "width": null
          }
        },
        "226a0079e51a4803b4a87548ec075f11": {
          "model_module": "@jupyter-widgets/controls",
          "model_name": "DescriptionStyleModel",
          "model_module_version": "1.5.0",
          "state": {
            "_model_module": "@jupyter-widgets/controls",
            "_model_module_version": "1.5.0",
            "_model_name": "DescriptionStyleModel",
            "_view_count": null,
            "_view_module": "@jupyter-widgets/base",
            "_view_module_version": "1.2.0",
            "_view_name": "StyleView",
            "description_width": ""
          }
        }
      }
    }
  },
  "nbformat": 4,
  "nbformat_minor": 0
}