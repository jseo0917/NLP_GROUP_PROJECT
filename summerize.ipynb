{
  "cells": [
    {
      "cell_type": "code",
      "source": [
        "!pip install -q gwpy\n",
        "# !pip install transformers\n",
        "# !pip install rouge\n",
        "import nltk\n",
        "nltk.download('punkt')\n",
        "nltk.download('stopwords')\n",
        "from typing import List\n",
        "import os\n",
        "import json\n",
        "import ast\n",
        "import pandas as pd\n",
        "import csv\n",
        "import argparse\n",
        "import pickle\n",
        "from transformers import pipeline\n",
        "import seaborn as sns\n",
        "import matplotlib.pyplot as plt\n",
        "import numpy as np\n",
        "from rouge import Rouge\n",
        "from nltk.corpus import stopwords\n",
        "from nltk.tokenize import word_tokenize"
      ],
      "metadata": {
        "colab": {
          "base_uri": "https://localhost:8080/"
        },
        "id": "47vCQKqxjVE3",
        "outputId": "23f9d45b-6e66-4781-c821-e88a30342676"
      },
      "execution_count": 3,
      "outputs": [
        {
          "output_type": "stream",
          "name": "stderr",
          "text": [
            "[nltk_data] Downloading package punkt to /root/nltk_data...\n",
            "[nltk_data]   Package punkt is already up-to-date!\n",
            "[nltk_data] Downloading package stopwords to /root/nltk_data...\n",
            "[nltk_data]   Package stopwords is already up-to-date!\n"
          ]
        }
      ]
    },
    {
      "cell_type": "code",
      "source": [
        "from google.colab import drive\n",
        "drive.mount('/content/drive')"
      ],
      "metadata": {
        "colab": {
          "base_uri": "https://localhost:8080/"
        },
        "id": "4xIH7sOluxvg",
        "outputId": "3835ee15-2038-456d-cf50-10e9f01ca7db"
      },
      "execution_count": 4,
      "outputs": [
        {
          "output_type": "stream",
          "name": "stdout",
          "text": [
            "Mounted at /content/drive\n"
          ]
        }
      ]
    },
    {
      "cell_type": "markdown",
      "source": [
        "### Read csv files"
      ],
      "metadata": {
        "id": "2QzLfjCRkBet"
      }
    },
    {
      "cell_type": "code",
      "source": [
        "curr_path = os.getcwd()\n",
        "\n",
        "# Path to twcs.csv File\n",
        "twcs = pd.read_csv(curr_path + '/drive/MyDrive/twcs.csv')"
      ],
      "metadata": {
        "id": "RJ6fkVCHkEBt"
      },
      "execution_count": 5,
      "outputs": []
    },
    {
      "cell_type": "code",
      "source": [
        "twcs.head(5)"
      ],
      "metadata": {
        "colab": {
          "base_uri": "https://localhost:8080/",
          "height": 206
        },
        "id": "1F8tMtwnCkan",
        "outputId": "cebfac0d-b8d8-406e-c021-5e7b32ffa44b"
      },
      "execution_count": 6,
      "outputs": [
        {
          "output_type": "execute_result",
          "data": {
            "text/plain": [
              "   tweet_id   author_id  inbound                      created_at  \\\n",
              "0         1  sprintcare    False  Tue Oct 31 22:10:47 +0000 2017   \n",
              "1         2      115712     True  Tue Oct 31 22:11:45 +0000 2017   \n",
              "2         3      115712     True  Tue Oct 31 22:08:27 +0000 2017   \n",
              "3         4  sprintcare    False  Tue Oct 31 21:54:49 +0000 2017   \n",
              "4         5      115712     True  Tue Oct 31 21:49:35 +0000 2017   \n",
              "\n",
              "                                                text response_tweet_id  \\\n",
              "0  @115712 I understand. I would like to assist y...                 2   \n",
              "1      @sprintcare and how do you propose we do that               NaN   \n",
              "2  @sprintcare I have sent several private messag...                 1   \n",
              "3  @115712 Please send us a Private Message so th...                 3   \n",
              "4                                 @sprintcare I did.                 4   \n",
              "\n",
              "   in_response_to_tweet_id  \n",
              "0                      3.0  \n",
              "1                      1.0  \n",
              "2                      4.0  \n",
              "3                      5.0  \n",
              "4                      6.0  "
            ],
            "text/html": [
              "\n",
              "  <div id=\"df-dbecc936-8619-4f3c-9af9-36cf82de59a4\">\n",
              "    <div class=\"colab-df-container\">\n",
              "      <div>\n",
              "<style scoped>\n",
              "    .dataframe tbody tr th:only-of-type {\n",
              "        vertical-align: middle;\n",
              "    }\n",
              "\n",
              "    .dataframe tbody tr th {\n",
              "        vertical-align: top;\n",
              "    }\n",
              "\n",
              "    .dataframe thead th {\n",
              "        text-align: right;\n",
              "    }\n",
              "</style>\n",
              "<table border=\"1\" class=\"dataframe\">\n",
              "  <thead>\n",
              "    <tr style=\"text-align: right;\">\n",
              "      <th></th>\n",
              "      <th>tweet_id</th>\n",
              "      <th>author_id</th>\n",
              "      <th>inbound</th>\n",
              "      <th>created_at</th>\n",
              "      <th>text</th>\n",
              "      <th>response_tweet_id</th>\n",
              "      <th>in_response_to_tweet_id</th>\n",
              "    </tr>\n",
              "  </thead>\n",
              "  <tbody>\n",
              "    <tr>\n",
              "      <th>0</th>\n",
              "      <td>1</td>\n",
              "      <td>sprintcare</td>\n",
              "      <td>False</td>\n",
              "      <td>Tue Oct 31 22:10:47 +0000 2017</td>\n",
              "      <td>@115712 I understand. I would like to assist y...</td>\n",
              "      <td>2</td>\n",
              "      <td>3.0</td>\n",
              "    </tr>\n",
              "    <tr>\n",
              "      <th>1</th>\n",
              "      <td>2</td>\n",
              "      <td>115712</td>\n",
              "      <td>True</td>\n",
              "      <td>Tue Oct 31 22:11:45 +0000 2017</td>\n",
              "      <td>@sprintcare and how do you propose we do that</td>\n",
              "      <td>NaN</td>\n",
              "      <td>1.0</td>\n",
              "    </tr>\n",
              "    <tr>\n",
              "      <th>2</th>\n",
              "      <td>3</td>\n",
              "      <td>115712</td>\n",
              "      <td>True</td>\n",
              "      <td>Tue Oct 31 22:08:27 +0000 2017</td>\n",
              "      <td>@sprintcare I have sent several private messag...</td>\n",
              "      <td>1</td>\n",
              "      <td>4.0</td>\n",
              "    </tr>\n",
              "    <tr>\n",
              "      <th>3</th>\n",
              "      <td>4</td>\n",
              "      <td>sprintcare</td>\n",
              "      <td>False</td>\n",
              "      <td>Tue Oct 31 21:54:49 +0000 2017</td>\n",
              "      <td>@115712 Please send us a Private Message so th...</td>\n",
              "      <td>3</td>\n",
              "      <td>5.0</td>\n",
              "    </tr>\n",
              "    <tr>\n",
              "      <th>4</th>\n",
              "      <td>5</td>\n",
              "      <td>115712</td>\n",
              "      <td>True</td>\n",
              "      <td>Tue Oct 31 21:49:35 +0000 2017</td>\n",
              "      <td>@sprintcare I did.</td>\n",
              "      <td>4</td>\n",
              "      <td>6.0</td>\n",
              "    </tr>\n",
              "  </tbody>\n",
              "</table>\n",
              "</div>\n",
              "      <button class=\"colab-df-convert\" onclick=\"convertToInteractive('df-dbecc936-8619-4f3c-9af9-36cf82de59a4')\"\n",
              "              title=\"Convert this dataframe to an interactive table.\"\n",
              "              style=\"display:none;\">\n",
              "        \n",
              "  <svg xmlns=\"http://www.w3.org/2000/svg\" height=\"24px\"viewBox=\"0 0 24 24\"\n",
              "       width=\"24px\">\n",
              "    <path d=\"M0 0h24v24H0V0z\" fill=\"none\"/>\n",
              "    <path d=\"M18.56 5.44l.94 2.06.94-2.06 2.06-.94-2.06-.94-.94-2.06-.94 2.06-2.06.94zm-11 1L8.5 8.5l.94-2.06 2.06-.94-2.06-.94L8.5 2.5l-.94 2.06-2.06.94zm10 10l.94 2.06.94-2.06 2.06-.94-2.06-.94-.94-2.06-.94 2.06-2.06.94z\"/><path d=\"M17.41 7.96l-1.37-1.37c-.4-.4-.92-.59-1.43-.59-.52 0-1.04.2-1.43.59L10.3 9.45l-7.72 7.72c-.78.78-.78 2.05 0 2.83L4 21.41c.39.39.9.59 1.41.59.51 0 1.02-.2 1.41-.59l7.78-7.78 2.81-2.81c.8-.78.8-2.07 0-2.86zM5.41 20L4 18.59l7.72-7.72 1.47 1.35L5.41 20z\"/>\n",
              "  </svg>\n",
              "      </button>\n",
              "      \n",
              "  <style>\n",
              "    .colab-df-container {\n",
              "      display:flex;\n",
              "      flex-wrap:wrap;\n",
              "      gap: 12px;\n",
              "    }\n",
              "\n",
              "    .colab-df-convert {\n",
              "      background-color: #E8F0FE;\n",
              "      border: none;\n",
              "      border-radius: 50%;\n",
              "      cursor: pointer;\n",
              "      display: none;\n",
              "      fill: #1967D2;\n",
              "      height: 32px;\n",
              "      padding: 0 0 0 0;\n",
              "      width: 32px;\n",
              "    }\n",
              "\n",
              "    .colab-df-convert:hover {\n",
              "      background-color: #E2EBFA;\n",
              "      box-shadow: 0px 1px 2px rgba(60, 64, 67, 0.3), 0px 1px 3px 1px rgba(60, 64, 67, 0.15);\n",
              "      fill: #174EA6;\n",
              "    }\n",
              "\n",
              "    [theme=dark] .colab-df-convert {\n",
              "      background-color: #3B4455;\n",
              "      fill: #D2E3FC;\n",
              "    }\n",
              "\n",
              "    [theme=dark] .colab-df-convert:hover {\n",
              "      background-color: #434B5C;\n",
              "      box-shadow: 0px 1px 3px 1px rgba(0, 0, 0, 0.15);\n",
              "      filter: drop-shadow(0px 1px 2px rgba(0, 0, 0, 0.3));\n",
              "      fill: #FFFFFF;\n",
              "    }\n",
              "  </style>\n",
              "\n",
              "      <script>\n",
              "        const buttonEl =\n",
              "          document.querySelector('#df-dbecc936-8619-4f3c-9af9-36cf82de59a4 button.colab-df-convert');\n",
              "        buttonEl.style.display =\n",
              "          google.colab.kernel.accessAllowed ? 'block' : 'none';\n",
              "\n",
              "        async function convertToInteractive(key) {\n",
              "          const element = document.querySelector('#df-dbecc936-8619-4f3c-9af9-36cf82de59a4');\n",
              "          const dataTable =\n",
              "            await google.colab.kernel.invokeFunction('convertToInteractive',\n",
              "                                                     [key], {});\n",
              "          if (!dataTable) return;\n",
              "\n",
              "          const docLinkHtml = 'Like what you see? Visit the ' +\n",
              "            '<a target=\"_blank\" href=https://colab.research.google.com/notebooks/data_table.ipynb>data table notebook</a>'\n",
              "            + ' to learn more about interactive tables.';\n",
              "          element.innerHTML = '';\n",
              "          dataTable['output_type'] = 'display_data';\n",
              "          await google.colab.output.renderOutput(dataTable, element);\n",
              "          const docLink = document.createElement('div');\n",
              "          docLink.innerHTML = docLinkHtml;\n",
              "          element.appendChild(docLink);\n",
              "        }\n",
              "      </script>\n",
              "    </div>\n",
              "  </div>\n",
              "  "
            ]
          },
          "metadata": {},
          "execution_count": 6
        }
      ]
    },
    {
      "cell_type": "markdown",
      "source": [
        "### Creating a dictionary for tweet Data\n"
      ],
      "metadata": {
        "id": "XnJgtUaN7PJ2"
      }
    },
    {
      "cell_type": "code",
      "source": [
        "twcs_dict = {}\n",
        "for i in range(len(twcs)):\n",
        "    twcs_dict[twcs.iloc[i]['tweet_id']] = [twcs.iloc[i]['author_id'], twcs.iloc[i]['text']]    "
      ],
      "metadata": {
        "id": "-GkT3CGkpK7H"
      },
      "execution_count": null,
      "outputs": []
    },
    {
      "cell_type": "markdown",
      "source": [
        "### Store the twcs dictionary variable (Optional)\n",
        "Store twcs_dict variable if you need since it takes a long time to rerun the code."
      ],
      "metadata": {
        "id": "-amp9jho7tuz"
      }
    },
    {
      "cell_type": "code",
      "source": [
        "# Store the dictionary variable \n",
        "f_twcs_dict = open('twcs_dict.pckl', 'wb')\n",
        "pickle.dump(twcs_dict, f_twcs_dict)\n",
        "f_twcs_dict.close()"
      ],
      "metadata": {
        "id": "k_30HbIhwz4h"
      },
      "execution_count": null,
      "outputs": []
    },
    {
      "cell_type": "code",
      "source": [
        "# Get twcs_dict data from the following link if you need it \n",
        "# https://drive.google.com/file/d/1uX5vS3n5eICIZjvJLSusue8Euw7JuXSM/view?usp=share_link\n",
        "# f_twcs_dict = open(curr_path + '/drive/MyDrive/twcs_dict.pckl', 'rb')\n",
        "# twcs_dict = pickle.load(f_twcs_dict)"
      ],
      "metadata": {
        "id": "-XhqJEmnyVFC"
      },
      "execution_count": 6,
      "outputs": []
    },
    {
      "cell_type": "markdown",
      "source": [
        "## Get dialogs with summaries"
      ],
      "metadata": {
        "id": "KLXTyG6uzPQx"
      }
    },
    {
      "cell_type": "code",
      "source": [
        "def get_dialog_with_summaries(TWEETSUM_JSON_FILE_PATH):\n",
        "  with open(TWEETSUM_JSON_FILE_PATH, 'r') as json_file:\n",
        "    test_data = [json.loads(line) for line in json_file]\n",
        "\n",
        "  parsed = []\n",
        "\n",
        "  for t in test_data:    \n",
        "      anno = t['annotations']    \n",
        "      for a in anno:      \n",
        "          abst = a['abstractive']\n",
        "          tweets = a['extractive']\n",
        "          if tweets is not None:\n",
        "              dialog = []\n",
        "              for t in tweets:                    \n",
        "                  dialog.append(twcs_dict[t['tweet_id']][0] + \": \" + twcs_dict[t['tweet_id']][1] + \"\\n\")        \n",
        "              parsed.append([\"\".join(dialog), \" \".join(abst)])\n",
        "\n",
        "  return parsed\n",
        "\n",
        "# TWEETSUM_JSON_FILE_PATH = curr_path + \"/final_train_tweetsum.jsonl\"\n",
        "# TWEETSUM_JSON_FILE_PATH = curr_path + \"/final_valid_tweetsum.jsonl\"\n",
        "TWEETSUM_JSON_FILE_PATH = curr_path + \"/final_test_tweetsum.jsonl\"\n",
        "\n",
        "TEST_DATA_parsed = get_dialog_with_summaries(TWEETSUM_JSON_FILE_PATH)"
      ],
      "metadata": {
        "id": "y0PEsLvEorJn"
      },
      "execution_count": 8,
      "outputs": []
    },
    {
      "cell_type": "code",
      "source": [
        "test_parsed = pd.DataFrame(TEST_DATA_parsed, columns=['dialog', 'summary'])"
      ],
      "metadata": {
        "id": "QtF6q38P0GlR"
      },
      "execution_count": 9,
      "outputs": []
    },
    {
      "cell_type": "code",
      "source": [
        "test_parsed.head(3)"
      ],
      "metadata": {
        "colab": {
          "base_uri": "https://localhost:8080/",
          "height": 143
        },
        "id": "qsxlwCrS0JQ3",
        "outputId": "17fbd3f1-d1c0-4574-fdf2-685e39253b04"
      },
      "execution_count": 10,
      "outputs": [
        {
          "output_type": "execute_result",
          "data": {
            "text/plain": [
              "                                              dialog  \\\n",
              "0  658975: @hulu_support My watchlist is not upda...   \n",
              "1  658975: @hulu_support My watchlist is not upda...   \n",
              "2  658975: @hulu_support My watchlist is not upda...   \n",
              "\n",
              "                                             summary  \n",
              "0  Customer is complaining that the watchlist is ...  \n",
              "1  Customer is complaining that my watch list is ...  \n",
              "2  Customer is complaining that he is not getting...  "
            ],
            "text/html": [
              "\n",
              "  <div id=\"df-dfd26cdc-e8d9-4004-a42f-13b671825cc0\">\n",
              "    <div class=\"colab-df-container\">\n",
              "      <div>\n",
              "<style scoped>\n",
              "    .dataframe tbody tr th:only-of-type {\n",
              "        vertical-align: middle;\n",
              "    }\n",
              "\n",
              "    .dataframe tbody tr th {\n",
              "        vertical-align: top;\n",
              "    }\n",
              "\n",
              "    .dataframe thead th {\n",
              "        text-align: right;\n",
              "    }\n",
              "</style>\n",
              "<table border=\"1\" class=\"dataframe\">\n",
              "  <thead>\n",
              "    <tr style=\"text-align: right;\">\n",
              "      <th></th>\n",
              "      <th>dialog</th>\n",
              "      <th>summary</th>\n",
              "    </tr>\n",
              "  </thead>\n",
              "  <tbody>\n",
              "    <tr>\n",
              "      <th>0</th>\n",
              "      <td>658975: @hulu_support My watchlist is not upda...</td>\n",
              "      <td>Customer is complaining that the watchlist is ...</td>\n",
              "    </tr>\n",
              "    <tr>\n",
              "      <th>1</th>\n",
              "      <td>658975: @hulu_support My watchlist is not upda...</td>\n",
              "      <td>Customer is complaining that my watch list is ...</td>\n",
              "    </tr>\n",
              "    <tr>\n",
              "      <th>2</th>\n",
              "      <td>658975: @hulu_support My watchlist is not upda...</td>\n",
              "      <td>Customer is complaining that he is not getting...</td>\n",
              "    </tr>\n",
              "  </tbody>\n",
              "</table>\n",
              "</div>\n",
              "      <button class=\"colab-df-convert\" onclick=\"convertToInteractive('df-dfd26cdc-e8d9-4004-a42f-13b671825cc0')\"\n",
              "              title=\"Convert this dataframe to an interactive table.\"\n",
              "              style=\"display:none;\">\n",
              "        \n",
              "  <svg xmlns=\"http://www.w3.org/2000/svg\" height=\"24px\"viewBox=\"0 0 24 24\"\n",
              "       width=\"24px\">\n",
              "    <path d=\"M0 0h24v24H0V0z\" fill=\"none\"/>\n",
              "    <path d=\"M18.56 5.44l.94 2.06.94-2.06 2.06-.94-2.06-.94-.94-2.06-.94 2.06-2.06.94zm-11 1L8.5 8.5l.94-2.06 2.06-.94-2.06-.94L8.5 2.5l-.94 2.06-2.06.94zm10 10l.94 2.06.94-2.06 2.06-.94-2.06-.94-.94-2.06-.94 2.06-2.06.94z\"/><path d=\"M17.41 7.96l-1.37-1.37c-.4-.4-.92-.59-1.43-.59-.52 0-1.04.2-1.43.59L10.3 9.45l-7.72 7.72c-.78.78-.78 2.05 0 2.83L4 21.41c.39.39.9.59 1.41.59.51 0 1.02-.2 1.41-.59l7.78-7.78 2.81-2.81c.8-.78.8-2.07 0-2.86zM5.41 20L4 18.59l7.72-7.72 1.47 1.35L5.41 20z\"/>\n",
              "  </svg>\n",
              "      </button>\n",
              "      \n",
              "  <style>\n",
              "    .colab-df-container {\n",
              "      display:flex;\n",
              "      flex-wrap:wrap;\n",
              "      gap: 12px;\n",
              "    }\n",
              "\n",
              "    .colab-df-convert {\n",
              "      background-color: #E8F0FE;\n",
              "      border: none;\n",
              "      border-radius: 50%;\n",
              "      cursor: pointer;\n",
              "      display: none;\n",
              "      fill: #1967D2;\n",
              "      height: 32px;\n",
              "      padding: 0 0 0 0;\n",
              "      width: 32px;\n",
              "    }\n",
              "\n",
              "    .colab-df-convert:hover {\n",
              "      background-color: #E2EBFA;\n",
              "      box-shadow: 0px 1px 2px rgba(60, 64, 67, 0.3), 0px 1px 3px 1px rgba(60, 64, 67, 0.15);\n",
              "      fill: #174EA6;\n",
              "    }\n",
              "\n",
              "    [theme=dark] .colab-df-convert {\n",
              "      background-color: #3B4455;\n",
              "      fill: #D2E3FC;\n",
              "    }\n",
              "\n",
              "    [theme=dark] .colab-df-convert:hover {\n",
              "      background-color: #434B5C;\n",
              "      box-shadow: 0px 1px 3px 1px rgba(0, 0, 0, 0.15);\n",
              "      filter: drop-shadow(0px 1px 2px rgba(0, 0, 0, 0.3));\n",
              "      fill: #FFFFFF;\n",
              "    }\n",
              "  </style>\n",
              "\n",
              "      <script>\n",
              "        const buttonEl =\n",
              "          document.querySelector('#df-dfd26cdc-e8d9-4004-a42f-13b671825cc0 button.colab-df-convert');\n",
              "        buttonEl.style.display =\n",
              "          google.colab.kernel.accessAllowed ? 'block' : 'none';\n",
              "\n",
              "        async function convertToInteractive(key) {\n",
              "          const element = document.querySelector('#df-dfd26cdc-e8d9-4004-a42f-13b671825cc0');\n",
              "          const dataTable =\n",
              "            await google.colab.kernel.invokeFunction('convertToInteractive',\n",
              "                                                     [key], {});\n",
              "          if (!dataTable) return;\n",
              "\n",
              "          const docLinkHtml = 'Like what you see? Visit the ' +\n",
              "            '<a target=\"_blank\" href=https://colab.research.google.com/notebooks/data_table.ipynb>data table notebook</a>'\n",
              "            + ' to learn more about interactive tables.';\n",
              "          element.innerHTML = '';\n",
              "          dataTable['output_type'] = 'display_data';\n",
              "          await google.colab.output.renderOutput(dataTable, element);\n",
              "          const docLink = document.createElement('div');\n",
              "          docLink.innerHTML = docLinkHtml;\n",
              "          element.appendChild(docLink);\n",
              "        }\n",
              "      </script>\n",
              "    </div>\n",
              "  </div>\n",
              "  "
            ]
          },
          "metadata": {},
          "execution_count": 10
        }
      ]
    },
    {
      "cell_type": "code",
      "source": [
        "test_parsed.to_csv('./twcs_test.csv')"
      ],
      "metadata": {
        "id": "vGmT3JdB0MTs"
      },
      "execution_count": null,
      "outputs": []
    },
    {
      "cell_type": "markdown",
      "source": [
        "### Creating a summarization with bart-large-samsum"
      ],
      "metadata": {
        "id": "v7UVj0CQ-b3E"
      }
    },
    {
      "cell_type": "code",
      "source": [
        "def run_summarizer(input, model_name):\n",
        "    output_list = []\n",
        "    \n",
        "    summarizer = pipeline(\"summarization\", model=model_name)\n",
        "\n",
        "    for i in range(len(input)):\n",
        "        output_list.append(summarizer(input[i]))\n",
        "    \n",
        "    return output_list"
      ],
      "metadata": {
        "id": "J0jTNLqZ0SGP"
      },
      "execution_count": 11,
      "outputs": []
    },
    {
      "cell_type": "code",
      "source": [
        "model_name=\"linydub/bart-large-samsum\"\n",
        "test_result = run_summarizer(test_parsed['dialog'].tolist(), model_name)\n",
        "\n",
        "test_parsed['predicted'] = test_result\n",
        "\n",
        "test_parsed.to_csv('./twcs_test_predicted.csv')"
      ],
      "metadata": {
        "colab": {
          "base_uri": "https://localhost:8080/"
        },
        "id": "b0bvfZ2Y0V5A",
        "outputId": "74a7d1b2-e14e-49a4-b318-ae549d7c22e1"
      },
      "execution_count": null,
      "outputs": [
        {
          "output_type": "stream",
          "name": "stderr",
          "text": [
            "Your max_length is set to 62, but you input_length is only 60. You might consider decreasing max_length manually, e.g. summarizer('...', max_length=30)\n",
            "Your max_length is set to 62, but you input_length is only 40. You might consider decreasing max_length manually, e.g. summarizer('...', max_length=20)\n",
            "Your max_length is set to 62, but you input_length is only 49. You might consider decreasing max_length manually, e.g. summarizer('...', max_length=24)\n",
            "Your max_length is set to 62, but you input_length is only 56. You might consider decreasing max_length manually, e.g. summarizer('...', max_length=28)\n",
            "Your max_length is set to 62, but you input_length is only 60. You might consider decreasing max_length manually, e.g. summarizer('...', max_length=30)\n"
          ]
        }
      ]
    },
    {
      "cell_type": "code",
      "source": [
        "# Store the test_result variable\n",
        "test_result_obj = open('test_parsed.pckl', 'wb')\n",
        "pickle.dump(test_result, test_result_obj)\n",
        "f_twcs_dict.close()"
      ],
      "metadata": {
        "id": "CqCDo44-9L6_"
      },
      "execution_count": null,
      "outputs": []
    },
    {
      "cell_type": "code",
      "source": [
        "# test_result_obj = open(curr_path + '/drive/MyDrive/test_parsed.pckl', 'rb')\n",
        "# test_result_copy = pickle.load(test_result_obj)\n",
        "# test_parsed['predicted'] = test_result_copy"
      ],
      "metadata": {
        "id": "Xw4Ni628yI_n"
      },
      "execution_count": null,
      "outputs": []
    },
    {
      "cell_type": "markdown",
      "source": [
        "### Showing the Predicted result"
      ],
      "metadata": {
        "id": "RltHABUVNgpS"
      }
    },
    {
      "cell_type": "code",
      "source": [
        "test_parsed.head(5)"
      ],
      "metadata": {
        "colab": {
          "base_uri": "https://localhost:8080/",
          "height": 337
        },
        "id": "E2x08oNSB9-p",
        "outputId": "4f724f2f-0b1f-482a-bb89-df1228082ea1"
      },
      "execution_count": null,
      "outputs": [
        {
          "output_type": "execute_result",
          "data": {
            "text/plain": [
              "                                              dialog  \\\n",
              "0  658975: @hulu_support My watchlist is not upda...   \n",
              "1  658975: @hulu_support My watchlist is not upda...   \n",
              "2  658975: @hulu_support My watchlist is not upda...   \n",
              "3  637109: @AirbnbHelp hi , my Acc was linked to ...   \n",
              "4  637109: @AirbnbHelp hi , my Acc was linked to ...   \n",
              "\n",
              "                                             summary  \\\n",
              "0  Customer is complaining that the watchlist is ...   \n",
              "1  Customer is complaining that my watch list is ...   \n",
              "2  Customer is complaining that he is not getting...   \n",
              "3  Customer is asking about the ACC to link to th...   \n",
              "4  Customer is enquiring that whether they can ch...   \n",
              "\n",
              "                                           predicted  \n",
              "0  [{'summary_text': 'Norlene's watchlist is not ...  \n",
              "1  [{'summary_text': 'Hulu's watchlist is not upd...  \n",
              "2  [{'summary_text': 'Norlene's Hulu watchlist is...  \n",
              "3  [{'summary_text': '637109's Acc was linked to ...  \n",
              "4  [{'summary_text': 'Airbnb help asks 637109 to ...  "
            ],
            "text/html": [
              "\n",
              "  <div id=\"df-ff50a832-6895-4a91-bf24-bfd60828f21c\">\n",
              "    <div class=\"colab-df-container\">\n",
              "      <div>\n",
              "<style scoped>\n",
              "    .dataframe tbody tr th:only-of-type {\n",
              "        vertical-align: middle;\n",
              "    }\n",
              "\n",
              "    .dataframe tbody tr th {\n",
              "        vertical-align: top;\n",
              "    }\n",
              "\n",
              "    .dataframe thead th {\n",
              "        text-align: right;\n",
              "    }\n",
              "</style>\n",
              "<table border=\"1\" class=\"dataframe\">\n",
              "  <thead>\n",
              "    <tr style=\"text-align: right;\">\n",
              "      <th></th>\n",
              "      <th>dialog</th>\n",
              "      <th>summary</th>\n",
              "      <th>predicted</th>\n",
              "    </tr>\n",
              "  </thead>\n",
              "  <tbody>\n",
              "    <tr>\n",
              "      <th>0</th>\n",
              "      <td>658975: @hulu_support My watchlist is not upda...</td>\n",
              "      <td>Customer is complaining that the watchlist is ...</td>\n",
              "      <td>[{'summary_text': 'Norlene's watchlist is not ...</td>\n",
              "    </tr>\n",
              "    <tr>\n",
              "      <th>1</th>\n",
              "      <td>658975: @hulu_support My watchlist is not upda...</td>\n",
              "      <td>Customer is complaining that my watch list is ...</td>\n",
              "      <td>[{'summary_text': 'Hulu's watchlist is not upd...</td>\n",
              "    </tr>\n",
              "    <tr>\n",
              "      <th>2</th>\n",
              "      <td>658975: @hulu_support My watchlist is not upda...</td>\n",
              "      <td>Customer is complaining that he is not getting...</td>\n",
              "      <td>[{'summary_text': 'Norlene's Hulu watchlist is...</td>\n",
              "    </tr>\n",
              "    <tr>\n",
              "      <th>3</th>\n",
              "      <td>637109: @AirbnbHelp hi , my Acc was linked to ...</td>\n",
              "      <td>Customer is asking about the ACC to link to th...</td>\n",
              "      <td>[{'summary_text': '637109's Acc was linked to ...</td>\n",
              "    </tr>\n",
              "    <tr>\n",
              "      <th>4</th>\n",
              "      <td>637109: @AirbnbHelp hi , my Acc was linked to ...</td>\n",
              "      <td>Customer is enquiring that whether they can ch...</td>\n",
              "      <td>[{'summary_text': 'Airbnb help asks 637109 to ...</td>\n",
              "    </tr>\n",
              "  </tbody>\n",
              "</table>\n",
              "</div>\n",
              "      <button class=\"colab-df-convert\" onclick=\"convertToInteractive('df-ff50a832-6895-4a91-bf24-bfd60828f21c')\"\n",
              "              title=\"Convert this dataframe to an interactive table.\"\n",
              "              style=\"display:none;\">\n",
              "        \n",
              "  <svg xmlns=\"http://www.w3.org/2000/svg\" height=\"24px\"viewBox=\"0 0 24 24\"\n",
              "       width=\"24px\">\n",
              "    <path d=\"M0 0h24v24H0V0z\" fill=\"none\"/>\n",
              "    <path d=\"M18.56 5.44l.94 2.06.94-2.06 2.06-.94-2.06-.94-.94-2.06-.94 2.06-2.06.94zm-11 1L8.5 8.5l.94-2.06 2.06-.94-2.06-.94L8.5 2.5l-.94 2.06-2.06.94zm10 10l.94 2.06.94-2.06 2.06-.94-2.06-.94-.94-2.06-.94 2.06-2.06.94z\"/><path d=\"M17.41 7.96l-1.37-1.37c-.4-.4-.92-.59-1.43-.59-.52 0-1.04.2-1.43.59L10.3 9.45l-7.72 7.72c-.78.78-.78 2.05 0 2.83L4 21.41c.39.39.9.59 1.41.59.51 0 1.02-.2 1.41-.59l7.78-7.78 2.81-2.81c.8-.78.8-2.07 0-2.86zM5.41 20L4 18.59l7.72-7.72 1.47 1.35L5.41 20z\"/>\n",
              "  </svg>\n",
              "      </button>\n",
              "      \n",
              "  <style>\n",
              "    .colab-df-container {\n",
              "      display:flex;\n",
              "      flex-wrap:wrap;\n",
              "      gap: 12px;\n",
              "    }\n",
              "\n",
              "    .colab-df-convert {\n",
              "      background-color: #E8F0FE;\n",
              "      border: none;\n",
              "      border-radius: 50%;\n",
              "      cursor: pointer;\n",
              "      display: none;\n",
              "      fill: #1967D2;\n",
              "      height: 32px;\n",
              "      padding: 0 0 0 0;\n",
              "      width: 32px;\n",
              "    }\n",
              "\n",
              "    .colab-df-convert:hover {\n",
              "      background-color: #E2EBFA;\n",
              "      box-shadow: 0px 1px 2px rgba(60, 64, 67, 0.3), 0px 1px 3px 1px rgba(60, 64, 67, 0.15);\n",
              "      fill: #174EA6;\n",
              "    }\n",
              "\n",
              "    [theme=dark] .colab-df-convert {\n",
              "      background-color: #3B4455;\n",
              "      fill: #D2E3FC;\n",
              "    }\n",
              "\n",
              "    [theme=dark] .colab-df-convert:hover {\n",
              "      background-color: #434B5C;\n",
              "      box-shadow: 0px 1px 3px 1px rgba(0, 0, 0, 0.15);\n",
              "      filter: drop-shadow(0px 1px 2px rgba(0, 0, 0, 0.3));\n",
              "      fill: #FFFFFF;\n",
              "    }\n",
              "  </style>\n",
              "\n",
              "      <script>\n",
              "        const buttonEl =\n",
              "          document.querySelector('#df-ff50a832-6895-4a91-bf24-bfd60828f21c button.colab-df-convert');\n",
              "        buttonEl.style.display =\n",
              "          google.colab.kernel.accessAllowed ? 'block' : 'none';\n",
              "\n",
              "        async function convertToInteractive(key) {\n",
              "          const element = document.querySelector('#df-ff50a832-6895-4a91-bf24-bfd60828f21c');\n",
              "          const dataTable =\n",
              "            await google.colab.kernel.invokeFunction('convertToInteractive',\n",
              "                                                     [key], {});\n",
              "          if (!dataTable) return;\n",
              "\n",
              "          const docLinkHtml = 'Like what you see? Visit the ' +\n",
              "            '<a target=\"_blank\" href=https://colab.research.google.com/notebooks/data_table.ipynb>data table notebook</a>'\n",
              "            + ' to learn more about interactive tables.';\n",
              "          element.innerHTML = '';\n",
              "          dataTable['output_type'] = 'display_data';\n",
              "          await google.colab.output.renderOutput(dataTable, element);\n",
              "          const docLink = document.createElement('div');\n",
              "          docLink.innerHTML = docLinkHtml;\n",
              "          element.appendChild(docLink);\n",
              "        }\n",
              "      </script>\n",
              "    </div>\n",
              "  </div>\n",
              "  "
            ]
          },
          "metadata": {},
          "execution_count": 56
        }
      ]
    },
    {
      "cell_type": "markdown",
      "source": [
        "### Compare Two Summarizations with Cosine Similarity\n"
      ],
      "metadata": {
        "id": "Y0vD3eGyPwdU"
      }
    },
    {
      "cell_type": "code",
      "source": [
        "# Reference https://www.geeksforgeeks.org/python-measure-similarity-between-two-sentences-using-cosine-similarity/\n",
        "def generation_cosine_similarity(X, Y):  \n",
        "  # tokenization\n",
        "  X_list = word_tokenize(X) \n",
        "  Y_list = word_tokenize(Y)\n",
        "    \n",
        "  # sw contains the list of stopwords\n",
        "  sw = stopwords.words('english') \n",
        "  l1 =[];l2 =[]\n",
        "    \n",
        "  # remove stop words from the string\n",
        "  X_set = {w for w in X_list if not w in sw} \n",
        "  Y_set = {w for w in Y_list if not w in sw}\n",
        "    \n",
        "  # form a set containing keywords of both strings \n",
        "  rvector = X_set.union(Y_set) \n",
        "  for w in rvector:\n",
        "      if w in X_set: l1.append(1) # create a vector\n",
        "      else: l1.append(0)\n",
        "      if w in Y_set: l2.append(1)\n",
        "      else: l2.append(0)\n",
        "  c = 0\n",
        "    \n",
        "  # cosine formula \n",
        "  for i in range(len(rvector)):\n",
        "          c+= l1[i]*l2[i]\n",
        "  cosine = c / float((sum(l1)*sum(l2))**0.5)\n",
        "  return cosine\n",
        "consine_similarity_scores = []\n",
        "\n",
        "for i in range(len(test_parsed)):\n",
        "  X = test_parsed['summary'][i]\n",
        "  Y = test_parsed['predicted'][i][0]['summary_text']\n",
        "  cosine_sim = generation_cosine_similarity(X,Y)\n",
        "  consine_similarity_scores.append(cosine_sim)\n"
      ],
      "metadata": {
        "id": "8nFtvxSWQh4K"
      },
      "execution_count": null,
      "outputs": []
    },
    {
      "cell_type": "code",
      "source": [
        "test_parsed['cosine_similarities'] = consine_similarity_scores"
      ],
      "metadata": {
        "id": "AhnZsWGOQMq_"
      },
      "execution_count": null,
      "outputs": []
    },
    {
      "cell_type": "code",
      "source": [
        "test_parsed.head(5)"
      ],
      "metadata": {
        "colab": {
          "base_uri": "https://localhost:8080/",
          "height": 337
        },
        "id": "vZtWJ-7aRMvW",
        "outputId": "fae461ac-c8df-46ca-af04-0b7b23d7b320"
      },
      "execution_count": null,
      "outputs": [
        {
          "output_type": "execute_result",
          "data": {
            "text/plain": [
              "                                              dialog  \\\n",
              "0  658975: @hulu_support My watchlist is not upda...   \n",
              "1  658975: @hulu_support My watchlist is not upda...   \n",
              "2  658975: @hulu_support My watchlist is not upda...   \n",
              "3  637109: @AirbnbHelp hi , my Acc was linked to ...   \n",
              "4  637109: @AirbnbHelp hi , my Acc was linked to ...   \n",
              "\n",
              "                                             summary  \\\n",
              "0  Customer is complaining that the watchlist is ...   \n",
              "1  Customer is complaining that my watch list is ...   \n",
              "2  Customer is complaining that he is not getting...   \n",
              "3  Customer is asking about the ACC to link to th...   \n",
              "4  Customer is enquiring that whether they can ch...   \n",
              "\n",
              "                                           predicted  cosine_similarities  \n",
              "0  [{'summary_text': 'Norlene's watchlist is not ...             0.372678  \n",
              "1  [{'summary_text': 'Hulu's watchlist is not upd...             0.416025  \n",
              "2  [{'summary_text': 'Norlene's Hulu watchlist is...             0.282843  \n",
              "3  [{'summary_text': '637109's Acc was linked to ...             0.246183  \n",
              "4  [{'summary_text': 'Airbnb help asks 637109 to ...             0.072739  "
            ],
            "text/html": [
              "\n",
              "  <div id=\"df-ab305537-03d9-4b67-8da8-13bcb48ad4e3\">\n",
              "    <div class=\"colab-df-container\">\n",
              "      <div>\n",
              "<style scoped>\n",
              "    .dataframe tbody tr th:only-of-type {\n",
              "        vertical-align: middle;\n",
              "    }\n",
              "\n",
              "    .dataframe tbody tr th {\n",
              "        vertical-align: top;\n",
              "    }\n",
              "\n",
              "    .dataframe thead th {\n",
              "        text-align: right;\n",
              "    }\n",
              "</style>\n",
              "<table border=\"1\" class=\"dataframe\">\n",
              "  <thead>\n",
              "    <tr style=\"text-align: right;\">\n",
              "      <th></th>\n",
              "      <th>dialog</th>\n",
              "      <th>summary</th>\n",
              "      <th>predicted</th>\n",
              "      <th>cosine_similarities</th>\n",
              "    </tr>\n",
              "  </thead>\n",
              "  <tbody>\n",
              "    <tr>\n",
              "      <th>0</th>\n",
              "      <td>658975: @hulu_support My watchlist is not upda...</td>\n",
              "      <td>Customer is complaining that the watchlist is ...</td>\n",
              "      <td>[{'summary_text': 'Norlene's watchlist is not ...</td>\n",
              "      <td>0.372678</td>\n",
              "    </tr>\n",
              "    <tr>\n",
              "      <th>1</th>\n",
              "      <td>658975: @hulu_support My watchlist is not upda...</td>\n",
              "      <td>Customer is complaining that my watch list is ...</td>\n",
              "      <td>[{'summary_text': 'Hulu's watchlist is not upd...</td>\n",
              "      <td>0.416025</td>\n",
              "    </tr>\n",
              "    <tr>\n",
              "      <th>2</th>\n",
              "      <td>658975: @hulu_support My watchlist is not upda...</td>\n",
              "      <td>Customer is complaining that he is not getting...</td>\n",
              "      <td>[{'summary_text': 'Norlene's Hulu watchlist is...</td>\n",
              "      <td>0.282843</td>\n",
              "    </tr>\n",
              "    <tr>\n",
              "      <th>3</th>\n",
              "      <td>637109: @AirbnbHelp hi , my Acc was linked to ...</td>\n",
              "      <td>Customer is asking about the ACC to link to th...</td>\n",
              "      <td>[{'summary_text': '637109's Acc was linked to ...</td>\n",
              "      <td>0.246183</td>\n",
              "    </tr>\n",
              "    <tr>\n",
              "      <th>4</th>\n",
              "      <td>637109: @AirbnbHelp hi , my Acc was linked to ...</td>\n",
              "      <td>Customer is enquiring that whether they can ch...</td>\n",
              "      <td>[{'summary_text': 'Airbnb help asks 637109 to ...</td>\n",
              "      <td>0.072739</td>\n",
              "    </tr>\n",
              "  </tbody>\n",
              "</table>\n",
              "</div>\n",
              "      <button class=\"colab-df-convert\" onclick=\"convertToInteractive('df-ab305537-03d9-4b67-8da8-13bcb48ad4e3')\"\n",
              "              title=\"Convert this dataframe to an interactive table.\"\n",
              "              style=\"display:none;\">\n",
              "        \n",
              "  <svg xmlns=\"http://www.w3.org/2000/svg\" height=\"24px\"viewBox=\"0 0 24 24\"\n",
              "       width=\"24px\">\n",
              "    <path d=\"M0 0h24v24H0V0z\" fill=\"none\"/>\n",
              "    <path d=\"M18.56 5.44l.94 2.06.94-2.06 2.06-.94-2.06-.94-.94-2.06-.94 2.06-2.06.94zm-11 1L8.5 8.5l.94-2.06 2.06-.94-2.06-.94L8.5 2.5l-.94 2.06-2.06.94zm10 10l.94 2.06.94-2.06 2.06-.94-2.06-.94-.94-2.06-.94 2.06-2.06.94z\"/><path d=\"M17.41 7.96l-1.37-1.37c-.4-.4-.92-.59-1.43-.59-.52 0-1.04.2-1.43.59L10.3 9.45l-7.72 7.72c-.78.78-.78 2.05 0 2.83L4 21.41c.39.39.9.59 1.41.59.51 0 1.02-.2 1.41-.59l7.78-7.78 2.81-2.81c.8-.78.8-2.07 0-2.86zM5.41 20L4 18.59l7.72-7.72 1.47 1.35L5.41 20z\"/>\n",
              "  </svg>\n",
              "      </button>\n",
              "      \n",
              "  <style>\n",
              "    .colab-df-container {\n",
              "      display:flex;\n",
              "      flex-wrap:wrap;\n",
              "      gap: 12px;\n",
              "    }\n",
              "\n",
              "    .colab-df-convert {\n",
              "      background-color: #E8F0FE;\n",
              "      border: none;\n",
              "      border-radius: 50%;\n",
              "      cursor: pointer;\n",
              "      display: none;\n",
              "      fill: #1967D2;\n",
              "      height: 32px;\n",
              "      padding: 0 0 0 0;\n",
              "      width: 32px;\n",
              "    }\n",
              "\n",
              "    .colab-df-convert:hover {\n",
              "      background-color: #E2EBFA;\n",
              "      box-shadow: 0px 1px 2px rgba(60, 64, 67, 0.3), 0px 1px 3px 1px rgba(60, 64, 67, 0.15);\n",
              "      fill: #174EA6;\n",
              "    }\n",
              "\n",
              "    [theme=dark] .colab-df-convert {\n",
              "      background-color: #3B4455;\n",
              "      fill: #D2E3FC;\n",
              "    }\n",
              "\n",
              "    [theme=dark] .colab-df-convert:hover {\n",
              "      background-color: #434B5C;\n",
              "      box-shadow: 0px 1px 3px 1px rgba(0, 0, 0, 0.15);\n",
              "      filter: drop-shadow(0px 1px 2px rgba(0, 0, 0, 0.3));\n",
              "      fill: #FFFFFF;\n",
              "    }\n",
              "  </style>\n",
              "\n",
              "      <script>\n",
              "        const buttonEl =\n",
              "          document.querySelector('#df-ab305537-03d9-4b67-8da8-13bcb48ad4e3 button.colab-df-convert');\n",
              "        buttonEl.style.display =\n",
              "          google.colab.kernel.accessAllowed ? 'block' : 'none';\n",
              "\n",
              "        async function convertToInteractive(key) {\n",
              "          const element = document.querySelector('#df-ab305537-03d9-4b67-8da8-13bcb48ad4e3');\n",
              "          const dataTable =\n",
              "            await google.colab.kernel.invokeFunction('convertToInteractive',\n",
              "                                                     [key], {});\n",
              "          if (!dataTable) return;\n",
              "\n",
              "          const docLinkHtml = 'Like what you see? Visit the ' +\n",
              "            '<a target=\"_blank\" href=https://colab.research.google.com/notebooks/data_table.ipynb>data table notebook</a>'\n",
              "            + ' to learn more about interactive tables.';\n",
              "          element.innerHTML = '';\n",
              "          dataTable['output_type'] = 'display_data';\n",
              "          await google.colab.output.renderOutput(dataTable, element);\n",
              "          const docLink = document.createElement('div');\n",
              "          docLink.innerHTML = docLinkHtml;\n",
              "          element.appendChild(docLink);\n",
              "        }\n",
              "      </script>\n",
              "    </div>\n",
              "  </div>\n",
              "  "
            ]
          },
          "metadata": {},
          "execution_count": 82
        }
      ]
    },
    {
      "cell_type": "code",
      "source": [
        "print(\"Max for cosine_similarities    : \", np.max(test_parsed['cosine_similarities']))\n",
        "print(\"Min for cosine_similarities    : \", np.min(test_parsed['cosine_similarities']))\n",
        "print(\"Mean for cosine_similarities   : \", np.mean(test_parsed['cosine_similarities']))\n",
        "print(\"Median for cosine_similarities : \", np.median(test_parsed['cosine_similarities']))"
      ],
      "metadata": {
        "colab": {
          "base_uri": "https://localhost:8080/"
        },
        "id": "q3cgL-oqTO1R",
        "outputId": "d2173265-5811-4116-96fc-a4ce1faeda11"
      },
      "execution_count": null,
      "outputs": [
        {
          "output_type": "stream",
          "name": "stdout",
          "text": [
            "Max for cosine_similarities    :  0.7735267838285931\n",
            "Min for cosine_similarities    :  0.051639777949432225\n",
            "Mean for cosine_similarities   :  0.29148590319586826\n",
            "Median for cosine_similarities :  0.27386127875258304\n"
          ]
        }
      ]
    },
    {
      "cell_type": "code",
      "source": [
        "sns.set(style=\"darkgrid\")\n",
        "plt.title(\"Cosine Similarities for two summarizations\")\n",
        "sns.boxplot(x=test_parsed[\"cosine_similarities\"])"
      ],
      "metadata": {
        "colab": {
          "base_uri": "https://localhost:8080/",
          "height": 319
        },
        "id": "55kNSL2gTbkv",
        "outputId": "611afb61-fb8e-47c3-df85-f368f02a7047"
      },
      "execution_count": null,
      "outputs": [
        {
          "output_type": "execute_result",
          "data": {
            "text/plain": [
              "<AxesSubplot:title={'center':'Cosine Similarities for two summarizations'}, xlabel='cosine_similarities'>"
            ]
          },
          "metadata": {},
          "execution_count": 96
        },
        {
          "output_type": "display_data",
          "data": {
            "text/plain": [
              "<Figure size 432x288 with 1 Axes>"
            ],
            "image/png": "[encoded data removed]"
          },
          "metadata": {}
        }
      ]
    },
    {
      "cell_type": "markdown",
      "source": [
        "## Compare Two summarizations with Rouge 1, 2"
      ],
      "metadata": {
        "id": "Uy1LkKU_ZS6v"
      }
    },
    {
      "cell_type": "markdown",
      "source": [
        "#### Calculate Rouge-1 and Rouge-2 by avg"
      ],
      "metadata": {
        "id": "8DRa9CR-Dd0b"
      }
    },
    {
      "cell_type": "code",
      "source": [
        "predicted_summaries = []\n",
        "for i in test_parsed['predicted']:\n",
        "  predicted_summaries.append(i[0]['summary_text'])\n",
        "\n",
        "summaries = list(test_parsed['summary'])\n",
        "\n",
        "rouge = Rouge()\n",
        "rouge.get_scores(predicted_summaries, summaries, avg=True)"
      ],
      "metadata": {
        "colab": {
          "base_uri": "https://localhost:8080/"
        },
        "id": "8zqX2kjPCDux",
        "outputId": "befdbf45-fff9-4325-fe97-e9bf97e89d62"
      },
      "execution_count": null,
      "outputs": [
        {
          "output_type": "execute_result",
          "data": {
            "text/plain": [
              "{'rouge-1': {'r': 0.24570896368189374,\n",
              "  'p': 0.35079820042920035,\n",
              "  'f': 0.2798223221854206},\n",
              " 'rouge-2': {'r': 0.0884557780530421,\n",
              "  'p': 0.14546800689778758,\n",
              "  'f': 0.10564611568567775},\n",
              " 'rouge-l': {'r': 0.22787529894316164,\n",
              "  'p': 0.3249177184493534,\n",
              "  'f': 0.2593398966192099}}"
            ]
          },
          "metadata": {},
          "execution_count": 57
        }
      ]
    },
    {
      "cell_type": "markdown",
      "source": [
        "### Draw boxplots for Rouge 1 and 2 "
      ],
      "metadata": {
        "id": "hQDvxaZNEUWl"
      }
    },
    {
      "cell_type": "code",
      "source": [
        "def generation_Rouge_Scores(X, Y):  \n",
        "  rouge = Rouge()\n",
        "  return rouge.get_scores(X, Y)"
      ],
      "metadata": {
        "id": "X4LCwjvDWR8H"
      },
      "execution_count": 19,
      "outputs": []
    },
    {
      "cell_type": "code",
      "source": [
        "def get_rouge1_rouge2_scores_for_bxplot(test_parsed):\n",
        "  Rouge_1_f1scores_list = []\n",
        "  Rouge_2_f1scores_list = []\n",
        "  Rouge_1_precision_list = []\n",
        "  Rouge_2_precision_list = []\n",
        "  Rouge_1_recall_list = []\n",
        "  Rouge_2_recall_list = []\n",
        "  for i in range(len(test_parsed)):\n",
        "    X = test_parsed['summary'][i]\n",
        "    Y = test_parsed['predicted'][i][0]['summary_text']  \n",
        "    get_rouge_scores = generation_Rouge_Scores(X,Y)\n",
        "    Rouge_1_f1scores = get_rouge_scores[0]['rouge-1']['f']\n",
        "    Rouge_2_f1scores = get_rouge_scores[0]['rouge-2']['f']\n",
        "\n",
        "    Rouge_1_f1scores_list.append(Rouge_1_f1scores)\n",
        "    Rouge_2_f1scores_list.append(Rouge_2_f1scores)\n",
        "\n",
        "    Rouge_1_precision = get_rouge_scores[0]['rouge-1']['p']\n",
        "    Rouge_2_precision = get_rouge_scores[0]['rouge-2']['p']\n",
        "\n",
        "    Rouge_1_precision_list.append(Rouge_1_precision)\n",
        "    Rouge_2_precision_list.append(Rouge_2_precision)\n",
        "\n",
        "    Rouge_1_recall = get_rouge_scores[0]['rouge-1']['r']\n",
        "    Rouge_2_recall = get_rouge_scores[0]['rouge-2']['r']\n",
        "\n",
        "    Rouge_1_recall_list.append(Rouge_1_recall)\n",
        "    Rouge_2_recall_list.append(Rouge_2_recall)\n",
        "  return Rouge_1_f1scores_list, Rouge_2_f1scores_list"
      ],
      "metadata": {
        "id": "UbGHr2z4Tys2"
      },
      "execution_count": 27,
      "outputs": []
    },
    {
      "cell_type": "code",
      "source": [
        "Rouge_1_f1scores_list = []\n",
        "Rouge_2_f1scores_list = []\n",
        "Rouge_1_f1scores_list, Rouge_2_f1scores_list = get_rouge1_rouge2_scores_for_bxplot(test_parsed)"
      ],
      "metadata": {
        "id": "Lppb6r2ZgZ9e"
      },
      "execution_count": null,
      "outputs": []
    },
    {
      "cell_type": "code",
      "source": [
        "test_parsed['Rouge_1_f1scores'] = Rouge_1_f1scores_list\n",
        "test_parsed['Rouge_2_f1scores'] = Rouge_2_f1scores_list"
      ],
      "metadata": {
        "id": "JC4TXtQxZEP5"
      },
      "execution_count": null,
      "outputs": []
    },
    {
      "cell_type": "code",
      "source": [
        "print(\"Max for Rouge_1 f1 scores    : \", np.max(test_parsed['Rouge_1_f1scores']))\n",
        "print(\"Min for Rouge_1 f1 scores    : \", np.min(test_parsed['Rouge_1_f1scores']))\n",
        "print(\"Mean for Rouge_1 f1 scores   : \", np.mean(test_parsed['Rouge_1_f1scores']))\n",
        "print(\"Median for Rouge_1 f1 scores : \", np.median(test_parsed['Rouge_1_f1scores']))"
      ],
      "metadata": {
        "colab": {
          "base_uri": "https://localhost:8080/"
        },
        "id": "Oh2TBPZ8Zefe",
        "outputId": "9c5ec28d-ced7-4d60-ede5-bfb13fe9d218"
      },
      "execution_count": null,
      "outputs": [
        {
          "output_type": "stream",
          "name": "stdout",
          "text": [
            "Max for Rouge_1 f1 scores    :  0.7692307642833663\n",
            "Min for Rouge_1 f1 scores    :  0.0\n",
            "Mean for Rouge_1 f1 scores   :  0.2798223221854205\n",
            "Median for Rouge_1 f1 scores :  0.272727267820248\n"
          ]
        }
      ]
    },
    {
      "cell_type": "code",
      "source": [
        "sns.set(style=\"darkgrid\")\n",
        "plt.title(\"Rouge 1 f1 scores for two summarizations\")\n",
        "sns.boxplot(x=test_parsed[\"Rouge_1_f1scores\"])"
      ],
      "metadata": {
        "colab": {
          "base_uri": "https://localhost:8080/",
          "height": 319
        },
        "id": "3KWhg0vrZrBr",
        "outputId": "1925bf51-2f52-404a-8d50-ffa043f10f41"
      },
      "execution_count": null,
      "outputs": [
        {
          "output_type": "execute_result",
          "data": {
            "text/plain": [
              "<matplotlib.axes._subplots.AxesSubplot at 0x7fc575b59b90>"
            ]
          },
          "metadata": {},
          "execution_count": 38
        },
        {
          "output_type": "display_data",
          "data": {
            "text/plain": [
              "<Figure size 432x288 with 1 Axes>"
            ],
            "image/png": "[encoded data removed]"
          },
          "metadata": {}
        }
      ]
    },
    {
      "cell_type": "code",
      "source": [
        "print(\"Max for Rouge_2 f1 scores    : \", np.max(test_parsed['Rouge_2_f1scores']))\n",
        "print(\"Min for Rouge_2 f1 scores    : \", np.min(test_parsed['Rouge_2_f1scores']))\n",
        "print(\"Mean for Rouge_2 f1 scores   : \", np.mean(test_parsed['Rouge_2_f1scores']))\n",
        "print(\"Median for Rouge_2 f1 scores : \", np.median(test_parsed['Rouge_2_f1scores']))"
      ],
      "metadata": {
        "colab": {
          "base_uri": "https://localhost:8080/"
        },
        "id": "-HubxV4eZzyE",
        "outputId": "0a46458c-c451-4e84-8289-d5e0d5f2d33b"
      },
      "execution_count": null,
      "outputs": [
        {
          "output_type": "stream",
          "name": "stdout",
          "text": [
            "Max for Rouge_2 f1 scores    :  0.5777777728987655\n",
            "Min for Rouge_2 f1 scores    :  0.0\n",
            "Mean for Rouge_2 f1 scores   :  0.10564611568567779\n",
            "Median for Rouge_2 f1 scores :  0.07547169351370622\n"
          ]
        }
      ]
    },
    {
      "cell_type": "code",
      "source": [
        "plt.title(\"Rouge_2 f1 scores for two summarizations\")\n",
        "sns.boxplot(x=test_parsed[\"Rouge_2_f1scores\"])"
      ],
      "metadata": {
        "colab": {
          "base_uri": "https://localhost:8080/",
          "height": 319
        },
        "id": "In_gUS9sZ4sh",
        "outputId": "9c2bee0e-ee59-489e-c285-71229ec721e1"
      },
      "execution_count": null,
      "outputs": [
        {
          "output_type": "execute_result",
          "data": {
            "text/plain": [
              "<matplotlib.axes._subplots.AxesSubplot at 0x7fc575aa5850>"
            ]
          },
          "metadata": {},
          "execution_count": 41
        },
        {
          "output_type": "display_data",
          "data": {
            "text/plain": [
              "<Figure size 432x288 with 1 Axes>"
            ],
            "image/png": "[encoded data removed]"
          },
          "metadata": {}
        }
      ]
    },
    {
      "cell_type": "markdown",
      "source": [
        "### Creating a summarization with distilbart-cnn-12-6-samsum"
      ],
      "metadata": {
        "id": "IA8z8CU-f5ma"
      }
    },
    {
      "cell_type": "code",
      "source": [
        "model_name=\"philschmid/distilbart-cnn-12-6-samsum\"\n",
        "test_result = run_summarizer(test_parsed['dialog'].tolist(), model_name)"
      ],
      "metadata": {
        "id": "38D54ZDvSTyT"
      },
      "execution_count": 43,
      "outputs": []
    },
    {
      "cell_type": "code",
      "source": [
        "test_parsed['predicted'] = test_result\n",
        "\n",
        "test_parsed.to_csv('./twcs_test_predicted.csv')"
      ],
      "metadata": {
        "id": "0Oxs1aUuSdc8"
      },
      "execution_count": 13,
      "outputs": []
    },
    {
      "cell_type": "markdown",
      "source": [
        "## Compare Two summarizations with Rouge 1, 2 (cnn-12-6-samsum model)\n"
      ],
      "metadata": {
        "id": "kf5ivl-EiZyI"
      }
    },
    {
      "cell_type": "code",
      "source": [
        "predicted_summaries = []\n",
        "for i in test_parsed['predicted']:\n",
        "  predicted_summaries.append(i[0]['summary_text'])\n",
        "\n",
        "summaries = list(test_parsed['summary'])\n",
        "\n",
        "rouge = Rouge()\n",
        "rouge.get_scores(predicted_summaries, summaries, avg=True)"
      ],
      "metadata": {
        "colab": {
          "base_uri": "https://localhost:8080/"
        },
        "id": "-Gf4sdeleX0F",
        "outputId": "2a8d6c6c-fd7f-4253-ee89-2b8e4558221c"
      },
      "execution_count": 14,
      "outputs": [
        {
          "output_type": "execute_result",
          "data": {
            "text/plain": [
              "{'rouge-1': {'r': 0.3765433369468683,\n",
              "  'p': 0.30912337514497185,\n",
              "  'f': 0.33293488751971356},\n",
              " 'rouge-2': {'r': 0.1476315209507142,\n",
              "  'p': 0.12496764359410285,\n",
              "  'f': 0.13145719812026307},\n",
              " 'rouge-l': {'r': 0.34711125404543186,\n",
              "  'p': 0.2844990331217645,\n",
              "  'f': 0.30650491207974473}}"
            ]
          },
          "metadata": {},
          "execution_count": 14
        }
      ]
    },
    {
      "cell_type": "code",
      "source": [
        "Rouge_1_f1scores_CNN = []\n",
        "Rouge_2_f1scores_CNN = []\n",
        "Rouge_1_f1scores_CNN, Rouge_2_f1scores_CNN = get_rouge1_rouge2_scores_for_bxplot(test_parsed)"
      ],
      "metadata": {
        "id": "bBQcezp0fpnr"
      },
      "execution_count": 28,
      "outputs": []
    },
    {
      "cell_type": "code",
      "source": [
        "print(\"Max for Rouge_1 f1 scores    : \", np.max(Rouge_1_f1scores_CNN))\n",
        "print(\"Min for Rouge_1 f1 scores    : \", np.min(Rouge_1_f1scores_CNN))\n",
        "print(\"Mean for Rouge_1 f1 scores   : \", np.mean(Rouge_1_f1scores_CNN))\n",
        "print(\"Median for Rouge_1 f1 scores : \", np.median(Rouge_1_f1scores_CNN))"
      ],
      "metadata": {
        "colab": {
          "base_uri": "https://localhost:8080/"
        },
        "id": "U9m9zD8NgkT9",
        "outputId": "2fa14e68-0a52-4a27-f39b-df7281ab2555"
      },
      "execution_count": 31,
      "outputs": [
        {
          "output_type": "stream",
          "name": "stdout",
          "text": [
            "Max for Rouge_1 f1 scores    :  0.6842105214854571\n",
            "Min for Rouge_1 f1 scores    :  0.04347825681474518\n",
            "Mean for Rouge_1 f1 scores   :  0.3329348875197135\n",
            "Median for Rouge_1 f1 scores :  0.3278688475678581\n"
          ]
        }
      ]
    },
    {
      "cell_type": "code",
      "source": [
        "sns.set(style=\"darkgrid\")\n",
        "plt.title(\"Rouge 1 f1 scores for cnn-12-6-samsum model\")\n",
        "sns.boxplot(x=Rouge_1_f1scores_CNN)"
      ],
      "metadata": {
        "colab": {
          "base_uri": "https://localhost:8080/",
          "height": 302
        },
        "id": "lN5tF8tNhA6F",
        "outputId": "6763c355-01fb-4698-f8a7-f73c284174b2"
      },
      "execution_count": 39,
      "outputs": [
        {
          "output_type": "execute_result",
          "data": {
            "text/plain": [
              "<matplotlib.axes._subplots.AxesSubplot at 0x7fc1ff219950>"
            ]
          },
          "metadata": {},
          "execution_count": 39
        },
        {
          "output_type": "display_data",
          "data": {
            "text/plain": [
              "<Figure size 432x288 with 1 Axes>"
            ],
            "image/png": "[encoded data removed]"
          },
          "metadata": {}
        }
      ]
    },
    {
      "cell_type": "code",
      "source": [
        "print(\"Max for Rouge_2 f1 scores    : \", np.max(Rouge_2_f1scores_CNN))\n",
        "print(\"Min for Rouge_2 f1 scores    : \", np.min(Rouge_2_f1scores_CNN))\n",
        "print(\"Mean for Rouge_2 f1 scores   : \", np.mean(Rouge_2_f1scores_CNN))\n",
        "print(\"Median for Rouge_2 f1 scores : \", np.median(Rouge_2_f1scores_CNN))"
      ],
      "metadata": {
        "colab": {
          "base_uri": "https://localhost:8080/"
        },
        "id": "XLdFhz3Sh2yO",
        "outputId": "c4cbb54f-19a5-4551-b17d-35481d7cddea"
      },
      "execution_count": 41,
      "outputs": [
        {
          "output_type": "stream",
          "name": "stdout",
          "text": [
            "Max for Rouge_2 f1 scores    :  0.5352112627256498\n",
            "Min for Rouge_2 f1 scores    :  0.0\n",
            "Mean for Rouge_2 f1 scores   :  0.1314571981202631\n",
            "Median for Rouge_2 f1 scores :  0.10810810310810835\n"
          ]
        }
      ]
    },
    {
      "cell_type": "code",
      "source": [
        "sns.set(style=\"darkgrid\")\n",
        "plt.title(\"Rouge 2 f1 scores for cnn-12-6-samsum model\")\n",
        "sns.boxplot(x=Rouge_2_f1scores_CNN)"
      ],
      "metadata": {
        "colab": {
          "base_uri": "https://localhost:8080/",
          "height": 302
        },
        "id": "8sEvoxPQiJiy",
        "outputId": "4fb5928b-89d1-4b32-cd8c-93558be43bf4"
      },
      "execution_count": 42,
      "outputs": [
        {
          "output_type": "execute_result",
          "data": {
            "text/plain": [
              "<matplotlib.axes._subplots.AxesSubplot at 0x7fc1ff1d8e90>"
            ]
          },
          "metadata": {},
          "execution_count": 42
        },
        {
          "output_type": "display_data",
          "data": {
            "text/plain": [
              "<Figure size 432x288 with 1 Axes>"
            ],
            "image/png": "[encoded data removed]"
          },
          "metadata": {}
        }
      ]
    }
  ],
  "metadata": {
    "kernelspec": {
      "display_name": "Python 3.10.4 ('torch')",
      "language": "python",
      "name": "python3"
    },
    "language_info": {
      "codemirror_mode": {
        "name": "ipython",
        "version": 3
      },
      "file_extension": ".py",
      "mimetype": "text/x-python",
      "name": "python",
      "nbconvert_exporter": "python",
      "pygments_lexer": "ipython3",
      "version": "3.10.4"
    },
    "orig_nbformat": 4,
    "vscode": {
      "interpreter": {
        "hash": "0806569fb08f6281673bd527a613de0eff307c0935f5ba0f859440fd02939511"
      }
    },
    "colab": {
      "provenance": [],
      "collapsed_sections": []
    }
  },
  "nbformat": 4,
  "nbformat_minor": 0
}